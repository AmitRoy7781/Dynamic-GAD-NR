{
 "cells": [
  {
   "cell_type": "markdown",
   "id": "bee1db9a-f980-4249-9d2f-5fe3263c22a7",
   "metadata": {},
   "source": [
    "# Installations"
   ]
  },
  {
   "cell_type": "code",
   "execution_count": 2,
   "id": "4f6c84f6-60a5-4c15-8152-fcfdb852df9f",
   "metadata": {},
   "outputs": [
    {
     "name": "stderr",
     "output_type": "stream",
     "text": [
      "====== begin of gnn configuration ======\n",
      "| msg_average = 0\n",
      "======   end of gnn configuration ======\n"
     ]
    }
   ],
   "source": [
    "import sys\n",
    "import os\n",
    "import torch\n",
    "import random\n",
    "import numpy as np\n",
    "from tqdm import tqdm\n",
    "from torch.autograd import Variable\n",
    "from torch.nn.parameter import Parameter\n",
    "import torch.nn as nn\n",
    "import torch.nn.functional as F\n",
    "import torch.optim as optim\n",
    "import math\n",
    "import pdb\n",
    "\n",
    "sys.path.append('/home/roy206/StrGNN/pytorch_DGCNN')\n",
    "from DGCNN_embedding import DGCNN\n",
    "from mlp_dropout import MLPClassifier, MLPRegression\n",
    "from sklearn import metrics\n",
    "from util import cmd_args, load_data\n",
    "from sklearn.metrics import average_precision_score\n",
    "from sklearn.metrics import precision_recall_curve\n",
    "from torch_geometric.utils.convert import to_networkx, from_networkx\n",
    "from pygod.generator import gen_contextual_outlier, gen_structural_outlier\n",
    "from GADNR import *"
   ]
  },
  {
   "cell_type": "markdown",
   "id": "6317c82c-e041-420f-987f-31e495967c4c",
   "metadata": {},
   "source": [
    "# Main"
   ]
  },
  {
   "cell_type": "code",
   "execution_count": 5,
   "id": "226c97d8-f352-47b0-aef8-ee4c8888f3bd",
   "metadata": {
    "scrolled": true,
    "tags": []
   },
   "outputs": [
    {
     "name": "stdout",
     "output_type": "stream",
     "text": [
      "Namespace(cuda=False, data_name='USAir', f='/home/roy206/.local/share/jupyter/runtime/kernel-5846faf1-cc39-4e0a-856f-ce281ccefd6c.json', gpu='1', graph='acc_email.npy', hop=1, max_nodes_per_hop=None, max_train_num=100000, no_cuda=True, seed=42, split='email0.05', test_name=None, test_ratio=0.815, train_name=None, use_attribute=False, use_embedding=False, window=5)\n",
      "# train: 3092, # test: 1286\n",
      "k used in SortPooling is: 43\n",
      "Initializing DGCNN\n"
     ]
    },
    {
     "name": "stderr",
     "output_type": "stream",
     "text": [
      "  0%|          | 0/96 [00:00<?, ?batch/s]"
     ]
    },
    {
     "name": "stdout",
     "output_type": "stream",
     "text": [
      "Dataset Name:  USAir , AUC Score(benchmark/combined):  52.92332825478038\n",
      "Dataset Name:  USAir , AUC Score(contextual):  50.72708919526866\n",
      "Dataset Name:  USAir , AUC Score(structural):  59.093925221369254\n",
      "Dataset Name:  USAir , AUC Score(joint):  49.232630410171794\n",
      "Dataset Name:  USAir , AUC Score(joint_structural):  55.23010356944648\n"
     ]
    },
    {
     "name": "stderr",
     "output_type": "stream",
     "text": [
      "/home/roy206/StrGNN/pytorch_DGCNN/lib/gnn_lib.py:80: UserWarning: torch.sparse.SparseTensor(indices, values, shape, *, device=) is deprecated.  Please use torch.sparse_coo_tensor(indices, values, shape, dtype=, device=). (Triggered internally at ../torch/csrc/utils/tensor_new.cpp:605.)\n",
      "  n2n_sp = torch.sparse.FloatTensor(n2n_idxes, n2n_vals, torch.Size([total_num_nodes, total_num_nodes]))\n",
      "loss: 0.68578 acc: 0.59375:   0%|          | 0/96 [00:11<?, ?batch/s]"
     ]
    },
    {
     "name": "stdout",
     "output_type": "stream",
     "text": [
      "Dataset Name:  USAir , AUC Score(benchmark/combined):  56.22408202445687\n",
      "Dataset Name:  USAir , AUC Score(contextual):  53.27086496865437\n",
      "Dataset Name:  USAir , AUC Score(structural):  59.093925221369254\n",
      "Dataset Name:  USAir , AUC Score(joint):  52.228703529750256\n",
      "Dataset Name:  USAir , AUC Score(joint_structural):  57.07743279848596\n"
     ]
    },
    {
     "name": "stderr",
     "output_type": "stream",
     "text": [
      "loss: 0.69186 acc: 0.62500:   0%|          | 0/96 [00:15<?, ?batch/s]"
     ]
    },
    {
     "name": "stdout",
     "output_type": "stream",
     "text": [
      "Dataset Name:  USAir , AUC Score(benchmark/combined):  60.26575604286864\n",
      "Dataset Name:  USAir , AUC Score(contextual):  55.6415813854046\n",
      "Dataset Name:  USAir , AUC Score(structural):  65.9149671354977\n",
      "Dataset Name:  USAir , AUC Score(joint):  52.228703529750256\n",
      "Dataset Name:  USAir , AUC Score(joint_structural):  62.98785566435718\n"
     ]
    },
    {
     "name": "stderr",
     "output_type": "stream",
     "text": [
      "loss: 0.69200 acc: 0.56250:   0%|          | 0/96 [00:18<?, ?batch/s]"
     ]
    },
    {
     "name": "stdout",
     "output_type": "stream",
     "text": [
      "Dataset Name:  USAir , AUC Score(benchmark/combined):  60.26575604286864\n",
      "Dataset Name:  USAir , AUC Score(contextual):  55.6415813854046\n",
      "Dataset Name:  USAir , AUC Score(structural):  65.9149671354977\n",
      "Dataset Name:  USAir , AUC Score(joint):  52.228703529750256\n",
      "Dataset Name:  USAir , AUC Score(joint_structural):  62.98785566435718\n"
     ]
    },
    {
     "name": "stderr",
     "output_type": "stream",
     "text": [
      "loss: 0.69488 acc: 0.43750:   0%|          | 0/96 [00:23<?, ?batch/s]"
     ]
    },
    {
     "name": "stdout",
     "output_type": "stream",
     "text": [
      "Dataset Name:  USAir , AUC Score(benchmark/combined):  60.26575604286864\n",
      "Dataset Name:  USAir , AUC Score(contextual):  55.6415813854046\n",
      "Dataset Name:  USAir , AUC Score(structural):  65.9149671354977\n",
      "Dataset Name:  USAir , AUC Score(joint):  54.20132900766128\n",
      "Dataset Name:  USAir , AUC Score(joint_structural):  62.98785566435718\n"
     ]
    },
    {
     "name": "stderr",
     "output_type": "stream",
     "text": [
      "loss: 0.69059 acc: 0.50000:   0%|          | 0/96 [00:28<?, ?batch/s]"
     ]
    },
    {
     "name": "stdout",
     "output_type": "stream",
     "text": [
      "Dataset Name:  USAir , AUC Score(benchmark/combined):  60.26575604286864\n",
      "Dataset Name:  USAir , AUC Score(contextual):  55.6415813854046\n",
      "Dataset Name:  USAir , AUC Score(structural):  65.9149671354977\n",
      "Dataset Name:  USAir , AUC Score(joint):  54.20132900766128\n",
      "Dataset Name:  USAir , AUC Score(joint_structural):  62.98785566435718\n"
     ]
    },
    {
     "name": "stderr",
     "output_type": "stream",
     "text": [
      "loss: 0.69931 acc: 0.40625:   0%|          | 0/96 [00:32<?, ?batch/s]"
     ]
    },
    {
     "name": "stdout",
     "output_type": "stream",
     "text": [
      "Dataset Name:  USAir , AUC Score(benchmark/combined):  60.26575604286864\n",
      "Dataset Name:  USAir , AUC Score(contextual):  55.6415813854046\n",
      "Dataset Name:  USAir , AUC Score(structural):  65.9149671354977\n",
      "Dataset Name:  USAir , AUC Score(joint):  54.20132900766128\n",
      "Dataset Name:  USAir , AUC Score(joint_structural):  62.98785566435718\n"
     ]
    },
    {
     "name": "stderr",
     "output_type": "stream",
     "text": [
      "loss: 0.69541 acc: 0.50000:   0%|          | 0/96 [00:36<?, ?batch/s]"
     ]
    },
    {
     "name": "stdout",
     "output_type": "stream",
     "text": [
      "Dataset Name:  USAir , AUC Score(benchmark/combined):  60.26575604286864\n",
      "Dataset Name:  USAir , AUC Score(contextual):  55.6415813854046\n",
      "Dataset Name:  USAir , AUC Score(structural):  65.9149671354977\n",
      "Dataset Name:  USAir , AUC Score(joint):  54.20132900766128\n",
      "Dataset Name:  USAir , AUC Score(joint_structural):  62.98785566435718\n"
     ]
    },
    {
     "name": "stderr",
     "output_type": "stream",
     "text": [
      "loss: 0.69463 acc: 0.37500:   0%|          | 0/96 [00:41<?, ?batch/s]"
     ]
    },
    {
     "name": "stdout",
     "output_type": "stream",
     "text": [
      "Dataset Name:  USAir , AUC Score(benchmark/combined):  60.26575604286864\n",
      "Dataset Name:  USAir , AUC Score(contextual):  55.6415813854046\n",
      "Dataset Name:  USAir , AUC Score(structural):  65.9149671354977\n",
      "Dataset Name:  USAir , AUC Score(joint):  54.20132900766128\n",
      "Dataset Name:  USAir , AUC Score(joint_structural):  62.98785566435718\n"
     ]
    },
    {
     "name": "stderr",
     "output_type": "stream",
     "text": [
      "loss: 0.69638 acc: 0.43750:   0%|          | 0/96 [00:45<?, ?batch/s]"
     ]
    },
    {
     "name": "stdout",
     "output_type": "stream",
     "text": [
      "Dataset Name:  USAir , AUC Score(benchmark/combined):  60.26575604286864\n",
      "Dataset Name:  USAir , AUC Score(contextual):  55.6415813854046\n",
      "Dataset Name:  USAir , AUC Score(structural):  65.9149671354977\n",
      "Dataset Name:  USAir , AUC Score(joint):  54.20132900766128\n",
      "Dataset Name:  USAir , AUC Score(joint_structural):  62.98785566435718\n"
     ]
    },
    {
     "name": "stderr",
     "output_type": "stream",
     "text": [
      "loss: 0.69358 acc: 0.46875:   0%|          | 0/96 [00:49<?, ?batch/s]"
     ]
    },
    {
     "name": "stdout",
     "output_type": "stream",
     "text": [
      "Dataset Name:  USAir , AUC Score(benchmark/combined):  60.26575604286864\n",
      "Dataset Name:  USAir , AUC Score(contextual):  55.6415813854046\n",
      "Dataset Name:  USAir , AUC Score(structural):  65.9149671354977\n",
      "Dataset Name:  USAir , AUC Score(joint):  54.20132900766128\n",
      "Dataset Name:  USAir , AUC Score(joint_structural):  62.98785566435718\n"
     ]
    },
    {
     "name": "stderr",
     "output_type": "stream",
     "text": [
      "loss: 0.69206 acc: 0.53125:   0%|          | 0/96 [00:54<?, ?batch/s]"
     ]
    },
    {
     "name": "stdout",
     "output_type": "stream",
     "text": [
      "Dataset Name:  USAir , AUC Score(benchmark/combined):  60.26575604286864\n",
      "Dataset Name:  USAir , AUC Score(contextual):  55.6415813854046\n",
      "Dataset Name:  USAir , AUC Score(structural):  65.9149671354977\n",
      "Dataset Name:  USAir , AUC Score(joint):  54.20132900766128\n",
      "Dataset Name:  USAir , AUC Score(joint_structural):  62.98785566435718\n"
     ]
    },
    {
     "name": "stderr",
     "output_type": "stream",
     "text": [
      "loss: 0.68801 acc: 0.56250:   0%|          | 0/96 [00:59<?, ?batch/s]"
     ]
    },
    {
     "name": "stdout",
     "output_type": "stream",
     "text": [
      "Dataset Name:  USAir , AUC Score(benchmark/combined):  60.26575604286864\n",
      "Dataset Name:  USAir , AUC Score(contextual):  55.6415813854046\n",
      "Dataset Name:  USAir , AUC Score(structural):  65.9149671354977\n",
      "Dataset Name:  USAir , AUC Score(joint):  54.20132900766128\n",
      "Dataset Name:  USAir , AUC Score(joint_structural):  62.98785566435718\n"
     ]
    },
    {
     "name": "stderr",
     "output_type": "stream",
     "text": [
      "loss: 0.69108 acc: 0.56250:   0%|          | 0/96 [01:04<?, ?batch/s]"
     ]
    },
    {
     "name": "stdout",
     "output_type": "stream",
     "text": [
      "Dataset Name:  USAir , AUC Score(benchmark/combined):  60.26575604286864\n",
      "Dataset Name:  USAir , AUC Score(contextual):  55.6415813854046\n",
      "Dataset Name:  USAir , AUC Score(structural):  65.9149671354977\n",
      "Dataset Name:  USAir , AUC Score(joint):  54.20132900766128\n",
      "Dataset Name:  USAir , AUC Score(joint_structural):  62.98785566435718\n"
     ]
    },
    {
     "name": "stderr",
     "output_type": "stream",
     "text": [
      "loss: 0.69425 acc: 0.50000:   0%|          | 0/96 [01:08<?, ?batch/s]"
     ]
    },
    {
     "name": "stdout",
     "output_type": "stream",
     "text": [
      "Dataset Name:  USAir , AUC Score(benchmark/combined):  60.26575604286864\n",
      "Dataset Name:  USAir , AUC Score(contextual):  55.6415813854046\n",
      "Dataset Name:  USAir , AUC Score(structural):  65.9149671354977\n",
      "Dataset Name:  USAir , AUC Score(joint):  54.20132900766128\n",
      "Dataset Name:  USAir , AUC Score(joint_structural):  62.98785566435718\n"
     ]
    },
    {
     "name": "stderr",
     "output_type": "stream",
     "text": [
      "loss: 0.69594 acc: 0.43750:   0%|          | 0/96 [01:13<?, ?batch/s]"
     ]
    },
    {
     "name": "stdout",
     "output_type": "stream",
     "text": [
      "Dataset Name:  USAir , AUC Score(benchmark/combined):  60.26575604286864\n",
      "Dataset Name:  USAir , AUC Score(contextual):  55.987558396790696\n",
      "Dataset Name:  USAir , AUC Score(structural):  65.9149671354977\n",
      "Dataset Name:  USAir , AUC Score(joint):  54.20132900766128\n",
      "Dataset Name:  USAir , AUC Score(joint_structural):  62.98785566435718\n"
     ]
    },
    {
     "name": "stderr",
     "output_type": "stream",
     "text": [
      "loss: 0.69073 acc: 0.46875:   0%|          | 0/96 [01:17<?, ?batch/s]"
     ]
    },
    {
     "name": "stdout",
     "output_type": "stream",
     "text": [
      "Dataset Name:  USAir , AUC Score(benchmark/combined):  60.26575604286864\n",
      "Dataset Name:  USAir , AUC Score(contextual):  55.987558396790696\n",
      "Dataset Name:  USAir , AUC Score(structural):  65.9149671354977\n",
      "Dataset Name:  USAir , AUC Score(joint):  54.20132900766128\n",
      "Dataset Name:  USAir , AUC Score(joint_structural):  62.98785566435718\n"
     ]
    },
    {
     "name": "stderr",
     "output_type": "stream",
     "text": [
      "loss: 0.68972 acc: 0.50000:   0%|          | 0/96 [01:22<?, ?batch/s]"
     ]
    },
    {
     "name": "stdout",
     "output_type": "stream",
     "text": [
      "Dataset Name:  USAir , AUC Score(benchmark/combined):  60.26575604286864\n",
      "Dataset Name:  USAir , AUC Score(contextual):  55.987558396790696\n",
      "Dataset Name:  USAir , AUC Score(structural):  65.9149671354977\n",
      "Dataset Name:  USAir , AUC Score(joint):  54.20132900766128\n",
      "Dataset Name:  USAir , AUC Score(joint_structural):  62.98785566435718\n"
     ]
    },
    {
     "name": "stderr",
     "output_type": "stream",
     "text": [
      "loss: 0.68512 acc: 0.65625:   0%|          | 0/96 [01:27<?, ?batch/s]"
     ]
    },
    {
     "name": "stdout",
     "output_type": "stream",
     "text": [
      "Dataset Name:  USAir , AUC Score(benchmark/combined):  60.26575604286864\n",
      "Dataset Name:  USAir , AUC Score(contextual):  55.987558396790696\n",
      "Dataset Name:  USAir , AUC Score(structural):  65.9149671354977\n",
      "Dataset Name:  USAir , AUC Score(joint):  54.20132900766128\n",
      "Dataset Name:  USAir , AUC Score(joint_structural):  62.98785566435718\n"
     ]
    },
    {
     "name": "stderr",
     "output_type": "stream",
     "text": [
      "loss: 0.68973 acc: 0.68750:   0%|          | 0/96 [01:32<?, ?batch/s]"
     ]
    },
    {
     "name": "stdout",
     "output_type": "stream",
     "text": [
      "Dataset Name:  USAir , AUC Score(benchmark/combined):  60.26575604286864\n",
      "Dataset Name:  USAir , AUC Score(contextual):  55.987558396790696\n",
      "Dataset Name:  USAir , AUC Score(structural):  65.9149671354977\n",
      "Dataset Name:  USAir , AUC Score(joint):  54.20132900766128\n",
      "Dataset Name:  USAir , AUC Score(joint_structural):  62.98785566435718\n"
     ]
    },
    {
     "name": "stderr",
     "output_type": "stream",
     "text": [
      "loss: 0.69417 acc: 0.50000:   0%|          | 0/96 [01:37<?, ?batch/s]"
     ]
    },
    {
     "name": "stdout",
     "output_type": "stream",
     "text": [
      "Dataset Name:  USAir , AUC Score(benchmark/combined):  60.26575604286864\n",
      "Dataset Name:  USAir , AUC Score(contextual):  55.987558396790696\n",
      "Dataset Name:  USAir , AUC Score(structural):  65.9149671354977\n",
      "Dataset Name:  USAir , AUC Score(joint):  54.20132900766128\n",
      "Dataset Name:  USAir , AUC Score(joint_structural):  62.98785566435718\n"
     ]
    },
    {
     "name": "stderr",
     "output_type": "stream",
     "text": [
      "loss: 0.69982 acc: 0.40625:   0%|          | 0/96 [01:41<?, ?batch/s]"
     ]
    },
    {
     "name": "stdout",
     "output_type": "stream",
     "text": [
      "Dataset Name:  USAir , AUC Score(benchmark/combined):  60.26575604286864\n",
      "Dataset Name:  USAir , AUC Score(contextual):  55.987558396790696\n",
      "Dataset Name:  USAir , AUC Score(structural):  65.9149671354977\n",
      "Dataset Name:  USAir , AUC Score(joint):  54.20132900766128\n",
      "Dataset Name:  USAir , AUC Score(joint_structural):  62.98785566435718\n"
     ]
    },
    {
     "name": "stderr",
     "output_type": "stream",
     "text": [
      "loss: 0.69047 acc: 0.46875:   0%|          | 0/96 [01:46<?, ?batch/s]"
     ]
    },
    {
     "name": "stdout",
     "output_type": "stream",
     "text": [
      "Dataset Name:  USAir , AUC Score(benchmark/combined):  60.26575604286864\n",
      "Dataset Name:  USAir , AUC Score(contextual):  55.987558396790696\n",
      "Dataset Name:  USAir , AUC Score(structural):  65.9149671354977\n",
      "Dataset Name:  USAir , AUC Score(joint):  54.20132900766128\n",
      "Dataset Name:  USAir , AUC Score(joint_structural):  62.98785566435718\n"
     ]
    },
    {
     "name": "stderr",
     "output_type": "stream",
     "text": [
      "loss: 0.69486 acc: 0.53125:   0%|          | 0/96 [01:51<?, ?batch/s]"
     ]
    },
    {
     "name": "stdout",
     "output_type": "stream",
     "text": [
      "Dataset Name:  USAir , AUC Score(benchmark/combined):  60.26575604286864\n",
      "Dataset Name:  USAir , AUC Score(contextual):  55.987558396790696\n",
      "Dataset Name:  USAir , AUC Score(structural):  65.9149671354977\n",
      "Dataset Name:  USAir , AUC Score(joint):  54.20132900766128\n",
      "Dataset Name:  USAir , AUC Score(joint_structural):  62.98785566435718\n"
     ]
    },
    {
     "name": "stderr",
     "output_type": "stream",
     "text": [
      "loss: 0.69348 acc: 0.56250:   0%|          | 0/96 [01:56<?, ?batch/s]"
     ]
    },
    {
     "name": "stdout",
     "output_type": "stream",
     "text": [
      "Dataset Name:  USAir , AUC Score(benchmark/combined):  60.26575604286864\n",
      "Dataset Name:  USAir , AUC Score(contextual):  55.987558396790696\n",
      "Dataset Name:  USAir , AUC Score(structural):  65.9149671354977\n",
      "Dataset Name:  USAir , AUC Score(joint):  54.20132900766128\n",
      "Dataset Name:  USAir , AUC Score(joint_structural):  62.98785566435718\n"
     ]
    },
    {
     "name": "stderr",
     "output_type": "stream",
     "text": [
      "loss: 0.68563 acc: 0.65625:   0%|          | 0/96 [02:01<?, ?batch/s]"
     ]
    },
    {
     "name": "stdout",
     "output_type": "stream",
     "text": [
      "Dataset Name:  USAir , AUC Score(benchmark/combined):  60.26575604286864\n",
      "Dataset Name:  USAir , AUC Score(contextual):  55.987558396790696\n",
      "Dataset Name:  USAir , AUC Score(structural):  65.9149671354977\n",
      "Dataset Name:  USAir , AUC Score(joint):  54.20132900766128\n",
      "Dataset Name:  USAir , AUC Score(joint_structural):  62.98785566435718\n"
     ]
    },
    {
     "name": "stderr",
     "output_type": "stream",
     "text": [
      "loss: 0.70108 acc: 0.34375:   0%|          | 0/96 [02:05<?, ?batch/s]"
     ]
    },
    {
     "name": "stdout",
     "output_type": "stream",
     "text": [
      "Dataset Name:  USAir , AUC Score(benchmark/combined):  60.26575604286864\n",
      "Dataset Name:  USAir , AUC Score(contextual):  55.987558396790696\n",
      "Dataset Name:  USAir , AUC Score(structural):  65.9149671354977\n",
      "Dataset Name:  USAir , AUC Score(joint):  54.80584520881547\n",
      "Dataset Name:  USAir , AUC Score(joint_structural):  62.98785566435718\n"
     ]
    },
    {
     "name": "stderr",
     "output_type": "stream",
     "text": [
      "loss: 0.69103 acc: 0.53125:   0%|          | 0/96 [02:10<?, ?batch/s]"
     ]
    },
    {
     "name": "stdout",
     "output_type": "stream",
     "text": [
      "Dataset Name:  USAir , AUC Score(benchmark/combined):  60.26575604286864\n",
      "Dataset Name:  USAir , AUC Score(contextual):  55.987558396790696\n",
      "Dataset Name:  USAir , AUC Score(structural):  65.9149671354977\n",
      "Dataset Name:  USAir , AUC Score(joint):  54.80584520881547\n",
      "Dataset Name:  USAir , AUC Score(joint_structural):  62.98785566435718\n"
     ]
    },
    {
     "name": "stderr",
     "output_type": "stream",
     "text": [
      "loss: 0.69193 acc: 0.56250:   0%|          | 0/96 [02:15<?, ?batch/s]"
     ]
    },
    {
     "name": "stdout",
     "output_type": "stream",
     "text": [
      "Dataset Name:  USAir , AUC Score(benchmark/combined):  60.26575604286864\n",
      "Dataset Name:  USAir , AUC Score(contextual):  55.987558396790696\n",
      "Dataset Name:  USAir , AUC Score(structural):  65.9149671354977\n",
      "Dataset Name:  USAir , AUC Score(joint):  54.80584520881547\n",
      "Dataset Name:  USAir , AUC Score(joint_structural):  62.98785566435718\n"
     ]
    },
    {
     "name": "stderr",
     "output_type": "stream",
     "text": [
      "loss: 0.69795 acc: 0.34375:   0%|          | 0/96 [02:20<?, ?batch/s]"
     ]
    },
    {
     "name": "stdout",
     "output_type": "stream",
     "text": [
      "Dataset Name:  USAir , AUC Score(benchmark/combined):  60.26575604286864\n",
      "Dataset Name:  USAir , AUC Score(contextual):  55.987558396790696\n",
      "Dataset Name:  USAir , AUC Score(structural):  65.9149671354977\n",
      "Dataset Name:  USAir , AUC Score(joint):  54.80584520881547\n",
      "Dataset Name:  USAir , AUC Score(joint_structural):  62.98785566435718\n"
     ]
    },
    {
     "name": "stderr",
     "output_type": "stream",
     "text": [
      "loss: 0.68286 acc: 0.56250:   0%|          | 0/96 [02:24<?, ?batch/s]"
     ]
    },
    {
     "name": "stdout",
     "output_type": "stream",
     "text": [
      "Dataset Name:  USAir , AUC Score(benchmark/combined):  60.26575604286864\n",
      "Dataset Name:  USAir , AUC Score(contextual):  55.987558396790696\n",
      "Dataset Name:  USAir , AUC Score(structural):  65.9149671354977\n",
      "Dataset Name:  USAir , AUC Score(joint):  54.80584520881547\n",
      "Dataset Name:  USAir , AUC Score(joint_structural):  62.98785566435718\n"
     ]
    },
    {
     "name": "stderr",
     "output_type": "stream",
     "text": [
      "loss: 0.68940 acc: 0.56250:   0%|          | 0/96 [02:29<?, ?batch/s]"
     ]
    },
    {
     "name": "stdout",
     "output_type": "stream",
     "text": [
      "Dataset Name:  USAir , AUC Score(benchmark/combined):  60.26575604286864\n",
      "Dataset Name:  USAir , AUC Score(contextual):  55.987558396790696\n",
      "Dataset Name:  USAir , AUC Score(structural):  65.9149671354977\n",
      "Dataset Name:  USAir , AUC Score(joint):  54.80584520881547\n",
      "Dataset Name:  USAir , AUC Score(joint_structural):  62.98785566435718\n"
     ]
    },
    {
     "name": "stderr",
     "output_type": "stream",
     "text": [
      "loss: 0.68440 acc: 0.75000:   0%|          | 0/96 [02:34<?, ?batch/s]"
     ]
    },
    {
     "name": "stdout",
     "output_type": "stream",
     "text": [
      "Dataset Name:  USAir , AUC Score(benchmark/combined):  60.26575604286864\n",
      "Dataset Name:  USAir , AUC Score(contextual):  55.987558396790696\n",
      "Dataset Name:  USAir , AUC Score(structural):  65.9149671354977\n",
      "Dataset Name:  USAir , AUC Score(joint):  54.80584520881547\n",
      "Dataset Name:  USAir , AUC Score(joint_structural):  62.98785566435718\n"
     ]
    },
    {
     "name": "stderr",
     "output_type": "stream",
     "text": [
      "loss: 0.69134 acc: 0.46875:   0%|          | 0/96 [02:38<?, ?batch/s]"
     ]
    },
    {
     "name": "stdout",
     "output_type": "stream",
     "text": [
      "Dataset Name:  USAir , AUC Score(benchmark/combined):  60.26575604286864\n",
      "Dataset Name:  USAir , AUC Score(contextual):  55.987558396790696\n",
      "Dataset Name:  USAir , AUC Score(structural):  65.9149671354977\n",
      "Dataset Name:  USAir , AUC Score(joint):  54.80584520881547\n",
      "Dataset Name:  USAir , AUC Score(joint_structural):  62.98785566435718\n"
     ]
    },
    {
     "name": "stderr",
     "output_type": "stream",
     "text": [
      "loss: 0.68792 acc: 0.56250:   0%|          | 0/96 [02:43<?, ?batch/s]"
     ]
    },
    {
     "name": "stdout",
     "output_type": "stream",
     "text": [
      "Dataset Name:  USAir , AUC Score(benchmark/combined):  60.26575604286864\n",
      "Dataset Name:  USAir , AUC Score(contextual):  55.987558396790696\n",
      "Dataset Name:  USAir , AUC Score(structural):  65.9149671354977\n",
      "Dataset Name:  USAir , AUC Score(joint):  54.80584520881547\n",
      "Dataset Name:  USAir , AUC Score(joint_structural):  62.98785566435718\n"
     ]
    },
    {
     "name": "stderr",
     "output_type": "stream",
     "text": [
      "loss: 0.69452 acc: 0.56250:   0%|          | 0/96 [02:47<?, ?batch/s]"
     ]
    },
    {
     "name": "stdout",
     "output_type": "stream",
     "text": [
      "Dataset Name:  USAir , AUC Score(benchmark/combined):  60.26575604286864\n",
      "Dataset Name:  USAir , AUC Score(contextual):  55.987558396790696\n",
      "Dataset Name:  USAir , AUC Score(structural):  65.9149671354977\n",
      "Dataset Name:  USAir , AUC Score(joint):  54.80584520881547\n",
      "Dataset Name:  USAir , AUC Score(joint_structural):  62.98785566435718\n"
     ]
    },
    {
     "name": "stderr",
     "output_type": "stream",
     "text": [
      "loss: 0.69016 acc: 0.50000:   0%|          | 0/96 [02:52<?, ?batch/s]"
     ]
    },
    {
     "name": "stdout",
     "output_type": "stream",
     "text": [
      "Dataset Name:  USAir , AUC Score(benchmark/combined):  60.26575604286864\n",
      "Dataset Name:  USAir , AUC Score(contextual):  55.987558396790696\n",
      "Dataset Name:  USAir , AUC Score(structural):  67.66635663673985\n",
      "Dataset Name:  USAir , AUC Score(joint):  54.80584520881547\n",
      "Dataset Name:  USAir , AUC Score(joint_structural):  62.98785566435718\n"
     ]
    },
    {
     "name": "stderr",
     "output_type": "stream",
     "text": [
      "loss: 0.68836 acc: 0.53125:   0%|          | 0/96 [02:57<?, ?batch/s]"
     ]
    },
    {
     "name": "stdout",
     "output_type": "stream",
     "text": [
      "Dataset Name:  USAir , AUC Score(benchmark/combined):  60.26575604286864\n",
      "Dataset Name:  USAir , AUC Score(contextual):  55.987558396790696\n",
      "Dataset Name:  USAir , AUC Score(structural):  67.66635663673985\n",
      "Dataset Name:  USAir , AUC Score(joint):  54.80584520881547\n",
      "Dataset Name:  USAir , AUC Score(joint_structural):  62.98785566435718\n"
     ]
    },
    {
     "name": "stderr",
     "output_type": "stream",
     "text": [
      "loss: 0.69142 acc: 0.53125:   0%|          | 0/96 [03:02<?, ?batch/s]"
     ]
    },
    {
     "name": "stdout",
     "output_type": "stream",
     "text": [
      "Dataset Name:  USAir , AUC Score(benchmark/combined):  60.26575604286864\n",
      "Dataset Name:  USAir , AUC Score(contextual):  55.987558396790696\n",
      "Dataset Name:  USAir , AUC Score(structural):  67.66635663673985\n",
      "Dataset Name:  USAir , AUC Score(joint):  54.80584520881547\n",
      "Dataset Name:  USAir , AUC Score(joint_structural):  62.98785566435718\n"
     ]
    },
    {
     "name": "stderr",
     "output_type": "stream",
     "text": [
      "loss: 0.68904 acc: 0.56250:   0%|          | 0/96 [03:07<?, ?batch/s]"
     ]
    },
    {
     "name": "stdout",
     "output_type": "stream",
     "text": [
      "Dataset Name:  USAir , AUC Score(benchmark/combined):  60.26575604286864\n",
      "Dataset Name:  USAir , AUC Score(contextual):  55.987558396790696\n",
      "Dataset Name:  USAir , AUC Score(structural):  67.66635663673985\n",
      "Dataset Name:  USAir , AUC Score(joint):  54.80584520881547\n",
      "Dataset Name:  USAir , AUC Score(joint_structural):  62.98785566435718\n"
     ]
    },
    {
     "name": "stderr",
     "output_type": "stream",
     "text": [
      "loss: 0.68511 acc: 0.59375:   0%|          | 0/96 [03:12<?, ?batch/s]"
     ]
    },
    {
     "name": "stdout",
     "output_type": "stream",
     "text": [
      "Dataset Name:  USAir , AUC Score(benchmark/combined):  60.26575604286864\n",
      "Dataset Name:  USAir , AUC Score(contextual):  55.987558396790696\n",
      "Dataset Name:  USAir , AUC Score(structural):  67.66635663673985\n",
      "Dataset Name:  USAir , AUC Score(joint):  54.80584520881547\n",
      "Dataset Name:  USAir , AUC Score(joint_structural):  62.98785566435718\n"
     ]
    },
    {
     "name": "stderr",
     "output_type": "stream",
     "text": [
      "loss: 0.68520 acc: 0.59375:   0%|          | 0/96 [03:17<?, ?batch/s]"
     ]
    },
    {
     "name": "stdout",
     "output_type": "stream",
     "text": [
      "Dataset Name:  USAir , AUC Score(benchmark/combined):  60.26575604286864\n",
      "Dataset Name:  USAir , AUC Score(contextual):  55.987558396790696\n",
      "Dataset Name:  USAir , AUC Score(structural):  67.66635663673985\n",
      "Dataset Name:  USAir , AUC Score(joint):  54.80584520881547\n",
      "Dataset Name:  USAir , AUC Score(joint_structural):  62.98785566435718\n"
     ]
    },
    {
     "name": "stderr",
     "output_type": "stream",
     "text": [
      "loss: 0.69016 acc: 0.65625:   0%|          | 0/96 [03:21<?, ?batch/s]"
     ]
    },
    {
     "name": "stdout",
     "output_type": "stream",
     "text": [
      "Dataset Name:  USAir , AUC Score(benchmark/combined):  60.26575604286864\n",
      "Dataset Name:  USAir , AUC Score(contextual):  55.987558396790696\n",
      "Dataset Name:  USAir , AUC Score(structural):  67.66635663673985\n",
      "Dataset Name:  USAir , AUC Score(joint):  54.80584520881547\n",
      "Dataset Name:  USAir , AUC Score(joint_structural):  62.98785566435718\n"
     ]
    },
    {
     "name": "stderr",
     "output_type": "stream",
     "text": [
      "loss: 0.68201 acc: 0.62500:   0%|          | 0/96 [03:26<?, ?batch/s]"
     ]
    },
    {
     "name": "stdout",
     "output_type": "stream",
     "text": [
      "Dataset Name:  USAir , AUC Score(benchmark/combined):  60.26575604286864\n",
      "Dataset Name:  USAir , AUC Score(contextual):  55.987558396790696\n",
      "Dataset Name:  USAir , AUC Score(structural):  67.66635663673985\n",
      "Dataset Name:  USAir , AUC Score(joint):  54.80584520881547\n",
      "Dataset Name:  USAir , AUC Score(joint_structural):  62.98785566435718\n"
     ]
    },
    {
     "name": "stderr",
     "output_type": "stream",
     "text": [
      "loss: 0.68243 acc: 0.59375:   0%|          | 0/96 [03:31<?, ?batch/s]"
     ]
    },
    {
     "name": "stdout",
     "output_type": "stream",
     "text": [
      "Dataset Name:  USAir , AUC Score(benchmark/combined):  60.26575604286864\n",
      "Dataset Name:  USAir , AUC Score(contextual):  55.987558396790696\n",
      "Dataset Name:  USAir , AUC Score(structural):  67.66635663673985\n",
      "Dataset Name:  USAir , AUC Score(joint):  54.80584520881547\n",
      "Dataset Name:  USAir , AUC Score(joint_structural):  62.98785566435718\n"
     ]
    },
    {
     "name": "stderr",
     "output_type": "stream",
     "text": [
      "loss: 0.66839 acc: 0.71875:   0%|          | 0/96 [03:36<?, ?batch/s]"
     ]
    },
    {
     "name": "stdout",
     "output_type": "stream",
     "text": [
      "Dataset Name:  USAir , AUC Score(benchmark/combined):  60.26575604286864\n",
      "Dataset Name:  USAir , AUC Score(contextual):  55.987558396790696\n",
      "Dataset Name:  USAir , AUC Score(structural):  67.66635663673985\n",
      "Dataset Name:  USAir , AUC Score(joint):  54.80584520881547\n",
      "Dataset Name:  USAir , AUC Score(joint_structural):  62.98785566435718\n"
     ]
    },
    {
     "name": "stderr",
     "output_type": "stream",
     "text": [
      "loss: 0.68552 acc: 0.68750:   0%|          | 0/96 [03:39<?, ?batch/s]"
     ]
    },
    {
     "name": "stdout",
     "output_type": "stream",
     "text": [
      "Dataset Name:  USAir , AUC Score(benchmark/combined):  60.26575604286864\n",
      "Dataset Name:  USAir , AUC Score(contextual):  55.987558396790696\n",
      "Dataset Name:  USAir , AUC Score(structural):  67.66635663673985\n",
      "Dataset Name:  USAir , AUC Score(joint):  54.80584520881547\n",
      "Dataset Name:  USAir , AUC Score(joint_structural):  62.98785566435718\n"
     ]
    },
    {
     "name": "stderr",
     "output_type": "stream",
     "text": [
      "loss: 0.66736 acc: 0.71875:   0%|          | 0/96 [03:44<?, ?batch/s]"
     ]
    },
    {
     "name": "stdout",
     "output_type": "stream",
     "text": [
      "Dataset Name:  USAir , AUC Score(benchmark/combined):  60.26575604286864\n",
      "Dataset Name:  USAir , AUC Score(contextual):  55.987558396790696\n",
      "Dataset Name:  USAir , AUC Score(structural):  67.66635663673985\n",
      "Dataset Name:  USAir , AUC Score(joint):  54.80584520881547\n",
      "Dataset Name:  USAir , AUC Score(joint_structural):  62.98785566435718\n"
     ]
    },
    {
     "name": "stderr",
     "output_type": "stream",
     "text": [
      "loss: 0.68865 acc: 0.62500:   0%|          | 0/96 [03:47<?, ?batch/s]"
     ]
    },
    {
     "name": "stdout",
     "output_type": "stream",
     "text": [
      "Dataset Name:  USAir , AUC Score(benchmark/combined):  60.26575604286864\n",
      "Dataset Name:  USAir , AUC Score(contextual):  55.987558396790696\n",
      "Dataset Name:  USAir , AUC Score(structural):  67.66635663673985\n",
      "Dataset Name:  USAir , AUC Score(joint):  54.80584520881547\n",
      "Dataset Name:  USAir , AUC Score(joint_structural):  62.98785566435718\n"
     ]
    },
    {
     "name": "stderr",
     "output_type": "stream",
     "text": [
      "loss: 0.67392 acc: 0.78125:   0%|          | 0/96 [03:51<?, ?batch/s]"
     ]
    },
    {
     "name": "stdout",
     "output_type": "stream",
     "text": [
      "Dataset Name:  USAir , AUC Score(benchmark/combined):  60.26575604286864\n",
      "Dataset Name:  USAir , AUC Score(contextual):  55.987558396790696\n",
      "Dataset Name:  USAir , AUC Score(structural):  67.66635663673985\n",
      "Dataset Name:  USAir , AUC Score(joint):  54.80584520881547\n",
      "Dataset Name:  USAir , AUC Score(joint_structural):  62.98785566435718\n"
     ]
    },
    {
     "name": "stderr",
     "output_type": "stream",
     "text": [
      "loss: 0.68041 acc: 0.59375:   0%|          | 0/96 [03:56<?, ?batch/s]"
     ]
    },
    {
     "name": "stdout",
     "output_type": "stream",
     "text": [
      "Dataset Name:  USAir , AUC Score(benchmark/combined):  60.26575604286864\n",
      "Dataset Name:  USAir , AUC Score(contextual):  55.987558396790696\n",
      "Dataset Name:  USAir , AUC Score(structural):  67.66635663673985\n",
      "Dataset Name:  USAir , AUC Score(joint):  54.80584520881547\n",
      "Dataset Name:  USAir , AUC Score(joint_structural):  62.98785566435718\n"
     ]
    },
    {
     "name": "stderr",
     "output_type": "stream",
     "text": [
      "loss: 0.65899 acc: 0.75000:   0%|          | 0/96 [04:01<?, ?batch/s]"
     ]
    },
    {
     "name": "stdout",
     "output_type": "stream",
     "text": [
      "Dataset Name:  USAir , AUC Score(benchmark/combined):  60.26575604286864\n",
      "Dataset Name:  USAir , AUC Score(contextual):  55.987558396790696\n",
      "Dataset Name:  USAir , AUC Score(structural):  67.66635663673985\n",
      "Dataset Name:  USAir , AUC Score(joint):  54.80584520881547\n",
      "Dataset Name:  USAir , AUC Score(joint_structural):  62.98785566435718\n"
     ]
    },
    {
     "name": "stderr",
     "output_type": "stream",
     "text": [
      "loss: 0.68657 acc: 0.56250:   0%|          | 0/96 [04:05<?, ?batch/s]"
     ]
    },
    {
     "name": "stdout",
     "output_type": "stream",
     "text": [
      "Dataset Name:  USAir , AUC Score(benchmark/combined):  60.26575604286864\n",
      "Dataset Name:  USAir , AUC Score(contextual):  55.987558396790696\n",
      "Dataset Name:  USAir , AUC Score(structural):  67.66635663673985\n",
      "Dataset Name:  USAir , AUC Score(joint):  54.80584520881547\n",
      "Dataset Name:  USAir , AUC Score(joint_structural):  62.98785566435718\n"
     ]
    },
    {
     "name": "stderr",
     "output_type": "stream",
     "text": [
      "loss: 0.67400 acc: 0.71875:   0%|          | 0/96 [04:09<?, ?batch/s]"
     ]
    },
    {
     "name": "stdout",
     "output_type": "stream",
     "text": [
      "Dataset Name:  USAir , AUC Score(benchmark/combined):  60.26575604286864\n",
      "Dataset Name:  USAir , AUC Score(contextual):  55.987558396790696\n",
      "Dataset Name:  USAir , AUC Score(structural):  67.66635663673985\n",
      "Dataset Name:  USAir , AUC Score(joint):  54.80584520881547\n",
      "Dataset Name:  USAir , AUC Score(joint_structural):  62.98785566435718\n"
     ]
    },
    {
     "name": "stderr",
     "output_type": "stream",
     "text": [
      "loss: 0.67301 acc: 0.68750:   0%|          | 0/96 [04:15<?, ?batch/s]"
     ]
    },
    {
     "name": "stdout",
     "output_type": "stream",
     "text": [
      "Dataset Name:  USAir , AUC Score(benchmark/combined):  60.26575604286864\n",
      "Dataset Name:  USAir , AUC Score(contextual):  55.987558396790696\n",
      "Dataset Name:  USAir , AUC Score(structural):  67.66635663673985\n",
      "Dataset Name:  USAir , AUC Score(joint):  54.80584520881547\n",
      "Dataset Name:  USAir , AUC Score(joint_structural):  62.98785566435718\n"
     ]
    },
    {
     "name": "stderr",
     "output_type": "stream",
     "text": [
      "loss: 0.66570 acc: 0.71875:   0%|          | 0/96 [04:20<?, ?batch/s]"
     ]
    },
    {
     "name": "stdout",
     "output_type": "stream",
     "text": [
      "Dataset Name:  USAir , AUC Score(benchmark/combined):  60.26575604286864\n",
      "Dataset Name:  USAir , AUC Score(contextual):  55.987558396790696\n",
      "Dataset Name:  USAir , AUC Score(structural):  67.66635663673985\n",
      "Dataset Name:  USAir , AUC Score(joint):  54.80584520881547\n",
      "Dataset Name:  USAir , AUC Score(joint_structural):  62.98785566435718\n"
     ]
    },
    {
     "name": "stderr",
     "output_type": "stream",
     "text": [
      "loss: 0.69559 acc: 0.56250:   0%|          | 0/96 [04:24<?, ?batch/s]"
     ]
    },
    {
     "name": "stdout",
     "output_type": "stream",
     "text": [
      "Dataset Name:  USAir , AUC Score(benchmark/combined):  60.26575604286864\n",
      "Dataset Name:  USAir , AUC Score(contextual):  55.987558396790696\n",
      "Dataset Name:  USAir , AUC Score(structural):  67.66635663673985\n",
      "Dataset Name:  USAir , AUC Score(joint):  55.601138749918796\n",
      "Dataset Name:  USAir , AUC Score(joint_structural):  62.98785566435718\n"
     ]
    },
    {
     "name": "stderr",
     "output_type": "stream",
     "text": [
      "loss: 0.68462 acc: 0.56250:   0%|          | 0/96 [04:29<?, ?batch/s]"
     ]
    },
    {
     "name": "stdout",
     "output_type": "stream",
     "text": [
      "Dataset Name:  USAir , AUC Score(benchmark/combined):  60.26575604286864\n",
      "Dataset Name:  USAir , AUC Score(contextual):  55.987558396790696\n",
      "Dataset Name:  USAir , AUC Score(structural):  67.66635663673985\n",
      "Dataset Name:  USAir , AUC Score(joint):  55.601138749918796\n",
      "Dataset Name:  USAir , AUC Score(joint_structural):  62.98785566435718\n"
     ]
    },
    {
     "name": "stderr",
     "output_type": "stream",
     "text": [
      "loss: 0.65585 acc: 0.62500:   0%|          | 0/96 [04:34<?, ?batch/s]"
     ]
    },
    {
     "name": "stdout",
     "output_type": "stream",
     "text": [
      "Dataset Name:  USAir , AUC Score(benchmark/combined):  60.26575604286864\n",
      "Dataset Name:  USAir , AUC Score(contextual):  55.987558396790696\n",
      "Dataset Name:  USAir , AUC Score(structural):  67.66635663673985\n",
      "Dataset Name:  USAir , AUC Score(joint):  55.601138749918796\n",
      "Dataset Name:  USAir , AUC Score(joint_structural):  62.98785566435718\n"
     ]
    },
    {
     "name": "stderr",
     "output_type": "stream",
     "text": [
      "loss: 0.68723 acc: 0.59375:   0%|          | 0/96 [04:38<?, ?batch/s]"
     ]
    },
    {
     "name": "stdout",
     "output_type": "stream",
     "text": [
      "Dataset Name:  USAir , AUC Score(benchmark/combined):  60.26575604286864\n",
      "Dataset Name:  USAir , AUC Score(contextual):  55.987558396790696\n",
      "Dataset Name:  USAir , AUC Score(structural):  67.66635663673985\n",
      "Dataset Name:  USAir , AUC Score(joint):  55.601138749918796\n",
      "Dataset Name:  USAir , AUC Score(joint_structural):  62.98785566435718\n"
     ]
    },
    {
     "name": "stderr",
     "output_type": "stream",
     "text": [
      "loss: 0.66497 acc: 0.65625:   0%|          | 0/96 [04:42<?, ?batch/s]"
     ]
    },
    {
     "name": "stdout",
     "output_type": "stream",
     "text": [
      "Dataset Name:  USAir , AUC Score(benchmark/combined):  60.26575604286864\n",
      "Dataset Name:  USAir , AUC Score(contextual):  55.987558396790696\n",
      "Dataset Name:  USAir , AUC Score(structural):  67.66635663673985\n",
      "Dataset Name:  USAir , AUC Score(joint):  55.601138749918796\n",
      "Dataset Name:  USAir , AUC Score(joint_structural):  62.98785566435718\n"
     ]
    },
    {
     "name": "stderr",
     "output_type": "stream",
     "text": [
      "loss: 0.67786 acc: 0.62500:   0%|          | 0/96 [04:47<?, ?batch/s]"
     ]
    },
    {
     "name": "stdout",
     "output_type": "stream",
     "text": [
      "Dataset Name:  USAir , AUC Score(benchmark/combined):  60.26575604286864\n",
      "Dataset Name:  USAir , AUC Score(contextual):  55.987558396790696\n",
      "Dataset Name:  USAir , AUC Score(structural):  67.66635663673985\n",
      "Dataset Name:  USAir , AUC Score(joint):  55.601138749918796\n",
      "Dataset Name:  USAir , AUC Score(joint_structural):  62.98785566435718\n"
     ]
    },
    {
     "name": "stderr",
     "output_type": "stream",
     "text": [
      "loss: 0.64934 acc: 0.78125:   0%|          | 0/96 [04:51<?, ?batch/s]"
     ]
    },
    {
     "name": "stdout",
     "output_type": "stream",
     "text": [
      "Dataset Name:  USAir , AUC Score(benchmark/combined):  60.26575604286864\n",
      "Dataset Name:  USAir , AUC Score(contextual):  55.987558396790696\n",
      "Dataset Name:  USAir , AUC Score(structural):  67.66635663673985\n",
      "Dataset Name:  USAir , AUC Score(joint):  55.601138749918796\n",
      "Dataset Name:  USAir , AUC Score(joint_structural):  62.98785566435718\n"
     ]
    },
    {
     "name": "stderr",
     "output_type": "stream",
     "text": [
      "loss: 0.65276 acc: 0.68750:   0%|          | 0/96 [04:57<?, ?batch/s]"
     ]
    },
    {
     "name": "stdout",
     "output_type": "stream",
     "text": [
      "Dataset Name:  USAir , AUC Score(benchmark/combined):  60.26575604286864\n",
      "Dataset Name:  USAir , AUC Score(contextual):  55.987558396790696\n",
      "Dataset Name:  USAir , AUC Score(structural):  67.66635663673985\n",
      "Dataset Name:  USAir , AUC Score(joint):  55.601138749918796\n",
      "Dataset Name:  USAir , AUC Score(joint_structural):  62.98785566435718\n"
     ]
    },
    {
     "name": "stderr",
     "output_type": "stream",
     "text": [
      "loss: 0.64840 acc: 0.68750:   0%|          | 0/96 [05:02<?, ?batch/s]"
     ]
    },
    {
     "name": "stdout",
     "output_type": "stream",
     "text": [
      "Dataset Name:  USAir , AUC Score(benchmark/combined):  60.26575604286864\n",
      "Dataset Name:  USAir , AUC Score(contextual):  55.987558396790696\n",
      "Dataset Name:  USAir , AUC Score(structural):  67.66635663673985\n",
      "Dataset Name:  USAir , AUC Score(joint):  55.601138749918796\n",
      "Dataset Name:  USAir , AUC Score(joint_structural):  62.98785566435718\n"
     ]
    },
    {
     "name": "stderr",
     "output_type": "stream",
     "text": [
      "loss: 0.67643 acc: 0.59375:   0%|          | 0/96 [05:07<?, ?batch/s]"
     ]
    },
    {
     "name": "stdout",
     "output_type": "stream",
     "text": [
      "Dataset Name:  USAir , AUC Score(benchmark/combined):  60.26575604286864\n",
      "Dataset Name:  USAir , AUC Score(contextual):  55.987558396790696\n",
      "Dataset Name:  USAir , AUC Score(structural):  67.66635663673985\n",
      "Dataset Name:  USAir , AUC Score(joint):  55.601138749918796\n",
      "Dataset Name:  USAir , AUC Score(joint_structural):  62.98785566435718\n"
     ]
    },
    {
     "name": "stderr",
     "output_type": "stream",
     "text": [
      "loss: 0.64987 acc: 0.71875:   0%|          | 0/96 [05:14<?, ?batch/s]"
     ]
    },
    {
     "name": "stdout",
     "output_type": "stream",
     "text": [
      "Dataset Name:  USAir , AUC Score(benchmark/combined):  60.26575604286864\n",
      "Dataset Name:  USAir , AUC Score(contextual):  55.987558396790696\n",
      "Dataset Name:  USAir , AUC Score(structural):  67.66635663673985\n",
      "Dataset Name:  USAir , AUC Score(joint):  55.601138749918796\n",
      "Dataset Name:  USAir , AUC Score(joint_structural):  62.98785566435718\n"
     ]
    },
    {
     "name": "stderr",
     "output_type": "stream",
     "text": [
      "loss: 0.67444 acc: 0.62500:   0%|          | 0/96 [05:18<?, ?batch/s]"
     ]
    },
    {
     "name": "stdout",
     "output_type": "stream",
     "text": [
      "Dataset Name:  USAir , AUC Score(benchmark/combined):  60.26575604286864\n",
      "Dataset Name:  USAir , AUC Score(contextual):  55.987558396790696\n",
      "Dataset Name:  USAir , AUC Score(structural):  67.66635663673985\n",
      "Dataset Name:  USAir , AUC Score(joint):  55.601138749918796\n",
      "Dataset Name:  USAir , AUC Score(joint_structural):  62.98785566435718\n"
     ]
    },
    {
     "name": "stderr",
     "output_type": "stream",
     "text": [
      "loss: 0.66421 acc: 0.71875:   0%|          | 0/96 [05:24<?, ?batch/s]"
     ]
    },
    {
     "name": "stdout",
     "output_type": "stream",
     "text": [
      "Dataset Name:  USAir , AUC Score(benchmark/combined):  60.26575604286864\n",
      "Dataset Name:  USAir , AUC Score(contextual):  55.987558396790696\n",
      "Dataset Name:  USAir , AUC Score(structural):  67.66635663673985\n",
      "Dataset Name:  USAir , AUC Score(joint):  55.601138749918796\n",
      "Dataset Name:  USAir , AUC Score(joint_structural):  62.98785566435718\n"
     ]
    },
    {
     "name": "stderr",
     "output_type": "stream",
     "text": [
      "loss: 0.65761 acc: 0.65625:   0%|          | 0/96 [05:29<?, ?batch/s]"
     ]
    },
    {
     "name": "stdout",
     "output_type": "stream",
     "text": [
      "Dataset Name:  USAir , AUC Score(benchmark/combined):  60.26575604286864\n",
      "Dataset Name:  USAir , AUC Score(contextual):  55.987558396790696\n",
      "Dataset Name:  USAir , AUC Score(structural):  67.66635663673985\n",
      "Dataset Name:  USAir , AUC Score(joint):  55.601138749918796\n",
      "Dataset Name:  USAir , AUC Score(joint_structural):  62.98785566435718\n"
     ]
    },
    {
     "name": "stderr",
     "output_type": "stream",
     "text": [
      "loss: 0.66016 acc: 0.68750:   0%|          | 0/96 [05:34<?, ?batch/s]"
     ]
    },
    {
     "name": "stdout",
     "output_type": "stream",
     "text": [
      "Dataset Name:  USAir , AUC Score(benchmark/combined):  60.26575604286864\n",
      "Dataset Name:  USAir , AUC Score(contextual):  55.987558396790696\n",
      "Dataset Name:  USAir , AUC Score(structural):  67.66635663673985\n",
      "Dataset Name:  USAir , AUC Score(joint):  55.601138749918796\n",
      "Dataset Name:  USAir , AUC Score(joint_structural):  62.98785566435718\n"
     ]
    },
    {
     "name": "stderr",
     "output_type": "stream",
     "text": [
      "loss: 0.63358 acc: 0.68750:   0%|          | 0/96 [05:40<?, ?batch/s]"
     ]
    },
    {
     "name": "stdout",
     "output_type": "stream",
     "text": [
      "Dataset Name:  USAir , AUC Score(benchmark/combined):  60.26575604286864\n",
      "Dataset Name:  USAir , AUC Score(contextual):  55.987558396790696\n",
      "Dataset Name:  USAir , AUC Score(structural):  67.66635663673985\n",
      "Dataset Name:  USAir , AUC Score(joint):  55.601138749918796\n",
      "Dataset Name:  USAir , AUC Score(joint_structural):  62.98785566435718\n"
     ]
    },
    {
     "name": "stderr",
     "output_type": "stream",
     "text": [
      "loss: 0.63174 acc: 0.78125:   0%|          | 0/96 [05:44<?, ?batch/s]"
     ]
    },
    {
     "name": "stdout",
     "output_type": "stream",
     "text": [
      "Dataset Name:  USAir , AUC Score(benchmark/combined):  60.28684088651543\n",
      "Dataset Name:  USAir , AUC Score(contextual):  55.987558396790696\n",
      "Dataset Name:  USAir , AUC Score(structural):  67.66635663673985\n",
      "Dataset Name:  USAir , AUC Score(joint):  55.601138749918796\n",
      "Dataset Name:  USAir , AUC Score(joint_structural):  63.91361047659595\n"
     ]
    },
    {
     "name": "stderr",
     "output_type": "stream",
     "text": [
      "loss: 0.66438 acc: 0.65625:   0%|          | 0/96 [05:48<?, ?batch/s]"
     ]
    },
    {
     "name": "stdout",
     "output_type": "stream",
     "text": [
      "Dataset Name:  USAir , AUC Score(benchmark/combined):  60.28684088651543\n",
      "Dataset Name:  USAir , AUC Score(contextual):  55.987558396790696\n",
      "Dataset Name:  USAir , AUC Score(structural):  67.66635663673985\n",
      "Dataset Name:  USAir , AUC Score(joint):  55.601138749918796\n",
      "Dataset Name:  USAir , AUC Score(joint_structural):  63.91361047659595\n"
     ]
    },
    {
     "name": "stderr",
     "output_type": "stream",
     "text": [
      "loss: 0.63208 acc: 0.75000:   0%|          | 0/96 [05:53<?, ?batch/s]"
     ]
    },
    {
     "name": "stdout",
     "output_type": "stream",
     "text": [
      "Dataset Name:  USAir , AUC Score(benchmark/combined):  60.28684088651543\n",
      "Dataset Name:  USAir , AUC Score(contextual):  55.987558396790696\n",
      "Dataset Name:  USAir , AUC Score(structural):  67.66635663673985\n",
      "Dataset Name:  USAir , AUC Score(joint):  55.601138749918796\n",
      "Dataset Name:  USAir , AUC Score(joint_structural):  63.91361047659595\n"
     ]
    },
    {
     "name": "stderr",
     "output_type": "stream",
     "text": [
      "loss: 0.65375 acc: 0.71875:   0%|          | 0/96 [05:57<?, ?batch/s]"
     ]
    },
    {
     "name": "stdout",
     "output_type": "stream",
     "text": [
      "Dataset Name:  USAir , AUC Score(benchmark/combined):  60.28684088651543\n",
      "Dataset Name:  USAir , AUC Score(contextual):  55.987558396790696\n",
      "Dataset Name:  USAir , AUC Score(structural):  67.66635663673985\n",
      "Dataset Name:  USAir , AUC Score(joint):  55.601138749918796\n",
      "Dataset Name:  USAir , AUC Score(joint_structural):  63.91361047659595\n"
     ]
    },
    {
     "name": "stderr",
     "output_type": "stream",
     "text": [
      "loss: 0.68233 acc: 0.62500:   0%|          | 0/96 [06:01<?, ?batch/s]"
     ]
    },
    {
     "name": "stdout",
     "output_type": "stream",
     "text": [
      "Dataset Name:  USAir , AUC Score(benchmark/combined):  60.28684088651543\n",
      "Dataset Name:  USAir , AUC Score(contextual):  55.987558396790696\n",
      "Dataset Name:  USAir , AUC Score(structural):  67.66635663673985\n",
      "Dataset Name:  USAir , AUC Score(joint):  55.601138749918796\n",
      "Dataset Name:  USAir , AUC Score(joint_structural):  63.91361047659595\n"
     ]
    },
    {
     "name": "stderr",
     "output_type": "stream",
     "text": [
      "loss: 0.63317 acc: 0.71875:   0%|          | 0/96 [06:07<?, ?batch/s]"
     ]
    },
    {
     "name": "stdout",
     "output_type": "stream",
     "text": [
      "Dataset Name:  USAir , AUC Score(benchmark/combined):  60.28684088651543\n",
      "Dataset Name:  USAir , AUC Score(contextual):  55.987558396790696\n",
      "Dataset Name:  USAir , AUC Score(structural):  67.66635663673985\n",
      "Dataset Name:  USAir , AUC Score(joint):  55.601138749918796\n",
      "Dataset Name:  USAir , AUC Score(joint_structural):  63.91361047659595\n"
     ]
    },
    {
     "name": "stderr",
     "output_type": "stream",
     "text": [
      "loss: 0.65600 acc: 0.62500:   0%|          | 0/96 [06:12<?, ?batch/s]"
     ]
    },
    {
     "name": "stdout",
     "output_type": "stream",
     "text": [
      "Dataset Name:  USAir , AUC Score(benchmark/combined):  60.28684088651543\n",
      "Dataset Name:  USAir , AUC Score(contextual):  55.987558396790696\n",
      "Dataset Name:  USAir , AUC Score(structural):  67.66635663673985\n",
      "Dataset Name:  USAir , AUC Score(joint):  55.601138749918796\n",
      "Dataset Name:  USAir , AUC Score(joint_structural):  63.91361047659595\n"
     ]
    },
    {
     "name": "stderr",
     "output_type": "stream",
     "text": [
      "loss: 0.59004 acc: 0.84375:   0%|          | 0/96 [06:16<?, ?batch/s]"
     ]
    },
    {
     "name": "stdout",
     "output_type": "stream",
     "text": [
      "Dataset Name:  USAir , AUC Score(benchmark/combined):  60.28684088651543\n",
      "Dataset Name:  USAir , AUC Score(contextual):  55.987558396790696\n",
      "Dataset Name:  USAir , AUC Score(structural):  67.66635663673985\n",
      "Dataset Name:  USAir , AUC Score(joint):  55.601138749918796\n",
      "Dataset Name:  USAir , AUC Score(joint_structural):  63.91361047659595\n"
     ]
    },
    {
     "name": "stderr",
     "output_type": "stream",
     "text": [
      "loss: 0.66020 acc: 0.65625:   0%|          | 0/96 [06:21<?, ?batch/s]"
     ]
    },
    {
     "name": "stdout",
     "output_type": "stream",
     "text": [
      "Dataset Name:  USAir , AUC Score(benchmark/combined):  60.28684088651543\n",
      "Dataset Name:  USAir , AUC Score(contextual):  55.987558396790696\n",
      "Dataset Name:  USAir , AUC Score(structural):  67.66635663673985\n",
      "Dataset Name:  USAir , AUC Score(joint):  55.601138749918796\n",
      "Dataset Name:  USAir , AUC Score(joint_structural):  63.91361047659595\n"
     ]
    },
    {
     "name": "stderr",
     "output_type": "stream",
     "text": [
      "loss: 0.60624 acc: 0.71875:   0%|          | 0/96 [06:26<?, ?batch/s]"
     ]
    },
    {
     "name": "stdout",
     "output_type": "stream",
     "text": [
      "Dataset Name:  USAir , AUC Score(benchmark/combined):  60.28684088651543\n",
      "Dataset Name:  USAir , AUC Score(contextual):  55.987558396790696\n",
      "Dataset Name:  USAir , AUC Score(structural):  67.66635663673985\n",
      "Dataset Name:  USAir , AUC Score(joint):  55.601138749918796\n",
      "Dataset Name:  USAir , AUC Score(joint_structural):  63.91361047659595\n"
     ]
    },
    {
     "name": "stderr",
     "output_type": "stream",
     "text": [
      "loss: 0.57796 acc: 0.87500:   0%|          | 0/96 [06:30<?, ?batch/s]"
     ]
    },
    {
     "name": "stdout",
     "output_type": "stream",
     "text": [
      "Dataset Name:  USAir , AUC Score(benchmark/combined):  60.28684088651543\n",
      "Dataset Name:  USAir , AUC Score(contextual):  55.987558396790696\n",
      "Dataset Name:  USAir , AUC Score(structural):  67.66635663673985\n",
      "Dataset Name:  USAir , AUC Score(joint):  55.601138749918796\n",
      "Dataset Name:  USAir , AUC Score(joint_structural):  63.91361047659595\n"
     ]
    },
    {
     "name": "stderr",
     "output_type": "stream",
     "text": [
      "loss: 0.65668 acc: 0.50000:   0%|          | 0/96 [06:36<?, ?batch/s]"
     ]
    },
    {
     "name": "stdout",
     "output_type": "stream",
     "text": [
      "Dataset Name:  USAir , AUC Score(benchmark/combined):  60.28684088651543\n",
      "Dataset Name:  USAir , AUC Score(contextual):  55.987558396790696\n",
      "Dataset Name:  USAir , AUC Score(structural):  67.66635663673985\n",
      "Dataset Name:  USAir , AUC Score(joint):  55.601138749918796\n",
      "Dataset Name:  USAir , AUC Score(joint_structural):  63.91361047659595\n"
     ]
    },
    {
     "name": "stderr",
     "output_type": "stream",
     "text": [
      "loss: 0.60101 acc: 0.78125:   0%|          | 0/96 [06:41<?, ?batch/s]"
     ]
    },
    {
     "name": "stdout",
     "output_type": "stream",
     "text": [
      "Dataset Name:  USAir , AUC Score(benchmark/combined):  60.28684088651543\n",
      "Dataset Name:  USAir , AUC Score(contextual):  55.987558396790696\n",
      "Dataset Name:  USAir , AUC Score(structural):  67.66635663673985\n",
      "Dataset Name:  USAir , AUC Score(joint):  55.601138749918796\n",
      "Dataset Name:  USAir , AUC Score(joint_structural):  63.91361047659595\n"
     ]
    },
    {
     "name": "stderr",
     "output_type": "stream",
     "text": [
      "loss: 0.62441 acc: 0.62500:   0%|          | 0/96 [06:47<?, ?batch/s]"
     ]
    },
    {
     "name": "stdout",
     "output_type": "stream",
     "text": [
      "Dataset Name:  USAir , AUC Score(benchmark/combined):  62.130960797846086\n",
      "Dataset Name:  USAir , AUC Score(contextual):  55.987558396790696\n",
      "Dataset Name:  USAir , AUC Score(structural):  67.66635663673985\n",
      "Dataset Name:  USAir , AUC Score(joint):  55.601138749918796\n",
      "Dataset Name:  USAir , AUC Score(joint_structural):  63.91361047659595\n"
     ]
    },
    {
     "name": "stderr",
     "output_type": "stream",
     "text": [
      "loss: 0.59086 acc: 0.81250:   0%|          | 0/96 [06:52<?, ?batch/s]"
     ]
    },
    {
     "name": "stdout",
     "output_type": "stream",
     "text": [
      "Dataset Name:  USAir , AUC Score(benchmark/combined):  62.130960797846086\n",
      "Dataset Name:  USAir , AUC Score(contextual):  55.987558396790696\n",
      "Dataset Name:  USAir , AUC Score(structural):  67.66635663673985\n",
      "Dataset Name:  USAir , AUC Score(joint):  55.601138749918796\n",
      "Dataset Name:  USAir , AUC Score(joint_structural):  63.91361047659595\n"
     ]
    },
    {
     "name": "stderr",
     "output_type": "stream",
     "text": [
      "loss: 0.59581 acc: 0.68750:   0%|          | 0/96 [06:57<?, ?batch/s]"
     ]
    },
    {
     "name": "stdout",
     "output_type": "stream",
     "text": [
      "Dataset Name:  USAir , AUC Score(benchmark/combined):  62.130960797846086\n",
      "Dataset Name:  USAir , AUC Score(contextual):  55.987558396790696\n",
      "Dataset Name:  USAir , AUC Score(structural):  67.66635663673985\n",
      "Dataset Name:  USAir , AUC Score(joint):  55.601138749918796\n",
      "Dataset Name:  USAir , AUC Score(joint_structural):  63.91361047659595\n"
     ]
    },
    {
     "name": "stderr",
     "output_type": "stream",
     "text": [
      "loss: 0.59057 acc: 0.71875:   0%|          | 0/96 [07:02<?, ?batch/s]"
     ]
    },
    {
     "name": "stdout",
     "output_type": "stream",
     "text": [
      "Dataset Name:  USAir , AUC Score(benchmark/combined):  62.130960797846086\n",
      "Dataset Name:  USAir , AUC Score(contextual):  55.987558396790696\n",
      "Dataset Name:  USAir , AUC Score(structural):  67.66635663673985\n",
      "Dataset Name:  USAir , AUC Score(joint):  55.601138749918796\n",
      "Dataset Name:  USAir , AUC Score(joint_structural):  63.91361047659595\n"
     ]
    },
    {
     "name": "stderr",
     "output_type": "stream",
     "text": [
      "loss: 0.67172 acc: 0.56250:   0%|          | 0/96 [07:07<?, ?batch/s]"
     ]
    },
    {
     "name": "stdout",
     "output_type": "stream",
     "text": [
      "Dataset Name:  USAir , AUC Score(benchmark/combined):  62.130960797846086\n",
      "Dataset Name:  USAir , AUC Score(contextual):  55.987558396790696\n",
      "Dataset Name:  USAir , AUC Score(structural):  67.66635663673985\n",
      "Dataset Name:  USAir , AUC Score(joint):  55.601138749918796\n",
      "Dataset Name:  USAir , AUC Score(joint_structural):  63.91361047659595\n"
     ]
    },
    {
     "name": "stderr",
     "output_type": "stream",
     "text": [
      "loss: 0.58372 acc: 0.75000:   0%|          | 0/96 [07:12<?, ?batch/s]"
     ]
    },
    {
     "name": "stdout",
     "output_type": "stream",
     "text": [
      "Dataset Name:  USAir , AUC Score(benchmark/combined):  62.130960797846086\n",
      "Dataset Name:  USAir , AUC Score(contextual):  55.987558396790696\n",
      "Dataset Name:  USAir , AUC Score(structural):  67.66635663673985\n",
      "Dataset Name:  USAir , AUC Score(joint):  55.601138749918796\n",
      "Dataset Name:  USAir , AUC Score(joint_structural):  63.91361047659595\n"
     ]
    },
    {
     "name": "stderr",
     "output_type": "stream",
     "text": [
      "loss: 0.62050 acc: 0.71875:   0%|          | 0/96 [07:17<?, ?batch/s]"
     ]
    },
    {
     "name": "stdout",
     "output_type": "stream",
     "text": [
      "Dataset Name:  USAir , AUC Score(benchmark/combined):  62.130960797846086\n",
      "Dataset Name:  USAir , AUC Score(contextual):  55.987558396790696\n",
      "Dataset Name:  USAir , AUC Score(structural):  67.66635663673985\n",
      "Dataset Name:  USAir , AUC Score(joint):  55.601138749918796\n",
      "Dataset Name:  USAir , AUC Score(joint_structural):  63.91361047659595\n"
     ]
    },
    {
     "name": "stderr",
     "output_type": "stream",
     "text": [
      "loss: 0.58827 acc: 0.78125:   0%|          | 0/96 [07:21<?, ?batch/s]"
     ]
    },
    {
     "name": "stdout",
     "output_type": "stream",
     "text": [
      "Dataset Name:  USAir , AUC Score(benchmark/combined):  62.130960797846086\n",
      "Dataset Name:  USAir , AUC Score(contextual):  55.987558396790696\n",
      "Dataset Name:  USAir , AUC Score(structural):  67.66635663673985\n",
      "Dataset Name:  USAir , AUC Score(joint):  55.601138749918796\n",
      "Dataset Name:  USAir , AUC Score(joint_structural):  63.91361047659595\n"
     ]
    },
    {
     "name": "stderr",
     "output_type": "stream",
     "text": [
      "loss: 0.66903 acc: 0.68750:   0%|          | 0/96 [07:26<?, ?batch/s]"
     ]
    },
    {
     "name": "stdout",
     "output_type": "stream",
     "text": [
      "Dataset Name:  USAir , AUC Score(benchmark/combined):  62.130960797846086\n",
      "Dataset Name:  USAir , AUC Score(contextual):  55.987558396790696\n",
      "Dataset Name:  USAir , AUC Score(structural):  67.66635663673985\n",
      "Dataset Name:  USAir , AUC Score(joint):  55.601138749918796\n",
      "Dataset Name:  USAir , AUC Score(joint_structural):  63.91361047659595\n"
     ]
    },
    {
     "name": "stderr",
     "output_type": "stream",
     "text": [
      "loss: 0.74126 acc: 0.56250:   0%|          | 0/96 [07:31<?, ?batch/s]"
     ]
    },
    {
     "name": "stdout",
     "output_type": "stream",
     "text": [
      "Dataset Name:  USAir , AUC Score(benchmark/combined):  62.130960797846086\n",
      "Dataset Name:  USAir , AUC Score(contextual):  55.987558396790696\n",
      "Dataset Name:  USAir , AUC Score(structural):  67.66635663673985\n",
      "Dataset Name:  USAir , AUC Score(joint):  55.601138749918796\n",
      "Dataset Name:  USAir , AUC Score(joint_structural):  63.91361047659595\n"
     ]
    },
    {
     "name": "stderr",
     "output_type": "stream",
     "text": [
      "loss: 0.59390 acc: 0.78125:   0%|          | 0/96 [07:36<?, ?batch/s]\n"
     ]
    },
    {
     "name": "stdout",
     "output_type": "stream",
     "text": [
      "Dataset Name:  USAir , AUC Score(benchmark/combined):  62.130960797846086\n",
      "Dataset Name:  USAir , AUC Score(contextual):  55.987558396790696\n",
      "Dataset Name:  USAir , AUC Score(structural):  67.66635663673985\n",
      "Dataset Name:  USAir , AUC Score(joint):  55.601138749918796\n",
      "Dataset Name:  USAir , AUC Score(joint_structural):  63.91361047659595\n",
      "\u001b[92maverage training of epoch 0: loss 0.66953 acc 0.61165 auc 0.66564\u001b[0m\n"
     ]
    },
    {
     "name": "stderr",
     "output_type": "stream",
     "text": [
      "loss: 0.33271 acc: 1.00000:   0%|          | 0/41 [00:09<?, ?batch/s]"
     ]
    },
    {
     "name": "stdout",
     "output_type": "stream",
     "text": [
      "Dataset Name:  USAir , AUC Score(benchmark/combined):  64.29492128075995\n",
      "Dataset Name:  USAir , AUC Score(contextual):  49.99363149469144\n",
      "Dataset Name:  USAir , AUC Score(structural):  69.60104581293697\n",
      "Dataset Name:  USAir , AUC Score(joint):  51.09796860273392\n",
      "Dataset Name:  USAir , AUC Score(joint_structural):  67.87100001230843\n"
     ]
    },
    {
     "name": "stderr",
     "output_type": "stream",
     "text": [
      "loss: 0.37334 acc: 0.93750:   0%|          | 0/41 [00:17<?, ?batch/s]"
     ]
    },
    {
     "name": "stdout",
     "output_type": "stream",
     "text": [
      "Dataset Name:  USAir , AUC Score(benchmark/combined):  64.37709016574968\n",
      "Dataset Name:  USAir , AUC Score(contextual):  52.50276066204514\n",
      "Dataset Name:  USAir , AUC Score(structural):  72.63905580693142\n",
      "Dataset Name:  USAir , AUC Score(joint):  51.09796860273392\n",
      "Dataset Name:  USAir , AUC Score(joint_structural):  68.6960284953423\n"
     ]
    },
    {
     "name": "stderr",
     "output_type": "stream",
     "text": [
      "loss: 0.39008 acc: 0.90625:   0%|          | 0/41 [00:26<?, ?batch/s]"
     ]
    },
    {
     "name": "stdout",
     "output_type": "stream",
     "text": [
      "Dataset Name:  USAir , AUC Score(benchmark/combined):  64.37709016574968\n",
      "Dataset Name:  USAir , AUC Score(contextual):  52.50276066204514\n",
      "Dataset Name:  USAir , AUC Score(structural):  72.63905580693142\n",
      "Dataset Name:  USAir , AUC Score(joint):  51.46269638643262\n",
      "Dataset Name:  USAir , AUC Score(joint_structural):  69.1926418401457\n"
     ]
    },
    {
     "name": "stderr",
     "output_type": "stream",
     "text": [
      "loss: 0.40256 acc: 0.90625:   0%|          | 0/41 [00:34<?, ?batch/s]"
     ]
    },
    {
     "name": "stdout",
     "output_type": "stream",
     "text": [
      "Dataset Name:  USAir , AUC Score(benchmark/combined):  64.37709016574968\n",
      "Dataset Name:  USAir , AUC Score(contextual):  52.50276066204514\n",
      "Dataset Name:  USAir , AUC Score(structural):  72.63905580693142\n",
      "Dataset Name:  USAir , AUC Score(joint):  51.46269638643262\n",
      "Dataset Name:  USAir , AUC Score(joint_structural):  69.1926418401457\n"
     ]
    },
    {
     "name": "stderr",
     "output_type": "stream",
     "text": [
      "loss: 0.40665 acc: 0.87500:   0%|          | 0/41 [00:43<?, ?batch/s]"
     ]
    },
    {
     "name": "stdout",
     "output_type": "stream",
     "text": [
      "Dataset Name:  USAir , AUC Score(benchmark/combined):  64.37709016574968\n",
      "Dataset Name:  USAir , AUC Score(contextual):  52.50276066204514\n",
      "Dataset Name:  USAir , AUC Score(structural):  72.63905580693142\n",
      "Dataset Name:  USAir , AUC Score(joint):  51.46269638643262\n",
      "Dataset Name:  USAir , AUC Score(joint_structural):  69.1926418401457\n"
     ]
    },
    {
     "name": "stderr",
     "output_type": "stream",
     "text": [
      "loss: 0.41141 acc: 0.84375:   0%|          | 0/41 [00:51<?, ?batch/s]"
     ]
    },
    {
     "name": "stdout",
     "output_type": "stream",
     "text": [
      "Dataset Name:  USAir , AUC Score(benchmark/combined):  64.37709016574968\n",
      "Dataset Name:  USAir , AUC Score(contextual):  52.50276066204514\n",
      "Dataset Name:  USAir , AUC Score(structural):  72.63905580693142\n",
      "Dataset Name:  USAir , AUC Score(joint):  51.46269638643262\n",
      "Dataset Name:  USAir , AUC Score(joint_structural):  69.1926418401457\n"
     ]
    },
    {
     "name": "stderr",
     "output_type": "stream",
     "text": [
      "loss: 0.37226 acc: 1.00000:   0%|          | 0/41 [00:59<?, ?batch/s]"
     ]
    },
    {
     "name": "stdout",
     "output_type": "stream",
     "text": [
      "Dataset Name:  USAir , AUC Score(benchmark/combined):  64.37709016574968\n",
      "Dataset Name:  USAir , AUC Score(contextual):  52.50276066204514\n",
      "Dataset Name:  USAir , AUC Score(structural):  72.63905580693142\n",
      "Dataset Name:  USAir , AUC Score(joint):  51.46269638643262\n",
      "Dataset Name:  USAir , AUC Score(joint_structural):  69.1926418401457\n"
     ]
    },
    {
     "name": "stderr",
     "output_type": "stream",
     "text": [
      "loss: 0.50541 acc: 0.75000:   0%|          | 0/41 [01:06<?, ?batch/s]"
     ]
    },
    {
     "name": "stdout",
     "output_type": "stream",
     "text": [
      "Dataset Name:  USAir , AUC Score(benchmark/combined):  64.37709016574968\n",
      "Dataset Name:  USAir , AUC Score(contextual):  52.50276066204514\n",
      "Dataset Name:  USAir , AUC Score(structural):  72.63905580693142\n",
      "Dataset Name:  USAir , AUC Score(joint):  54.37658220180964\n",
      "Dataset Name:  USAir , AUC Score(joint_structural):  69.1926418401457\n"
     ]
    },
    {
     "name": "stderr",
     "output_type": "stream",
     "text": [
      "loss: 0.34837 acc: 0.96875:   0%|          | 0/41 [01:14<?, ?batch/s]"
     ]
    },
    {
     "name": "stdout",
     "output_type": "stream",
     "text": [
      "Dataset Name:  USAir , AUC Score(benchmark/combined):  64.37709016574968\n",
      "Dataset Name:  USAir , AUC Score(contextual):  52.50276066204514\n",
      "Dataset Name:  USAir , AUC Score(structural):  72.63905580693142\n",
      "Dataset Name:  USAir , AUC Score(joint):  54.37658220180964\n",
      "Dataset Name:  USAir , AUC Score(joint_structural):  69.1926418401457\n"
     ]
    },
    {
     "name": "stderr",
     "output_type": "stream",
     "text": [
      "loss: 0.41821 acc: 0.87500:   0%|          | 0/41 [01:23<?, ?batch/s]"
     ]
    },
    {
     "name": "stdout",
     "output_type": "stream",
     "text": [
      "Dataset Name:  USAir , AUC Score(benchmark/combined):  64.37709016574968\n",
      "Dataset Name:  USAir , AUC Score(contextual):  52.50276066204514\n",
      "Dataset Name:  USAir , AUC Score(structural):  72.63905580693142\n",
      "Dataset Name:  USAir , AUC Score(joint):  54.37658220180964\n",
      "Dataset Name:  USAir , AUC Score(joint_structural):  69.1926418401457\n"
     ]
    },
    {
     "name": "stderr",
     "output_type": "stream",
     "text": [
      "loss: 0.48965 acc: 0.75000:   0%|          | 0/41 [01:29<?, ?batch/s]"
     ]
    },
    {
     "name": "stdout",
     "output_type": "stream",
     "text": [
      "Dataset Name:  USAir , AUC Score(benchmark/combined):  64.37709016574968\n",
      "Dataset Name:  USAir , AUC Score(contextual):  52.50276066204514\n",
      "Dataset Name:  USAir , AUC Score(structural):  72.63905580693142\n",
      "Dataset Name:  USAir , AUC Score(joint):  54.37658220180964\n",
      "Dataset Name:  USAir , AUC Score(joint_structural):  69.1926418401457\n"
     ]
    },
    {
     "name": "stderr",
     "output_type": "stream",
     "text": [
      "loss: 0.33802 acc: 1.00000:   0%|          | 0/41 [01:37<?, ?batch/s]"
     ]
    },
    {
     "name": "stdout",
     "output_type": "stream",
     "text": [
      "Dataset Name:  USAir , AUC Score(benchmark/combined):  64.37709016574968\n",
      "Dataset Name:  USAir , AUC Score(contextual):  52.50276066204514\n",
      "Dataset Name:  USAir , AUC Score(structural):  72.63905580693142\n",
      "Dataset Name:  USAir , AUC Score(joint):  54.37658220180964\n",
      "Dataset Name:  USAir , AUC Score(joint_structural):  69.1926418401457\n"
     ]
    },
    {
     "name": "stderr",
     "output_type": "stream",
     "text": [
      "loss: 0.33632 acc: 0.96875:   0%|          | 0/41 [01:45<?, ?batch/s]"
     ]
    },
    {
     "name": "stdout",
     "output_type": "stream",
     "text": [
      "Dataset Name:  USAir , AUC Score(benchmark/combined):  64.37709016574968\n",
      "Dataset Name:  USAir , AUC Score(contextual):  52.50276066204514\n",
      "Dataset Name:  USAir , AUC Score(structural):  72.63905580693142\n",
      "Dataset Name:  USAir , AUC Score(joint):  54.37658220180964\n",
      "Dataset Name:  USAir , AUC Score(joint_structural):  69.1926418401457\n"
     ]
    },
    {
     "name": "stderr",
     "output_type": "stream",
     "text": [
      "loss: 0.45783 acc: 0.81250:   0%|          | 0/41 [01:53<?, ?batch/s]"
     ]
    },
    {
     "name": "stdout",
     "output_type": "stream",
     "text": [
      "Dataset Name:  USAir , AUC Score(benchmark/combined):  64.37709016574968\n",
      "Dataset Name:  USAir , AUC Score(contextual):  52.50276066204514\n",
      "Dataset Name:  USAir , AUC Score(structural):  72.63905580693142\n",
      "Dataset Name:  USAir , AUC Score(joint):  54.37658220180964\n",
      "Dataset Name:  USAir , AUC Score(joint_structural):  69.1926418401457\n"
     ]
    },
    {
     "name": "stderr",
     "output_type": "stream",
     "text": [
      "loss: 0.38191 acc: 0.93750:   0%|          | 0/41 [02:02<?, ?batch/s]"
     ]
    },
    {
     "name": "stdout",
     "output_type": "stream",
     "text": [
      "Dataset Name:  USAir , AUC Score(benchmark/combined):  64.37709016574968\n",
      "Dataset Name:  USAir , AUC Score(contextual):  52.50276066204514\n",
      "Dataset Name:  USAir , AUC Score(structural):  72.63905580693142\n",
      "Dataset Name:  USAir , AUC Score(joint):  54.37658220180964\n",
      "Dataset Name:  USAir , AUC Score(joint_structural):  69.1926418401457\n"
     ]
    },
    {
     "name": "stderr",
     "output_type": "stream",
     "text": [
      "loss: 0.52894 acc: 0.65625:   0%|          | 0/41 [02:10<?, ?batch/s]"
     ]
    },
    {
     "name": "stdout",
     "output_type": "stream",
     "text": [
      "Dataset Name:  USAir , AUC Score(benchmark/combined):  64.37709016574968\n",
      "Dataset Name:  USAir , AUC Score(contextual):  52.50276066204514\n",
      "Dataset Name:  USAir , AUC Score(structural):  72.63905580693142\n",
      "Dataset Name:  USAir , AUC Score(joint):  54.37658220180964\n",
      "Dataset Name:  USAir , AUC Score(joint_structural):  69.1926418401457\n"
     ]
    },
    {
     "name": "stderr",
     "output_type": "stream",
     "text": [
      "loss: 0.42206 acc: 0.84375:   0%|          | 0/41 [02:17<?, ?batch/s]"
     ]
    },
    {
     "name": "stdout",
     "output_type": "stream",
     "text": [
      "Dataset Name:  USAir , AUC Score(benchmark/combined):  64.37709016574968\n",
      "Dataset Name:  USAir , AUC Score(contextual):  52.50276066204514\n",
      "Dataset Name:  USAir , AUC Score(structural):  72.63905580693142\n",
      "Dataset Name:  USAir , AUC Score(joint):  54.37658220180964\n",
      "Dataset Name:  USAir , AUC Score(joint_structural):  69.1926418401457\n"
     ]
    },
    {
     "name": "stderr",
     "output_type": "stream",
     "text": [
      "loss: 0.42343 acc: 0.96875:   0%|          | 0/41 [02:25<?, ?batch/s]"
     ]
    },
    {
     "name": "stdout",
     "output_type": "stream",
     "text": [
      "Dataset Name:  USAir , AUC Score(benchmark/combined):  69.08272852199504\n",
      "Dataset Name:  USAir , AUC Score(contextual):  52.50276066204514\n",
      "Dataset Name:  USAir , AUC Score(structural):  82.02031490025558\n",
      "Dataset Name:  USAir , AUC Score(joint):  54.37658220180964\n",
      "Dataset Name:  USAir , AUC Score(joint_structural):  76.27408404385444\n"
     ]
    },
    {
     "name": "stderr",
     "output_type": "stream",
     "text": [
      "loss: 0.40154 acc: 0.90625:   0%|          | 0/41 [02:33<?, ?batch/s]"
     ]
    },
    {
     "name": "stdout",
     "output_type": "stream",
     "text": [
      "Dataset Name:  USAir , AUC Score(benchmark/combined):  69.08272852199504\n",
      "Dataset Name:  USAir , AUC Score(contextual):  52.50276066204514\n",
      "Dataset Name:  USAir , AUC Score(structural):  82.02031490025558\n",
      "Dataset Name:  USAir , AUC Score(joint):  54.37658220180964\n",
      "Dataset Name:  USAir , AUC Score(joint_structural):  76.27408404385444\n"
     ]
    },
    {
     "name": "stderr",
     "output_type": "stream",
     "text": [
      "loss: 0.35549 acc: 0.96875:   0%|          | 0/41 [02:43<?, ?batch/s]"
     ]
    },
    {
     "name": "stdout",
     "output_type": "stream",
     "text": [
      "Dataset Name:  USAir , AUC Score(benchmark/combined):  69.08272852199504\n",
      "Dataset Name:  USAir , AUC Score(contextual):  52.50276066204514\n",
      "Dataset Name:  USAir , AUC Score(structural):  82.02031490025558\n",
      "Dataset Name:  USAir , AUC Score(joint):  54.37658220180964\n",
      "Dataset Name:  USAir , AUC Score(joint_structural):  76.27408404385444\n"
     ]
    },
    {
     "name": "stderr",
     "output_type": "stream",
     "text": [
      "loss: 0.34252 acc: 0.96875:   0%|          | 0/41 [02:52<?, ?batch/s]"
     ]
    },
    {
     "name": "stdout",
     "output_type": "stream",
     "text": [
      "Dataset Name:  USAir , AUC Score(benchmark/combined):  69.08272852199504\n",
      "Dataset Name:  USAir , AUC Score(contextual):  52.50276066204514\n",
      "Dataset Name:  USAir , AUC Score(structural):  82.02031490025558\n",
      "Dataset Name:  USAir , AUC Score(joint):  54.37658220180964\n",
      "Dataset Name:  USAir , AUC Score(joint_structural):  76.27408404385444\n"
     ]
    },
    {
     "name": "stderr",
     "output_type": "stream",
     "text": [
      "loss: 0.33212 acc: 0.96875:   0%|          | 0/41 [03:01<?, ?batch/s]"
     ]
    },
    {
     "name": "stdout",
     "output_type": "stream",
     "text": [
      "Dataset Name:  USAir , AUC Score(benchmark/combined):  69.08272852199504\n",
      "Dataset Name:  USAir , AUC Score(contextual):  52.50276066204514\n",
      "Dataset Name:  USAir , AUC Score(structural):  82.02031490025558\n",
      "Dataset Name:  USAir , AUC Score(joint):  54.37658220180964\n",
      "Dataset Name:  USAir , AUC Score(joint_structural):  76.27408404385444\n"
     ]
    },
    {
     "name": "stderr",
     "output_type": "stream",
     "text": [
      "loss: 0.47879 acc: 0.75000:   0%|          | 0/41 [03:09<?, ?batch/s]"
     ]
    },
    {
     "name": "stdout",
     "output_type": "stream",
     "text": [
      "Dataset Name:  USAir , AUC Score(benchmark/combined):  69.08272852199504\n",
      "Dataset Name:  USAir , AUC Score(contextual):  52.50276066204514\n",
      "Dataset Name:  USAir , AUC Score(structural):  82.02031490025558\n",
      "Dataset Name:  USAir , AUC Score(joint):  54.37658220180964\n",
      "Dataset Name:  USAir , AUC Score(joint_structural):  76.27408404385444\n"
     ]
    },
    {
     "name": "stderr",
     "output_type": "stream",
     "text": [
      "loss: 0.49660 acc: 0.75000:   0%|          | 0/41 [03:15<?, ?batch/s]"
     ]
    },
    {
     "name": "stdout",
     "output_type": "stream",
     "text": [
      "Dataset Name:  USAir , AUC Score(benchmark/combined):  69.08272852199504\n",
      "Dataset Name:  USAir , AUC Score(contextual):  52.50276066204514\n",
      "Dataset Name:  USAir , AUC Score(structural):  82.02031490025558\n",
      "Dataset Name:  USAir , AUC Score(joint):  54.37658220180964\n",
      "Dataset Name:  USAir , AUC Score(joint_structural):  76.27408404385444\n"
     ]
    },
    {
     "name": "stderr",
     "output_type": "stream",
     "text": [
      "loss: 0.35850 acc: 0.93750:   0%|          | 0/41 [03:24<?, ?batch/s]"
     ]
    },
    {
     "name": "stdout",
     "output_type": "stream",
     "text": [
      "Dataset Name:  USAir , AUC Score(benchmark/combined):  69.08272852199504\n",
      "Dataset Name:  USAir , AUC Score(contextual):  52.50276066204514\n",
      "Dataset Name:  USAir , AUC Score(structural):  82.02031490025558\n",
      "Dataset Name:  USAir , AUC Score(joint):  54.37658220180964\n",
      "Dataset Name:  USAir , AUC Score(joint_structural):  76.27408404385444\n"
     ]
    },
    {
     "name": "stderr",
     "output_type": "stream",
     "text": [
      "loss: 0.40095 acc: 0.87500:   0%|          | 0/41 [03:32<?, ?batch/s]"
     ]
    },
    {
     "name": "stdout",
     "output_type": "stream",
     "text": [
      "Dataset Name:  USAir , AUC Score(benchmark/combined):  69.08272852199504\n",
      "Dataset Name:  USAir , AUC Score(contextual):  52.50276066204514\n",
      "Dataset Name:  USAir , AUC Score(structural):  82.02031490025558\n",
      "Dataset Name:  USAir , AUC Score(joint):  54.37658220180964\n",
      "Dataset Name:  USAir , AUC Score(joint_structural):  76.27408404385444\n"
     ]
    },
    {
     "name": "stderr",
     "output_type": "stream",
     "text": [
      "loss: 0.37971 acc: 0.93750:   0%|          | 0/41 [03:42<?, ?batch/s]"
     ]
    },
    {
     "name": "stdout",
     "output_type": "stream",
     "text": [
      "Dataset Name:  USAir , AUC Score(benchmark/combined):  69.08272852199504\n",
      "Dataset Name:  USAir , AUC Score(contextual):  52.50276066204514\n",
      "Dataset Name:  USAir , AUC Score(structural):  82.02031490025558\n",
      "Dataset Name:  USAir , AUC Score(joint):  54.37658220180964\n",
      "Dataset Name:  USAir , AUC Score(joint_structural):  76.27408404385444\n"
     ]
    },
    {
     "name": "stderr",
     "output_type": "stream",
     "text": [
      "loss: 0.33641 acc: 1.00000:   0%|          | 0/41 [03:51<?, ?batch/s]"
     ]
    },
    {
     "name": "stdout",
     "output_type": "stream",
     "text": [
      "Dataset Name:  USAir , AUC Score(benchmark/combined):  69.08272852199504\n",
      "Dataset Name:  USAir , AUC Score(contextual):  52.50276066204514\n",
      "Dataset Name:  USAir , AUC Score(structural):  82.02031490025558\n",
      "Dataset Name:  USAir , AUC Score(joint):  54.37658220180964\n",
      "Dataset Name:  USAir , AUC Score(joint_structural):  76.27408404385444\n"
     ]
    },
    {
     "name": "stderr",
     "output_type": "stream",
     "text": [
      "loss: 0.37185 acc: 0.90625:   0%|          | 0/41 [03:59<?, ?batch/s]"
     ]
    },
    {
     "name": "stdout",
     "output_type": "stream",
     "text": [
      "Dataset Name:  USAir , AUC Score(benchmark/combined):  69.08272852199504\n",
      "Dataset Name:  USAir , AUC Score(contextual):  52.50276066204514\n",
      "Dataset Name:  USAir , AUC Score(structural):  82.02031490025558\n",
      "Dataset Name:  USAir , AUC Score(joint):  54.37658220180964\n",
      "Dataset Name:  USAir , AUC Score(joint_structural):  76.27408404385444\n"
     ]
    },
    {
     "name": "stderr",
     "output_type": "stream",
     "text": [
      "loss: 0.32631 acc: 0.96875:   0%|          | 0/41 [04:07<?, ?batch/s]"
     ]
    },
    {
     "name": "stdout",
     "output_type": "stream",
     "text": [
      "Dataset Name:  USAir , AUC Score(benchmark/combined):  69.08272852199504\n",
      "Dataset Name:  USAir , AUC Score(contextual):  53.11381490805536\n",
      "Dataset Name:  USAir , AUC Score(structural):  82.02031490025558\n",
      "Dataset Name:  USAir , AUC Score(joint):  54.37658220180964\n",
      "Dataset Name:  USAir , AUC Score(joint_structural):  76.27408404385444\n"
     ]
    },
    {
     "name": "stderr",
     "output_type": "stream",
     "text": [
      "loss: 0.36397 acc: 0.93750:   0%|          | 0/41 [04:17<?, ?batch/s]"
     ]
    },
    {
     "name": "stdout",
     "output_type": "stream",
     "text": [
      "Dataset Name:  USAir , AUC Score(benchmark/combined):  69.08272852199504\n",
      "Dataset Name:  USAir , AUC Score(contextual):  53.11381490805536\n",
      "Dataset Name:  USAir , AUC Score(structural):  82.02031490025558\n",
      "Dataset Name:  USAir , AUC Score(joint):  54.37658220180964\n",
      "Dataset Name:  USAir , AUC Score(joint_structural):  76.27408404385444\n"
     ]
    },
    {
     "name": "stderr",
     "output_type": "stream",
     "text": [
      "loss: 0.36178 acc: 0.90625:   0%|          | 0/41 [04:27<?, ?batch/s]"
     ]
    },
    {
     "name": "stdout",
     "output_type": "stream",
     "text": [
      "Dataset Name:  USAir , AUC Score(benchmark/combined):  69.08272852199504\n",
      "Dataset Name:  USAir , AUC Score(contextual):  53.11381490805536\n",
      "Dataset Name:  USAir , AUC Score(structural):  82.02031490025558\n",
      "Dataset Name:  USAir , AUC Score(joint):  54.37658220180964\n",
      "Dataset Name:  USAir , AUC Score(joint_structural):  76.27408404385444\n"
     ]
    },
    {
     "name": "stderr",
     "output_type": "stream",
     "text": [
      "loss: 0.37095 acc: 0.90625:   0%|          | 0/41 [04:37<?, ?batch/s]"
     ]
    },
    {
     "name": "stdout",
     "output_type": "stream",
     "text": [
      "Dataset Name:  USAir , AUC Score(benchmark/combined):  69.08272852199504\n",
      "Dataset Name:  USAir , AUC Score(contextual):  53.11381490805536\n",
      "Dataset Name:  USAir , AUC Score(structural):  82.02031490025558\n",
      "Dataset Name:  USAir , AUC Score(joint):  54.37658220180964\n",
      "Dataset Name:  USAir , AUC Score(joint_structural):  76.27408404385444\n"
     ]
    },
    {
     "name": "stderr",
     "output_type": "stream",
     "text": [
      "loss: 0.43051 acc: 0.84375:   0%|          | 0/41 [04:46<?, ?batch/s]"
     ]
    },
    {
     "name": "stdout",
     "output_type": "stream",
     "text": [
      "Dataset Name:  USAir , AUC Score(benchmark/combined):  69.08272852199504\n",
      "Dataset Name:  USAir , AUC Score(contextual):  53.11381490805536\n",
      "Dataset Name:  USAir , AUC Score(structural):  82.02031490025558\n",
      "Dataset Name:  USAir , AUC Score(joint):  54.37658220180964\n",
      "Dataset Name:  USAir , AUC Score(joint_structural):  76.27408404385444\n"
     ]
    },
    {
     "name": "stderr",
     "output_type": "stream",
     "text": [
      "loss: 0.65724 acc: 0.43750:   0%|          | 0/41 [04:52<?, ?batch/s]"
     ]
    },
    {
     "name": "stdout",
     "output_type": "stream",
     "text": [
      "Dataset Name:  USAir , AUC Score(benchmark/combined):  69.08272852199504\n",
      "Dataset Name:  USAir , AUC Score(contextual):  53.11381490805536\n",
      "Dataset Name:  USAir , AUC Score(structural):  82.02031490025558\n",
      "Dataset Name:  USAir , AUC Score(joint):  54.37658220180964\n",
      "Dataset Name:  USAir , AUC Score(joint_structural):  76.27408404385444\n"
     ]
    },
    {
     "name": "stderr",
     "output_type": "stream",
     "text": [
      "loss: 0.42839 acc: 0.81250:   0%|          | 0/41 [05:02<?, ?batch/s]"
     ]
    },
    {
     "name": "stdout",
     "output_type": "stream",
     "text": [
      "Dataset Name:  USAir , AUC Score(benchmark/combined):  69.08272852199504\n",
      "Dataset Name:  USAir , AUC Score(contextual):  53.11381490805536\n",
      "Dataset Name:  USAir , AUC Score(structural):  82.02031490025558\n",
      "Dataset Name:  USAir , AUC Score(joint):  54.37658220180964\n",
      "Dataset Name:  USAir , AUC Score(joint_structural):  76.27408404385444\n"
     ]
    },
    {
     "name": "stderr",
     "output_type": "stream",
     "text": [
      "loss: 0.43646 acc: 0.84375:   0%|          | 0/41 [05:10<?, ?batch/s]"
     ]
    },
    {
     "name": "stdout",
     "output_type": "stream",
     "text": [
      "Dataset Name:  USAir , AUC Score(benchmark/combined):  69.08272852199504\n",
      "Dataset Name:  USAir , AUC Score(contextual):  53.11381490805536\n",
      "Dataset Name:  USAir , AUC Score(structural):  82.02031490025558\n",
      "Dataset Name:  USAir , AUC Score(joint):  54.37658220180964\n",
      "Dataset Name:  USAir , AUC Score(joint_structural):  76.27408404385444\n"
     ]
    },
    {
     "name": "stderr",
     "output_type": "stream",
     "text": [
      "loss: 0.41707 acc: 0.87500:   0%|          | 0/41 [05:19<?, ?batch/s]"
     ]
    },
    {
     "name": "stdout",
     "output_type": "stream",
     "text": [
      "Dataset Name:  USAir , AUC Score(benchmark/combined):  69.08272852199504\n",
      "Dataset Name:  USAir , AUC Score(contextual):  53.11381490805536\n",
      "Dataset Name:  USAir , AUC Score(structural):  82.02031490025558\n",
      "Dataset Name:  USAir , AUC Score(joint):  54.37658220180964\n",
      "Dataset Name:  USAir , AUC Score(joint_structural):  76.27408404385444\n"
     ]
    },
    {
     "name": "stderr",
     "output_type": "stream",
     "text": [
      "loss: 0.70224 acc: 0.62500:   0%|          | 0/41 [05:24<?, ?batch/s]"
     ]
    },
    {
     "name": "stdout",
     "output_type": "stream",
     "text": [
      "Dataset Name:  USAir , AUC Score(benchmark/combined):  69.08272852199504\n",
      "Dataset Name:  USAir , AUC Score(contextual):  53.11381490805536\n",
      "Dataset Name:  USAir , AUC Score(structural):  82.02031490025558\n",
      "Dataset Name:  USAir , AUC Score(joint):  54.37658220180964\n",
      "Dataset Name:  USAir , AUC Score(joint_structural):  76.27408404385444\n"
     ]
    },
    {
     "name": "stderr",
     "output_type": "stream",
     "text": [
      "loss: 0.85937 acc: 0.50000:   0%|          | 0/41 [05:29<?, ?batch/s]"
     ]
    },
    {
     "name": "stdout",
     "output_type": "stream",
     "text": [
      "Dataset Name:  USAir , AUC Score(benchmark/combined):  69.08272852199504\n",
      "Dataset Name:  USAir , AUC Score(contextual):  53.11381490805536\n",
      "Dataset Name:  USAir , AUC Score(structural):  82.02031490025558\n",
      "Dataset Name:  USAir , AUC Score(joint):  54.37658220180964\n",
      "Dataset Name:  USAir , AUC Score(joint_structural):  76.27408404385444\n"
     ]
    },
    {
     "name": "stderr",
     "output_type": "stream",
     "text": [
      "loss: 0.65564 acc: 0.66667:   0%|          | 0/41 [05:30<?, ?batch/s]\n"
     ]
    },
    {
     "name": "stdout",
     "output_type": "stream",
     "text": [
      "Dataset Name:  USAir , AUC Score(benchmark/combined):  69.08272852199504\n",
      "Dataset Name:  USAir , AUC Score(contextual):  53.4090236468558\n",
      "Dataset Name:  USAir , AUC Score(structural):  82.02031490025558\n",
      "Dataset Name:  USAir , AUC Score(joint):  54.37658220180964\n",
      "Dataset Name:  USAir , AUC Score(joint_structural):  76.27408404385444\n",
      "\u001b[93maverage test of epoch 0: loss 0.42478 acc 0.86470 auc 0.77342 avg_precision 0.98445 precision-recall auc 0.98443\u001b[0m\n"
     ]
    },
    {
     "name": "stderr",
     "output_type": "stream",
     "text": [
      "loss: 0.59522 acc: 0.75000:   0%|          | 0/96 [00:04<?, ?batch/s]"
     ]
    },
    {
     "name": "stdout",
     "output_type": "stream",
     "text": [
      "Dataset Name:  USAir , AUC Score(benchmark/combined):  56.964332991352244\n",
      "Dataset Name:  USAir , AUC Score(contextual):  51.964370740176506\n",
      "Dataset Name:  USAir , AUC Score(structural):  60.9324554306002\n",
      "Dataset Name:  USAir , AUC Score(joint):  51.02563068045327\n",
      "Dataset Name:  USAir , AUC Score(joint_structural):  59.35589040355557\n"
     ]
    },
    {
     "name": "stderr",
     "output_type": "stream",
     "text": [
      "loss: 0.69502 acc: 0.50000:   0%|          | 0/96 [00:09<?, ?batch/s]"
     ]
    },
    {
     "name": "stdout",
     "output_type": "stream",
     "text": [
      "Dataset Name:  USAir , AUC Score(benchmark/combined):  57.49615841392114\n",
      "Dataset Name:  USAir , AUC Score(contextual):  53.517326249083446\n",
      "Dataset Name:  USAir , AUC Score(structural):  63.71893801119465\n",
      "Dataset Name:  USAir , AUC Score(joint):  51.02563068045327\n",
      "Dataset Name:  USAir , AUC Score(joint_structural):  59.37311011082961\n"
     ]
    },
    {
     "name": "stderr",
     "output_type": "stream",
     "text": [
      "loss: 0.57717 acc: 0.78125:   0%|          | 0/96 [00:14<?, ?batch/s]"
     ]
    },
    {
     "name": "stdout",
     "output_type": "stream",
     "text": [
      "Dataset Name:  USAir , AUC Score(benchmark/combined):  57.49615841392114\n",
      "Dataset Name:  USAir , AUC Score(contextual):  53.517326249083446\n",
      "Dataset Name:  USAir , AUC Score(structural):  63.71893801119465\n",
      "Dataset Name:  USAir , AUC Score(joint):  51.02563068045327\n",
      "Dataset Name:  USAir , AUC Score(joint_structural):  59.37311011082961\n"
     ]
    },
    {
     "name": "stderr",
     "output_type": "stream",
     "text": [
      "loss: 0.52266 acc: 0.84375:   0%|          | 0/96 [00:19<?, ?batch/s]"
     ]
    },
    {
     "name": "stdout",
     "output_type": "stream",
     "text": [
      "Dataset Name:  USAir , AUC Score(benchmark/combined):  57.49615841392114\n",
      "Dataset Name:  USAir , AUC Score(contextual):  53.85276284189257\n",
      "Dataset Name:  USAir , AUC Score(structural):  63.71893801119465\n",
      "Dataset Name:  USAir , AUC Score(joint):  52.7199810658419\n",
      "Dataset Name:  USAir , AUC Score(joint_structural):  59.37311011082961\n"
     ]
    },
    {
     "name": "stderr",
     "output_type": "stream",
     "text": [
      "loss: 0.59554 acc: 0.81250:   0%|          | 0/96 [00:23<?, ?batch/s]"
     ]
    },
    {
     "name": "stdout",
     "output_type": "stream",
     "text": [
      "Dataset Name:  USAir , AUC Score(benchmark/combined):  57.49615841392114\n",
      "Dataset Name:  USAir , AUC Score(contextual):  53.85276284189257\n",
      "Dataset Name:  USAir , AUC Score(structural):  63.71893801119465\n",
      "Dataset Name:  USAir , AUC Score(joint):  52.7199810658419\n",
      "Dataset Name:  USAir , AUC Score(joint_structural):  59.37311011082961\n"
     ]
    },
    {
     "name": "stderr",
     "output_type": "stream",
     "text": [
      "loss: 0.59306 acc: 0.75000:   0%|          | 0/96 [00:27<?, ?batch/s]"
     ]
    },
    {
     "name": "stdout",
     "output_type": "stream",
     "text": [
      "Dataset Name:  USAir , AUC Score(benchmark/combined):  57.49615841392114\n",
      "Dataset Name:  USAir , AUC Score(contextual):  53.85276284189257\n",
      "Dataset Name:  USAir , AUC Score(structural):  63.71893801119465\n",
      "Dataset Name:  USAir , AUC Score(joint):  56.68385622095102\n",
      "Dataset Name:  USAir , AUC Score(joint_structural):  59.37311011082961\n"
     ]
    },
    {
     "name": "stderr",
     "output_type": "stream",
     "text": [
      "loss: 0.56623 acc: 0.84375:   0%|          | 0/96 [00:30<?, ?batch/s]"
     ]
    },
    {
     "name": "stdout",
     "output_type": "stream",
     "text": [
      "Dataset Name:  USAir , AUC Score(benchmark/combined):  57.49615841392114\n",
      "Dataset Name:  USAir , AUC Score(contextual):  53.85276284189257\n",
      "Dataset Name:  USAir , AUC Score(structural):  63.71893801119465\n",
      "Dataset Name:  USAir , AUC Score(joint):  56.68385622095102\n",
      "Dataset Name:  USAir , AUC Score(joint_structural):  59.37311011082961\n"
     ]
    },
    {
     "name": "stderr",
     "output_type": "stream",
     "text": [
      "loss: 0.60258 acc: 0.71875:   0%|          | 0/96 [00:35<?, ?batch/s]"
     ]
    },
    {
     "name": "stdout",
     "output_type": "stream",
     "text": [
      "Dataset Name:  USAir , AUC Score(benchmark/combined):  57.49615841392114\n",
      "Dataset Name:  USAir , AUC Score(contextual):  53.85276284189257\n",
      "Dataset Name:  USAir , AUC Score(structural):  63.71893801119465\n",
      "Dataset Name:  USAir , AUC Score(joint):  56.68385622095102\n",
      "Dataset Name:  USAir , AUC Score(joint_structural):  59.37311011082961\n"
     ]
    },
    {
     "name": "stderr",
     "output_type": "stream",
     "text": [
      "loss: 0.58589 acc: 0.75000:   0%|          | 0/96 [00:38<?, ?batch/s]"
     ]
    },
    {
     "name": "stdout",
     "output_type": "stream",
     "text": [
      "Dataset Name:  USAir , AUC Score(benchmark/combined):  57.49615841392114\n",
      "Dataset Name:  USAir , AUC Score(contextual):  53.85276284189257\n",
      "Dataset Name:  USAir , AUC Score(structural):  63.71893801119465\n",
      "Dataset Name:  USAir , AUC Score(joint):  56.68385622095102\n",
      "Dataset Name:  USAir , AUC Score(joint_structural):  59.37311011082961\n"
     ]
    },
    {
     "name": "stderr",
     "output_type": "stream",
     "text": [
      "loss: 0.56863 acc: 0.75000:   0%|          | 0/96 [00:43<?, ?batch/s]"
     ]
    },
    {
     "name": "stdout",
     "output_type": "stream",
     "text": [
      "Dataset Name:  USAir , AUC Score(benchmark/combined):  57.49615841392114\n",
      "Dataset Name:  USAir , AUC Score(contextual):  53.85276284189257\n",
      "Dataset Name:  USAir , AUC Score(structural):  63.71893801119465\n",
      "Dataset Name:  USAir , AUC Score(joint):  56.68385622095102\n",
      "Dataset Name:  USAir , AUC Score(joint_structural):  59.37311011082961\n"
     ]
    },
    {
     "name": "stderr",
     "output_type": "stream",
     "text": [
      "loss: 0.55908 acc: 0.71875:   0%|          | 0/96 [00:48<?, ?batch/s]"
     ]
    },
    {
     "name": "stdout",
     "output_type": "stream",
     "text": [
      "Dataset Name:  USAir , AUC Score(benchmark/combined):  57.49615841392114\n",
      "Dataset Name:  USAir , AUC Score(contextual):  53.85276284189257\n",
      "Dataset Name:  USAir , AUC Score(structural):  63.71893801119465\n",
      "Dataset Name:  USAir , AUC Score(joint):  56.68385622095102\n",
      "Dataset Name:  USAir , AUC Score(joint_structural):  59.37311011082961\n"
     ]
    },
    {
     "name": "stderr",
     "output_type": "stream",
     "text": [
      "loss: 0.62809 acc: 0.59375:   0%|          | 0/96 [00:54<?, ?batch/s]"
     ]
    },
    {
     "name": "stdout",
     "output_type": "stream",
     "text": [
      "Dataset Name:  USAir , AUC Score(benchmark/combined):  57.49615841392114\n",
      "Dataset Name:  USAir , AUC Score(contextual):  53.85276284189257\n",
      "Dataset Name:  USAir , AUC Score(structural):  63.71893801119465\n",
      "Dataset Name:  USAir , AUC Score(joint):  56.68385622095102\n",
      "Dataset Name:  USAir , AUC Score(joint_structural):  59.37311011082961\n"
     ]
    },
    {
     "name": "stderr",
     "output_type": "stream",
     "text": [
      "loss: 0.54413 acc: 0.84375:   0%|          | 0/96 [00:59<?, ?batch/s]"
     ]
    },
    {
     "name": "stdout",
     "output_type": "stream",
     "text": [
      "Dataset Name:  USAir , AUC Score(benchmark/combined):  57.49615841392114\n",
      "Dataset Name:  USAir , AUC Score(contextual):  53.85276284189257\n",
      "Dataset Name:  USAir , AUC Score(structural):  63.71893801119465\n",
      "Dataset Name:  USAir , AUC Score(joint):  56.68385622095102\n",
      "Dataset Name:  USAir , AUC Score(joint_structural):  59.37311011082961\n"
     ]
    },
    {
     "name": "stderr",
     "output_type": "stream",
     "text": [
      "loss: 0.57756 acc: 0.81250:   0%|          | 0/96 [01:04<?, ?batch/s]"
     ]
    },
    {
     "name": "stdout",
     "output_type": "stream",
     "text": [
      "Dataset Name:  USAir , AUC Score(benchmark/combined):  57.49615841392114\n",
      "Dataset Name:  USAir , AUC Score(contextual):  53.85276284189257\n",
      "Dataset Name:  USAir , AUC Score(structural):  63.71893801119465\n",
      "Dataset Name:  USAir , AUC Score(joint):  56.68385622095102\n",
      "Dataset Name:  USAir , AUC Score(joint_structural):  59.37311011082961\n"
     ]
    },
    {
     "name": "stderr",
     "output_type": "stream",
     "text": [
      "loss: 0.59970 acc: 0.71875:   0%|          | 0/96 [01:10<?, ?batch/s]"
     ]
    },
    {
     "name": "stdout",
     "output_type": "stream",
     "text": [
      "Dataset Name:  USAir , AUC Score(benchmark/combined):  57.49615841392114\n",
      "Dataset Name:  USAir , AUC Score(contextual):  53.85276284189257\n",
      "Dataset Name:  USAir , AUC Score(structural):  63.71893801119465\n",
      "Dataset Name:  USAir , AUC Score(joint):  56.68385622095102\n",
      "Dataset Name:  USAir , AUC Score(joint_structural):  59.37311011082961\n"
     ]
    },
    {
     "name": "stderr",
     "output_type": "stream",
     "text": [
      "loss: 0.51422 acc: 0.81250:   0%|          | 0/96 [01:16<?, ?batch/s]"
     ]
    },
    {
     "name": "stdout",
     "output_type": "stream",
     "text": [
      "Dataset Name:  USAir , AUC Score(benchmark/combined):  57.49615841392114\n",
      "Dataset Name:  USAir , AUC Score(contextual):  53.85276284189257\n",
      "Dataset Name:  USAir , AUC Score(structural):  63.71893801119465\n",
      "Dataset Name:  USAir , AUC Score(joint):  56.68385622095102\n",
      "Dataset Name:  USAir , AUC Score(joint_structural):  59.37311011082961\n"
     ]
    },
    {
     "name": "stderr",
     "output_type": "stream",
     "text": [
      "loss: 0.52226 acc: 0.78125:   0%|          | 0/96 [01:20<?, ?batch/s]"
     ]
    },
    {
     "name": "stdout",
     "output_type": "stream",
     "text": [
      "Dataset Name:  USAir , AUC Score(benchmark/combined):  57.49615841392114\n",
      "Dataset Name:  USAir , AUC Score(contextual):  53.85276284189257\n",
      "Dataset Name:  USAir , AUC Score(structural):  63.71893801119465\n",
      "Dataset Name:  USAir , AUC Score(joint):  56.68385622095102\n",
      "Dataset Name:  USAir , AUC Score(joint_structural):  59.37311011082961\n"
     ]
    },
    {
     "name": "stderr",
     "output_type": "stream",
     "text": [
      "loss: 0.59639 acc: 0.65625:   0%|          | 0/96 [01:26<?, ?batch/s]"
     ]
    },
    {
     "name": "stdout",
     "output_type": "stream",
     "text": [
      "Dataset Name:  USAir , AUC Score(benchmark/combined):  57.49615841392114\n",
      "Dataset Name:  USAir , AUC Score(contextual):  53.85276284189257\n",
      "Dataset Name:  USAir , AUC Score(structural):  63.71893801119465\n",
      "Dataset Name:  USAir , AUC Score(joint):  56.68385622095102\n",
      "Dataset Name:  USAir , AUC Score(joint_structural):  59.37311011082961\n"
     ]
    },
    {
     "name": "stderr",
     "output_type": "stream",
     "text": [
      "loss: 0.54037 acc: 0.81250:   0%|          | 0/96 [01:32<?, ?batch/s]"
     ]
    },
    {
     "name": "stdout",
     "output_type": "stream",
     "text": [
      "Dataset Name:  USAir , AUC Score(benchmark/combined):  58.867973262741295\n",
      "Dataset Name:  USAir , AUC Score(contextual):  53.85276284189257\n",
      "Dataset Name:  USAir , AUC Score(structural):  64.04718124604598\n",
      "Dataset Name:  USAir , AUC Score(joint):  56.68385622095102\n",
      "Dataset Name:  USAir , AUC Score(joint_structural):  61.54399020794074\n"
     ]
    },
    {
     "name": "stderr",
     "output_type": "stream",
     "text": [
      "loss: 0.56242 acc: 0.75000:   0%|          | 0/96 [01:37<?, ?batch/s]"
     ]
    },
    {
     "name": "stdout",
     "output_type": "stream",
     "text": [
      "Dataset Name:  USAir , AUC Score(benchmark/combined):  58.867973262741295\n",
      "Dataset Name:  USAir , AUC Score(contextual):  53.85276284189257\n",
      "Dataset Name:  USAir , AUC Score(structural):  64.04718124604598\n",
      "Dataset Name:  USAir , AUC Score(joint):  56.68385622095102\n",
      "Dataset Name:  USAir , AUC Score(joint_structural):  61.54399020794074\n"
     ]
    },
    {
     "name": "stderr",
     "output_type": "stream",
     "text": [
      "loss: 0.58011 acc: 0.65625:   0%|          | 0/96 [01:42<?, ?batch/s]"
     ]
    },
    {
     "name": "stdout",
     "output_type": "stream",
     "text": [
      "Dataset Name:  USAir , AUC Score(benchmark/combined):  58.867973262741295\n",
      "Dataset Name:  USAir , AUC Score(contextual):  53.85276284189257\n",
      "Dataset Name:  USAir , AUC Score(structural):  64.04718124604598\n",
      "Dataset Name:  USAir , AUC Score(joint):  56.68385622095102\n",
      "Dataset Name:  USAir , AUC Score(joint_structural):  61.54399020794074\n"
     ]
    },
    {
     "name": "stderr",
     "output_type": "stream",
     "text": [
      "loss: 0.56704 acc: 0.65625:   0%|          | 0/96 [01:48<?, ?batch/s]"
     ]
    },
    {
     "name": "stdout",
     "output_type": "stream",
     "text": [
      "Dataset Name:  USAir , AUC Score(benchmark/combined):  58.867973262741295\n",
      "Dataset Name:  USAir , AUC Score(contextual):  53.85276284189257\n",
      "Dataset Name:  USAir , AUC Score(structural):  64.04718124604598\n",
      "Dataset Name:  USAir , AUC Score(joint):  56.68385622095102\n",
      "Dataset Name:  USAir , AUC Score(joint_structural):  61.54399020794074\n"
     ]
    },
    {
     "name": "stderr",
     "output_type": "stream",
     "text": [
      "loss: 0.48952 acc: 0.81250:   0%|          | 0/96 [01:53<?, ?batch/s]"
     ]
    },
    {
     "name": "stdout",
     "output_type": "stream",
     "text": [
      "Dataset Name:  USAir , AUC Score(benchmark/combined):  58.884428049360615\n",
      "Dataset Name:  USAir , AUC Score(contextual):  53.85276284189257\n",
      "Dataset Name:  USAir , AUC Score(structural):  69.11504900701462\n",
      "Dataset Name:  USAir , AUC Score(joint):  56.68385622095102\n",
      "Dataset Name:  USAir , AUC Score(joint_structural):  64.31099888959918\n"
     ]
    },
    {
     "name": "stderr",
     "output_type": "stream",
     "text": [
      "loss: 0.70978 acc: 0.59375:   0%|          | 0/96 [01:57<?, ?batch/s]"
     ]
    },
    {
     "name": "stdout",
     "output_type": "stream",
     "text": [
      "Dataset Name:  USAir , AUC Score(benchmark/combined):  58.884428049360615\n",
      "Dataset Name:  USAir , AUC Score(contextual):  53.85276284189257\n",
      "Dataset Name:  USAir , AUC Score(structural):  69.11504900701462\n",
      "Dataset Name:  USAir , AUC Score(joint):  56.68385622095102\n",
      "Dataset Name:  USAir , AUC Score(joint_structural):  64.31099888959918\n"
     ]
    },
    {
     "name": "stderr",
     "output_type": "stream",
     "text": [
      "loss: 0.70496 acc: 0.62500:   0%|          | 0/96 [02:00<?, ?batch/s]"
     ]
    },
    {
     "name": "stdout",
     "output_type": "stream",
     "text": [
      "Dataset Name:  USAir , AUC Score(benchmark/combined):  58.884428049360615\n",
      "Dataset Name:  USAir , AUC Score(contextual):  53.85276284189257\n",
      "Dataset Name:  USAir , AUC Score(structural):  69.11504900701462\n",
      "Dataset Name:  USAir , AUC Score(joint):  56.68385622095102\n",
      "Dataset Name:  USAir , AUC Score(joint_structural):  64.31099888959918\n"
     ]
    },
    {
     "name": "stderr",
     "output_type": "stream",
     "text": [
      "loss: 0.63054 acc: 0.62500:   0%|          | 0/96 [02:05<?, ?batch/s]"
     ]
    },
    {
     "name": "stdout",
     "output_type": "stream",
     "text": [
      "Dataset Name:  USAir , AUC Score(benchmark/combined):  58.884428049360615\n",
      "Dataset Name:  USAir , AUC Score(contextual):  53.85276284189257\n",
      "Dataset Name:  USAir , AUC Score(structural):  69.11504900701462\n",
      "Dataset Name:  USAir , AUC Score(joint):  56.68385622095102\n",
      "Dataset Name:  USAir , AUC Score(joint_structural):  64.31099888959918\n"
     ]
    },
    {
     "name": "stderr",
     "output_type": "stream",
     "text": [
      "loss: 0.55390 acc: 0.78125:   0%|          | 0/96 [02:09<?, ?batch/s]"
     ]
    },
    {
     "name": "stdout",
     "output_type": "stream",
     "text": [
      "Dataset Name:  USAir , AUC Score(benchmark/combined):  58.884428049360615\n",
      "Dataset Name:  USAir , AUC Score(contextual):  53.85276284189257\n",
      "Dataset Name:  USAir , AUC Score(structural):  69.11504900701462\n",
      "Dataset Name:  USAir , AUC Score(joint):  56.68385622095102\n",
      "Dataset Name:  USAir , AUC Score(joint_structural):  64.31099888959918\n"
     ]
    },
    {
     "name": "stderr",
     "output_type": "stream",
     "text": [
      "loss: 0.69508 acc: 0.59375:   0%|          | 0/96 [02:15<?, ?batch/s]"
     ]
    },
    {
     "name": "stdout",
     "output_type": "stream",
     "text": [
      "Dataset Name:  USAir , AUC Score(benchmark/combined):  58.884428049360615\n",
      "Dataset Name:  USAir , AUC Score(contextual):  53.85276284189257\n",
      "Dataset Name:  USAir , AUC Score(structural):  69.11504900701462\n",
      "Dataset Name:  USAir , AUC Score(joint):  56.68385622095102\n",
      "Dataset Name:  USAir , AUC Score(joint_structural):  64.31099888959918\n"
     ]
    },
    {
     "name": "stderr",
     "output_type": "stream",
     "text": [
      "loss: 0.55202 acc: 0.75000:   0%|          | 0/96 [02:20<?, ?batch/s]"
     ]
    },
    {
     "name": "stdout",
     "output_type": "stream",
     "text": [
      "Dataset Name:  USAir , AUC Score(benchmark/combined):  58.884428049360615\n",
      "Dataset Name:  USAir , AUC Score(contextual):  53.85276284189257\n",
      "Dataset Name:  USAir , AUC Score(structural):  69.11504900701462\n",
      "Dataset Name:  USAir , AUC Score(joint):  56.68385622095102\n",
      "Dataset Name:  USAir , AUC Score(joint_structural):  64.31099888959918\n"
     ]
    },
    {
     "name": "stderr",
     "output_type": "stream",
     "text": [
      "loss: 0.52229 acc: 0.71875:   0%|          | 0/96 [02:26<?, ?batch/s]"
     ]
    },
    {
     "name": "stdout",
     "output_type": "stream",
     "text": [
      "Dataset Name:  USAir , AUC Score(benchmark/combined):  58.884428049360615\n",
      "Dataset Name:  USAir , AUC Score(contextual):  53.85276284189257\n",
      "Dataset Name:  USAir , AUC Score(structural):  69.11504900701462\n",
      "Dataset Name:  USAir , AUC Score(joint):  56.68385622095102\n",
      "Dataset Name:  USAir , AUC Score(joint_structural):  64.31099888959918\n"
     ]
    },
    {
     "name": "stderr",
     "output_type": "stream",
     "text": [
      "loss: 0.52770 acc: 0.75000:   0%|          | 0/96 [02:31<?, ?batch/s]"
     ]
    },
    {
     "name": "stdout",
     "output_type": "stream",
     "text": [
      "Dataset Name:  USAir , AUC Score(benchmark/combined):  58.884428049360615\n",
      "Dataset Name:  USAir , AUC Score(contextual):  54.740331403147565\n",
      "Dataset Name:  USAir , AUC Score(structural):  69.11504900701462\n",
      "Dataset Name:  USAir , AUC Score(joint):  56.68385622095102\n",
      "Dataset Name:  USAir , AUC Score(joint_structural):  64.31099888959918\n"
     ]
    },
    {
     "name": "stderr",
     "output_type": "stream",
     "text": [
      "loss: 0.39275 acc: 0.84375:   0%|          | 0/96 [02:36<?, ?batch/s]"
     ]
    },
    {
     "name": "stdout",
     "output_type": "stream",
     "text": [
      "Dataset Name:  USAir , AUC Score(benchmark/combined):  58.884428049360615\n",
      "Dataset Name:  USAir , AUC Score(contextual):  54.740331403147565\n",
      "Dataset Name:  USAir , AUC Score(structural):  69.11504900701462\n",
      "Dataset Name:  USAir , AUC Score(joint):  56.68385622095102\n",
      "Dataset Name:  USAir , AUC Score(joint_structural):  64.31099888959918\n"
     ]
    },
    {
     "name": "stderr",
     "output_type": "stream",
     "text": [
      "loss: 0.48602 acc: 0.75000:   0%|          | 0/96 [02:40<?, ?batch/s]"
     ]
    },
    {
     "name": "stdout",
     "output_type": "stream",
     "text": [
      "Dataset Name:  USAir , AUC Score(benchmark/combined):  58.884428049360615\n",
      "Dataset Name:  USAir , AUC Score(contextual):  54.740331403147565\n",
      "Dataset Name:  USAir , AUC Score(structural):  69.11504900701462\n",
      "Dataset Name:  USAir , AUC Score(joint):  56.68385622095102\n",
      "Dataset Name:  USAir , AUC Score(joint_structural):  64.31099888959918\n"
     ]
    },
    {
     "name": "stderr",
     "output_type": "stream",
     "text": [
      "loss: 0.49470 acc: 0.78125:   0%|          | 0/96 [02:46<?, ?batch/s]"
     ]
    },
    {
     "name": "stdout",
     "output_type": "stream",
     "text": [
      "Dataset Name:  USAir , AUC Score(benchmark/combined):  58.884428049360615\n",
      "Dataset Name:  USAir , AUC Score(contextual):  54.740331403147565\n",
      "Dataset Name:  USAir , AUC Score(structural):  69.11504900701462\n",
      "Dataset Name:  USAir , AUC Score(joint):  56.68385622095102\n",
      "Dataset Name:  USAir , AUC Score(joint_structural):  64.31099888959918\n"
     ]
    },
    {
     "name": "stderr",
     "output_type": "stream",
     "text": [
      "loss: 0.57344 acc: 0.65625:   0%|          | 0/96 [02:53<?, ?batch/s]"
     ]
    },
    {
     "name": "stdout",
     "output_type": "stream",
     "text": [
      "Dataset Name:  USAir , AUC Score(benchmark/combined):  58.884428049360615\n",
      "Dataset Name:  USAir , AUC Score(contextual):  54.740331403147565\n",
      "Dataset Name:  USAir , AUC Score(structural):  69.11504900701462\n",
      "Dataset Name:  USAir , AUC Score(joint):  56.68385622095102\n",
      "Dataset Name:  USAir , AUC Score(joint_structural):  64.31099888959918\n"
     ]
    },
    {
     "name": "stderr",
     "output_type": "stream",
     "text": [
      "loss: 0.64220 acc: 0.71875:   0%|          | 0/96 [02:58<?, ?batch/s]"
     ]
    },
    {
     "name": "stdout",
     "output_type": "stream",
     "text": [
      "Dataset Name:  USAir , AUC Score(benchmark/combined):  58.884428049360615\n",
      "Dataset Name:  USAir , AUC Score(contextual):  54.740331403147565\n",
      "Dataset Name:  USAir , AUC Score(structural):  69.11504900701462\n",
      "Dataset Name:  USAir , AUC Score(joint):  56.68385622095102\n",
      "Dataset Name:  USAir , AUC Score(joint_structural):  64.31099888959918\n"
     ]
    },
    {
     "name": "stderr",
     "output_type": "stream",
     "text": [
      "loss: 0.47329 acc: 0.81250:   0%|          | 0/96 [03:02<?, ?batch/s]"
     ]
    },
    {
     "name": "stdout",
     "output_type": "stream",
     "text": [
      "Dataset Name:  USAir , AUC Score(benchmark/combined):  58.884428049360615\n",
      "Dataset Name:  USAir , AUC Score(contextual):  54.740331403147565\n",
      "Dataset Name:  USAir , AUC Score(structural):  69.11504900701462\n",
      "Dataset Name:  USAir , AUC Score(joint):  56.68385622095102\n",
      "Dataset Name:  USAir , AUC Score(joint_structural):  64.31099888959918\n"
     ]
    },
    {
     "name": "stderr",
     "output_type": "stream",
     "text": [
      "loss: 0.46705 acc: 0.81250:   0%|          | 0/96 [03:06<?, ?batch/s]"
     ]
    },
    {
     "name": "stdout",
     "output_type": "stream",
     "text": [
      "Dataset Name:  USAir , AUC Score(benchmark/combined):  58.884428049360615\n",
      "Dataset Name:  USAir , AUC Score(contextual):  54.740331403147565\n",
      "Dataset Name:  USAir , AUC Score(structural):  69.11504900701462\n",
      "Dataset Name:  USAir , AUC Score(joint):  56.68385622095102\n",
      "Dataset Name:  USAir , AUC Score(joint_structural):  64.31099888959918\n"
     ]
    },
    {
     "name": "stderr",
     "output_type": "stream",
     "text": [
      "loss: 0.42184 acc: 0.87500:   0%|          | 0/96 [03:10<?, ?batch/s]"
     ]
    },
    {
     "name": "stdout",
     "output_type": "stream",
     "text": [
      "Dataset Name:  USAir , AUC Score(benchmark/combined):  58.884428049360615\n",
      "Dataset Name:  USAir , AUC Score(contextual):  54.740331403147565\n",
      "Dataset Name:  USAir , AUC Score(structural):  69.11504900701462\n",
      "Dataset Name:  USAir , AUC Score(joint):  56.68385622095102\n",
      "Dataset Name:  USAir , AUC Score(joint_structural):  64.31099888959918\n"
     ]
    },
    {
     "name": "stderr",
     "output_type": "stream",
     "text": [
      "loss: 0.47417 acc: 0.78125:   0%|          | 0/96 [03:14<?, ?batch/s]"
     ]
    },
    {
     "name": "stdout",
     "output_type": "stream",
     "text": [
      "Dataset Name:  USAir , AUC Score(benchmark/combined):  58.884428049360615\n",
      "Dataset Name:  USAir , AUC Score(contextual):  54.740331403147565\n",
      "Dataset Name:  USAir , AUC Score(structural):  69.11504900701462\n",
      "Dataset Name:  USAir , AUC Score(joint):  56.68385622095102\n",
      "Dataset Name:  USAir , AUC Score(joint_structural):  64.31099888959918\n"
     ]
    },
    {
     "name": "stderr",
     "output_type": "stream",
     "text": [
      "loss: 0.40904 acc: 0.87500:   0%|          | 0/96 [03:19<?, ?batch/s]"
     ]
    },
    {
     "name": "stdout",
     "output_type": "stream",
     "text": [
      "Dataset Name:  USAir , AUC Score(benchmark/combined):  58.884428049360615\n",
      "Dataset Name:  USAir , AUC Score(contextual):  54.740331403147565\n",
      "Dataset Name:  USAir , AUC Score(structural):  69.11504900701462\n",
      "Dataset Name:  USAir , AUC Score(joint):  56.68385622095102\n",
      "Dataset Name:  USAir , AUC Score(joint_structural):  64.31099888959918\n"
     ]
    },
    {
     "name": "stderr",
     "output_type": "stream",
     "text": [
      "loss: 0.59624 acc: 0.71875:   0%|          | 0/96 [03:25<?, ?batch/s]"
     ]
    },
    {
     "name": "stdout",
     "output_type": "stream",
     "text": [
      "Dataset Name:  USAir , AUC Score(benchmark/combined):  60.75343311392207\n",
      "Dataset Name:  USAir , AUC Score(contextual):  54.740331403147565\n",
      "Dataset Name:  USAir , AUC Score(structural):  69.11504900701462\n",
      "Dataset Name:  USAir , AUC Score(joint):  56.68385622095102\n",
      "Dataset Name:  USAir , AUC Score(joint_structural):  64.31099888959918\n"
     ]
    },
    {
     "name": "stderr",
     "output_type": "stream",
     "text": [
      "loss: 0.48548 acc: 0.78125:   0%|          | 0/96 [03:31<?, ?batch/s]"
     ]
    },
    {
     "name": "stdout",
     "output_type": "stream",
     "text": [
      "Dataset Name:  USAir , AUC Score(benchmark/combined):  60.75343311392207\n",
      "Dataset Name:  USAir , AUC Score(contextual):  54.740331403147565\n",
      "Dataset Name:  USAir , AUC Score(structural):  69.11504900701462\n",
      "Dataset Name:  USAir , AUC Score(joint):  56.68385622095102\n",
      "Dataset Name:  USAir , AUC Score(joint_structural):  64.31099888959918\n"
     ]
    },
    {
     "name": "stderr",
     "output_type": "stream",
     "text": [
      "loss: 0.50010 acc: 0.81250:   0%|          | 0/96 [03:35<?, ?batch/s]"
     ]
    },
    {
     "name": "stdout",
     "output_type": "stream",
     "text": [
      "Dataset Name:  USAir , AUC Score(benchmark/combined):  60.75343311392207\n",
      "Dataset Name:  USAir , AUC Score(contextual):  54.740331403147565\n",
      "Dataset Name:  USAir , AUC Score(structural):  69.11504900701462\n",
      "Dataset Name:  USAir , AUC Score(joint):  56.68385622095102\n",
      "Dataset Name:  USAir , AUC Score(joint_structural):  64.31099888959918\n"
     ]
    },
    {
     "name": "stderr",
     "output_type": "stream",
     "text": [
      "loss: 0.45961 acc: 0.84375:   0%|          | 0/96 [03:40<?, ?batch/s]"
     ]
    },
    {
     "name": "stdout",
     "output_type": "stream",
     "text": [
      "Dataset Name:  USAir , AUC Score(benchmark/combined):  60.75343311392207\n",
      "Dataset Name:  USAir , AUC Score(contextual):  54.740331403147565\n",
      "Dataset Name:  USAir , AUC Score(structural):  69.11504900701462\n",
      "Dataset Name:  USAir , AUC Score(joint):  56.68385622095102\n",
      "Dataset Name:  USAir , AUC Score(joint_structural):  64.31099888959918\n"
     ]
    },
    {
     "name": "stderr",
     "output_type": "stream",
     "text": [
      "loss: 0.44663 acc: 0.78125:   0%|          | 0/96 [03:44<?, ?batch/s]"
     ]
    },
    {
     "name": "stdout",
     "output_type": "stream",
     "text": [
      "Dataset Name:  USAir , AUC Score(benchmark/combined):  60.75343311392207\n",
      "Dataset Name:  USAir , AUC Score(contextual):  54.740331403147565\n",
      "Dataset Name:  USAir , AUC Score(structural):  69.11504900701462\n",
      "Dataset Name:  USAir , AUC Score(joint):  56.68385622095102\n",
      "Dataset Name:  USAir , AUC Score(joint_structural):  64.31099888959918\n"
     ]
    },
    {
     "name": "stderr",
     "output_type": "stream",
     "text": [
      "loss: 0.52196 acc: 0.90625:   0%|          | 0/96 [03:48<?, ?batch/s]"
     ]
    },
    {
     "name": "stdout",
     "output_type": "stream",
     "text": [
      "Dataset Name:  USAir , AUC Score(benchmark/combined):  60.75343311392207\n",
      "Dataset Name:  USAir , AUC Score(contextual):  54.740331403147565\n",
      "Dataset Name:  USAir , AUC Score(structural):  69.11504900701462\n",
      "Dataset Name:  USAir , AUC Score(joint):  56.68385622095102\n",
      "Dataset Name:  USAir , AUC Score(joint_structural):  64.31099888959918\n"
     ]
    },
    {
     "name": "stderr",
     "output_type": "stream",
     "text": [
      "loss: 0.69186 acc: 0.62500:   0%|          | 0/96 [03:52<?, ?batch/s]"
     ]
    },
    {
     "name": "stdout",
     "output_type": "stream",
     "text": [
      "Dataset Name:  USAir , AUC Score(benchmark/combined):  60.75343311392207\n",
      "Dataset Name:  USAir , AUC Score(contextual):  54.740331403147565\n",
      "Dataset Name:  USAir , AUC Score(structural):  69.11504900701462\n",
      "Dataset Name:  USAir , AUC Score(joint):  56.68385622095102\n",
      "Dataset Name:  USAir , AUC Score(joint_structural):  64.31099888959918\n"
     ]
    },
    {
     "name": "stderr",
     "output_type": "stream",
     "text": [
      "loss: 0.69915 acc: 0.65625:   0%|          | 0/96 [03:57<?, ?batch/s]"
     ]
    },
    {
     "name": "stdout",
     "output_type": "stream",
     "text": [
      "Dataset Name:  USAir , AUC Score(benchmark/combined):  60.75343311392207\n",
      "Dataset Name:  USAir , AUC Score(contextual):  54.740331403147565\n",
      "Dataset Name:  USAir , AUC Score(structural):  69.11504900701462\n",
      "Dataset Name:  USAir , AUC Score(joint):  56.68385622095102\n",
      "Dataset Name:  USAir , AUC Score(joint_structural):  64.31099888959918\n"
     ]
    },
    {
     "name": "stderr",
     "output_type": "stream",
     "text": [
      "loss: 0.51752 acc: 0.71875:   0%|          | 0/96 [04:02<?, ?batch/s]"
     ]
    },
    {
     "name": "stdout",
     "output_type": "stream",
     "text": [
      "Dataset Name:  USAir , AUC Score(benchmark/combined):  60.75343311392207\n",
      "Dataset Name:  USAir , AUC Score(contextual):  54.740331403147565\n",
      "Dataset Name:  USAir , AUC Score(structural):  69.11504900701462\n",
      "Dataset Name:  USAir , AUC Score(joint):  56.68385622095102\n",
      "Dataset Name:  USAir , AUC Score(joint_structural):  64.31099888959918\n"
     ]
    },
    {
     "name": "stderr",
     "output_type": "stream",
     "text": [
      "loss: 0.64637 acc: 0.78125:   0%|          | 0/96 [04:08<?, ?batch/s]"
     ]
    },
    {
     "name": "stdout",
     "output_type": "stream",
     "text": [
      "Dataset Name:  USAir , AUC Score(benchmark/combined):  60.75343311392207\n",
      "Dataset Name:  USAir , AUC Score(contextual):  54.740331403147565\n",
      "Dataset Name:  USAir , AUC Score(structural):  69.11504900701462\n",
      "Dataset Name:  USAir , AUC Score(joint):  56.68385622095102\n",
      "Dataset Name:  USAir , AUC Score(joint_structural):  64.31099888959918\n"
     ]
    },
    {
     "name": "stderr",
     "output_type": "stream",
     "text": [
      "loss: 0.75080 acc: 0.56250:   0%|          | 0/96 [04:12<?, ?batch/s]"
     ]
    },
    {
     "name": "stdout",
     "output_type": "stream",
     "text": [
      "Dataset Name:  USAir , AUC Score(benchmark/combined):  60.75343311392207\n",
      "Dataset Name:  USAir , AUC Score(contextual):  54.740331403147565\n",
      "Dataset Name:  USAir , AUC Score(structural):  69.11504900701462\n",
      "Dataset Name:  USAir , AUC Score(joint):  56.68385622095102\n",
      "Dataset Name:  USAir , AUC Score(joint_structural):  64.31099888959918\n"
     ]
    },
    {
     "name": "stderr",
     "output_type": "stream",
     "text": [
      "loss: 0.58290 acc: 0.68750:   0%|          | 0/96 [04:18<?, ?batch/s]"
     ]
    },
    {
     "name": "stdout",
     "output_type": "stream",
     "text": [
      "Dataset Name:  USAir , AUC Score(benchmark/combined):  60.75343311392207\n",
      "Dataset Name:  USAir , AUC Score(contextual):  54.740331403147565\n",
      "Dataset Name:  USAir , AUC Score(structural):  69.11504900701462\n",
      "Dataset Name:  USAir , AUC Score(joint):  56.68385622095102\n",
      "Dataset Name:  USAir , AUC Score(joint_structural):  64.31099888959918\n"
     ]
    },
    {
     "name": "stderr",
     "output_type": "stream",
     "text": [
      "loss: 0.49122 acc: 0.78125:   0%|          | 0/96 [04:23<?, ?batch/s]"
     ]
    },
    {
     "name": "stdout",
     "output_type": "stream",
     "text": [
      "Dataset Name:  USAir , AUC Score(benchmark/combined):  60.75343311392207\n",
      "Dataset Name:  USAir , AUC Score(contextual):  54.740331403147565\n",
      "Dataset Name:  USAir , AUC Score(structural):  69.11504900701462\n",
      "Dataset Name:  USAir , AUC Score(joint):  56.68385622095102\n",
      "Dataset Name:  USAir , AUC Score(joint_structural):  64.31099888959918\n"
     ]
    },
    {
     "name": "stderr",
     "output_type": "stream",
     "text": [
      "loss: 0.52895 acc: 0.78125:   0%|          | 0/96 [04:28<?, ?batch/s]"
     ]
    },
    {
     "name": "stdout",
     "output_type": "stream",
     "text": [
      "Dataset Name:  USAir , AUC Score(benchmark/combined):  60.75343311392207\n",
      "Dataset Name:  USAir , AUC Score(contextual):  54.740331403147565\n",
      "Dataset Name:  USAir , AUC Score(structural):  69.11504900701462\n",
      "Dataset Name:  USAir , AUC Score(joint):  56.68385622095102\n",
      "Dataset Name:  USAir , AUC Score(joint_structural):  64.31099888959918\n"
     ]
    },
    {
     "name": "stderr",
     "output_type": "stream",
     "text": [
      "loss: 0.37332 acc: 0.84375:   0%|          | 0/96 [04:33<?, ?batch/s]"
     ]
    },
    {
     "name": "stdout",
     "output_type": "stream",
     "text": [
      "Dataset Name:  USAir , AUC Score(benchmark/combined):  60.75343311392207\n",
      "Dataset Name:  USAir , AUC Score(contextual):  54.740331403147565\n",
      "Dataset Name:  USAir , AUC Score(structural):  69.11504900701462\n",
      "Dataset Name:  USAir , AUC Score(joint):  56.68385622095102\n",
      "Dataset Name:  USAir , AUC Score(joint_structural):  64.31099888959918\n"
     ]
    },
    {
     "name": "stderr",
     "output_type": "stream",
     "text": [
      "loss: 0.66580 acc: 0.68750:   0%|          | 0/96 [04:39<?, ?batch/s]"
     ]
    },
    {
     "name": "stdout",
     "output_type": "stream",
     "text": [
      "Dataset Name:  USAir , AUC Score(benchmark/combined):  60.75343311392207\n",
      "Dataset Name:  USAir , AUC Score(contextual):  54.740331403147565\n",
      "Dataset Name:  USAir , AUC Score(structural):  69.11504900701462\n",
      "Dataset Name:  USAir , AUC Score(joint):  56.68385622095102\n",
      "Dataset Name:  USAir , AUC Score(joint_structural):  64.31099888959918\n"
     ]
    },
    {
     "name": "stderr",
     "output_type": "stream",
     "text": [
      "loss: 0.57954 acc: 0.68750:   0%|          | 0/96 [04:45<?, ?batch/s]"
     ]
    },
    {
     "name": "stdout",
     "output_type": "stream",
     "text": [
      "Dataset Name:  USAir , AUC Score(benchmark/combined):  60.75343311392207\n",
      "Dataset Name:  USAir , AUC Score(contextual):  54.740331403147565\n",
      "Dataset Name:  USAir , AUC Score(structural):  69.11504900701462\n",
      "Dataset Name:  USAir , AUC Score(joint):  56.68385622095102\n",
      "Dataset Name:  USAir , AUC Score(joint_structural):  64.31099888959918\n"
     ]
    },
    {
     "name": "stderr",
     "output_type": "stream",
     "text": [
      "loss: 0.65811 acc: 0.59375:   0%|          | 0/96 [04:50<?, ?batch/s]"
     ]
    },
    {
     "name": "stdout",
     "output_type": "stream",
     "text": [
      "Dataset Name:  USAir , AUC Score(benchmark/combined):  60.75343311392207\n",
      "Dataset Name:  USAir , AUC Score(contextual):  54.740331403147565\n",
      "Dataset Name:  USAir , AUC Score(structural):  69.11504900701462\n",
      "Dataset Name:  USAir , AUC Score(joint):  56.68385622095102\n",
      "Dataset Name:  USAir , AUC Score(joint_structural):  64.31099888959918\n"
     ]
    },
    {
     "name": "stderr",
     "output_type": "stream",
     "text": [
      "loss: 0.44900 acc: 0.84375:   0%|          | 0/96 [04:55<?, ?batch/s]"
     ]
    },
    {
     "name": "stdout",
     "output_type": "stream",
     "text": [
      "Dataset Name:  USAir , AUC Score(benchmark/combined):  60.75343311392207\n",
      "Dataset Name:  USAir , AUC Score(contextual):  54.740331403147565\n",
      "Dataset Name:  USAir , AUC Score(structural):  69.11504900701462\n",
      "Dataset Name:  USAir , AUC Score(joint):  56.68385622095102\n",
      "Dataset Name:  USAir , AUC Score(joint_structural):  64.31099888959918\n"
     ]
    },
    {
     "name": "stderr",
     "output_type": "stream",
     "text": [
      "loss: 0.52766 acc: 0.75000:   0%|          | 0/96 [05:00<?, ?batch/s]"
     ]
    },
    {
     "name": "stdout",
     "output_type": "stream",
     "text": [
      "Dataset Name:  USAir , AUC Score(benchmark/combined):  60.75343311392207\n",
      "Dataset Name:  USAir , AUC Score(contextual):  54.740331403147565\n",
      "Dataset Name:  USAir , AUC Score(structural):  69.11504900701462\n",
      "Dataset Name:  USAir , AUC Score(joint):  56.68385622095102\n",
      "Dataset Name:  USAir , AUC Score(joint_structural):  64.31099888959918\n"
     ]
    },
    {
     "name": "stderr",
     "output_type": "stream",
     "text": [
      "loss: 0.49377 acc: 0.81250:   0%|          | 0/96 [05:06<?, ?batch/s]"
     ]
    },
    {
     "name": "stdout",
     "output_type": "stream",
     "text": [
      "Dataset Name:  USAir , AUC Score(benchmark/combined):  60.75343311392207\n",
      "Dataset Name:  USAir , AUC Score(contextual):  54.740331403147565\n",
      "Dataset Name:  USAir , AUC Score(structural):  69.11504900701462\n",
      "Dataset Name:  USAir , AUC Score(joint):  56.68385622095102\n",
      "Dataset Name:  USAir , AUC Score(joint_structural):  64.31099888959918\n"
     ]
    },
    {
     "name": "stderr",
     "output_type": "stream",
     "text": [
      "loss: 0.57703 acc: 0.71875:   0%|          | 0/96 [05:11<?, ?batch/s]"
     ]
    },
    {
     "name": "stdout",
     "output_type": "stream",
     "text": [
      "Dataset Name:  USAir , AUC Score(benchmark/combined):  60.75343311392207\n",
      "Dataset Name:  USAir , AUC Score(contextual):  54.740331403147565\n",
      "Dataset Name:  USAir , AUC Score(structural):  69.11504900701462\n",
      "Dataset Name:  USAir , AUC Score(joint):  56.68385622095102\n",
      "Dataset Name:  USAir , AUC Score(joint_structural):  64.31099888959918\n"
     ]
    },
    {
     "name": "stderr",
     "output_type": "stream",
     "text": [
      "loss: 0.43674 acc: 0.78125:   0%|          | 0/96 [05:15<?, ?batch/s]"
     ]
    },
    {
     "name": "stdout",
     "output_type": "stream",
     "text": [
      "Dataset Name:  USAir , AUC Score(benchmark/combined):  60.75343311392207\n",
      "Dataset Name:  USAir , AUC Score(contextual):  54.740331403147565\n",
      "Dataset Name:  USAir , AUC Score(structural):  69.11504900701462\n",
      "Dataset Name:  USAir , AUC Score(joint):  56.68385622095102\n",
      "Dataset Name:  USAir , AUC Score(joint_structural):  64.31099888959918\n"
     ]
    },
    {
     "name": "stderr",
     "output_type": "stream",
     "text": [
      "loss: 0.63723 acc: 0.71875:   0%|          | 0/96 [05:20<?, ?batch/s]"
     ]
    },
    {
     "name": "stdout",
     "output_type": "stream",
     "text": [
      "Dataset Name:  USAir , AUC Score(benchmark/combined):  60.75343311392207\n",
      "Dataset Name:  USAir , AUC Score(contextual):  54.740331403147565\n",
      "Dataset Name:  USAir , AUC Score(structural):  69.11504900701462\n",
      "Dataset Name:  USAir , AUC Score(joint):  56.68385622095102\n",
      "Dataset Name:  USAir , AUC Score(joint_structural):  64.31099888959918\n"
     ]
    },
    {
     "name": "stderr",
     "output_type": "stream",
     "text": [
      "loss: 0.59406 acc: 0.71875:   0%|          | 0/96 [05:24<?, ?batch/s]"
     ]
    },
    {
     "name": "stdout",
     "output_type": "stream",
     "text": [
      "Dataset Name:  USAir , AUC Score(benchmark/combined):  60.75343311392207\n",
      "Dataset Name:  USAir , AUC Score(contextual):  54.740331403147565\n",
      "Dataset Name:  USAir , AUC Score(structural):  69.11504900701462\n",
      "Dataset Name:  USAir , AUC Score(joint):  56.68385622095102\n",
      "Dataset Name:  USAir , AUC Score(joint_structural):  64.31099888959918\n"
     ]
    },
    {
     "name": "stderr",
     "output_type": "stream",
     "text": [
      "loss: 0.59179 acc: 0.68750:   0%|          | 0/96 [05:29<?, ?batch/s]"
     ]
    },
    {
     "name": "stdout",
     "output_type": "stream",
     "text": [
      "Dataset Name:  USAir , AUC Score(benchmark/combined):  60.75343311392207\n",
      "Dataset Name:  USAir , AUC Score(contextual):  54.740331403147565\n",
      "Dataset Name:  USAir , AUC Score(structural):  69.11504900701462\n",
      "Dataset Name:  USAir , AUC Score(joint):  56.68385622095102\n",
      "Dataset Name:  USAir , AUC Score(joint_structural):  64.31099888959918\n"
     ]
    },
    {
     "name": "stderr",
     "output_type": "stream",
     "text": [
      "loss: 0.51621 acc: 0.81250:   0%|          | 0/96 [05:35<?, ?batch/s]"
     ]
    },
    {
     "name": "stdout",
     "output_type": "stream",
     "text": [
      "Dataset Name:  USAir , AUC Score(benchmark/combined):  60.75343311392207\n",
      "Dataset Name:  USAir , AUC Score(contextual):  54.740331403147565\n",
      "Dataset Name:  USAir , AUC Score(structural):  69.11504900701462\n",
      "Dataset Name:  USAir , AUC Score(joint):  56.68385622095102\n",
      "Dataset Name:  USAir , AUC Score(joint_structural):  64.31099888959918\n"
     ]
    },
    {
     "name": "stderr",
     "output_type": "stream",
     "text": [
      "loss: 0.47096 acc: 0.78125:   0%|          | 0/96 [05:39<?, ?batch/s]"
     ]
    },
    {
     "name": "stdout",
     "output_type": "stream",
     "text": [
      "Dataset Name:  USAir , AUC Score(benchmark/combined):  60.75343311392207\n",
      "Dataset Name:  USAir , AUC Score(contextual):  54.740331403147565\n",
      "Dataset Name:  USAir , AUC Score(structural):  69.11504900701462\n",
      "Dataset Name:  USAir , AUC Score(joint):  56.68385622095102\n",
      "Dataset Name:  USAir , AUC Score(joint_structural):  64.31099888959918\n"
     ]
    },
    {
     "name": "stderr",
     "output_type": "stream",
     "text": [
      "loss: 0.47748 acc: 0.78125:   0%|          | 0/96 [05:44<?, ?batch/s]"
     ]
    },
    {
     "name": "stdout",
     "output_type": "stream",
     "text": [
      "Dataset Name:  USAir , AUC Score(benchmark/combined):  60.75343311392207\n",
      "Dataset Name:  USAir , AUC Score(contextual):  54.740331403147565\n",
      "Dataset Name:  USAir , AUC Score(structural):  69.11504900701462\n",
      "Dataset Name:  USAir , AUC Score(joint):  56.68385622095102\n",
      "Dataset Name:  USAir , AUC Score(joint_structural):  64.31099888959918\n"
     ]
    },
    {
     "name": "stderr",
     "output_type": "stream",
     "text": [
      "loss: 0.62390 acc: 0.71875:   0%|          | 0/96 [05:49<?, ?batch/s]"
     ]
    },
    {
     "name": "stdout",
     "output_type": "stream",
     "text": [
      "Dataset Name:  USAir , AUC Score(benchmark/combined):  60.75343311392207\n",
      "Dataset Name:  USAir , AUC Score(contextual):  54.740331403147565\n",
      "Dataset Name:  USAir , AUC Score(structural):  69.11504900701462\n",
      "Dataset Name:  USAir , AUC Score(joint):  56.68385622095102\n",
      "Dataset Name:  USAir , AUC Score(joint_structural):  64.31099888959918\n"
     ]
    },
    {
     "name": "stderr",
     "output_type": "stream",
     "text": [
      "loss: 0.47942 acc: 0.81250:   0%|          | 0/96 [05:54<?, ?batch/s]"
     ]
    },
    {
     "name": "stdout",
     "output_type": "stream",
     "text": [
      "Dataset Name:  USAir , AUC Score(benchmark/combined):  60.75343311392207\n",
      "Dataset Name:  USAir , AUC Score(contextual):  54.740331403147565\n",
      "Dataset Name:  USAir , AUC Score(structural):  69.11504900701462\n",
      "Dataset Name:  USAir , AUC Score(joint):  56.68385622095102\n",
      "Dataset Name:  USAir , AUC Score(joint_structural):  64.31099888959918\n"
     ]
    },
    {
     "name": "stderr",
     "output_type": "stream",
     "text": [
      "loss: 0.72787 acc: 0.59375:   0%|          | 0/96 [05:59<?, ?batch/s]"
     ]
    },
    {
     "name": "stdout",
     "output_type": "stream",
     "text": [
      "Dataset Name:  USAir , AUC Score(benchmark/combined):  60.75343311392207\n",
      "Dataset Name:  USAir , AUC Score(contextual):  54.740331403147565\n",
      "Dataset Name:  USAir , AUC Score(structural):  69.11504900701462\n",
      "Dataset Name:  USAir , AUC Score(joint):  56.68385622095102\n",
      "Dataset Name:  USAir , AUC Score(joint_structural):  64.31099888959918\n"
     ]
    },
    {
     "name": "stderr",
     "output_type": "stream",
     "text": [
      "loss: 0.46751 acc: 0.84375:   0%|          | 0/96 [06:05<?, ?batch/s]"
     ]
    },
    {
     "name": "stdout",
     "output_type": "stream",
     "text": [
      "Dataset Name:  USAir , AUC Score(benchmark/combined):  60.75343311392207\n",
      "Dataset Name:  USAir , AUC Score(contextual):  54.740331403147565\n",
      "Dataset Name:  USAir , AUC Score(structural):  69.11504900701462\n",
      "Dataset Name:  USAir , AUC Score(joint):  56.68385622095102\n",
      "Dataset Name:  USAir , AUC Score(joint_structural):  64.31099888959918\n"
     ]
    },
    {
     "name": "stderr",
     "output_type": "stream",
     "text": [
      "loss: 0.52706 acc: 0.84375:   0%|          | 0/96 [06:11<?, ?batch/s]"
     ]
    },
    {
     "name": "stdout",
     "output_type": "stream",
     "text": [
      "Dataset Name:  USAir , AUC Score(benchmark/combined):  60.75343311392207\n",
      "Dataset Name:  USAir , AUC Score(contextual):  54.740331403147565\n",
      "Dataset Name:  USAir , AUC Score(structural):  69.11504900701462\n",
      "Dataset Name:  USAir , AUC Score(joint):  56.68385622095102\n",
      "Dataset Name:  USAir , AUC Score(joint_structural):  64.31099888959918\n"
     ]
    },
    {
     "name": "stderr",
     "output_type": "stream",
     "text": [
      "loss: 0.61888 acc: 0.75000:   0%|          | 0/96 [06:16<?, ?batch/s]"
     ]
    },
    {
     "name": "stdout",
     "output_type": "stream",
     "text": [
      "Dataset Name:  USAir , AUC Score(benchmark/combined):  60.75343311392207\n",
      "Dataset Name:  USAir , AUC Score(contextual):  54.740331403147565\n",
      "Dataset Name:  USAir , AUC Score(structural):  69.11504900701462\n",
      "Dataset Name:  USAir , AUC Score(joint):  56.68385622095102\n",
      "Dataset Name:  USAir , AUC Score(joint_structural):  64.31099888959918\n"
     ]
    },
    {
     "name": "stderr",
     "output_type": "stream",
     "text": [
      "loss: 0.59362 acc: 0.68750:   0%|          | 0/96 [06:21<?, ?batch/s]"
     ]
    },
    {
     "name": "stdout",
     "output_type": "stream",
     "text": [
      "Dataset Name:  USAir , AUC Score(benchmark/combined):  60.75343311392207\n",
      "Dataset Name:  USAir , AUC Score(contextual):  54.740331403147565\n",
      "Dataset Name:  USAir , AUC Score(structural):  69.11504900701462\n",
      "Dataset Name:  USAir , AUC Score(joint):  56.68385622095102\n",
      "Dataset Name:  USAir , AUC Score(joint_structural):  64.31099888959918\n"
     ]
    },
    {
     "name": "stderr",
     "output_type": "stream",
     "text": [
      "loss: 0.56563 acc: 0.71875:   0%|          | 0/96 [06:27<?, ?batch/s]"
     ]
    },
    {
     "name": "stdout",
     "output_type": "stream",
     "text": [
      "Dataset Name:  USAir , AUC Score(benchmark/combined):  60.75343311392207\n",
      "Dataset Name:  USAir , AUC Score(contextual):  54.740331403147565\n",
      "Dataset Name:  USAir , AUC Score(structural):  69.11504900701462\n",
      "Dataset Name:  USAir , AUC Score(joint):  56.68385622095102\n",
      "Dataset Name:  USAir , AUC Score(joint_structural):  64.31099888959918\n"
     ]
    },
    {
     "name": "stderr",
     "output_type": "stream",
     "text": [
      "loss: 0.55655 acc: 0.75000:   0%|          | 0/96 [06:31<?, ?batch/s]"
     ]
    },
    {
     "name": "stdout",
     "output_type": "stream",
     "text": [
      "Dataset Name:  USAir , AUC Score(benchmark/combined):  60.75343311392207\n",
      "Dataset Name:  USAir , AUC Score(contextual):  54.740331403147565\n",
      "Dataset Name:  USAir , AUC Score(structural):  69.11504900701462\n",
      "Dataset Name:  USAir , AUC Score(joint):  56.68385622095102\n",
      "Dataset Name:  USAir , AUC Score(joint_structural):  64.31099888959918\n"
     ]
    },
    {
     "name": "stderr",
     "output_type": "stream",
     "text": [
      "loss: 0.46897 acc: 0.84375:   0%|          | 0/96 [06:36<?, ?batch/s]"
     ]
    },
    {
     "name": "stdout",
     "output_type": "stream",
     "text": [
      "Dataset Name:  USAir , AUC Score(benchmark/combined):  60.75343311392207\n",
      "Dataset Name:  USAir , AUC Score(contextual):  54.740331403147565\n",
      "Dataset Name:  USAir , AUC Score(structural):  69.11504900701462\n",
      "Dataset Name:  USAir , AUC Score(joint):  56.68385622095102\n",
      "Dataset Name:  USAir , AUC Score(joint_structural):  64.31099888959918\n"
     ]
    },
    {
     "name": "stderr",
     "output_type": "stream",
     "text": [
      "loss: 0.62886 acc: 0.65625:   0%|          | 0/96 [06:40<?, ?batch/s]"
     ]
    },
    {
     "name": "stdout",
     "output_type": "stream",
     "text": [
      "Dataset Name:  USAir , AUC Score(benchmark/combined):  60.75343311392207\n",
      "Dataset Name:  USAir , AUC Score(contextual):  54.740331403147565\n",
      "Dataset Name:  USAir , AUC Score(structural):  69.11504900701462\n",
      "Dataset Name:  USAir , AUC Score(joint):  56.68385622095102\n",
      "Dataset Name:  USAir , AUC Score(joint_structural):  64.31099888959918\n"
     ]
    },
    {
     "name": "stderr",
     "output_type": "stream",
     "text": [
      "loss: 0.51137 acc: 0.78125:   0%|          | 0/96 [06:46<?, ?batch/s]"
     ]
    },
    {
     "name": "stdout",
     "output_type": "stream",
     "text": [
      "Dataset Name:  USAir , AUC Score(benchmark/combined):  60.75343311392207\n",
      "Dataset Name:  USAir , AUC Score(contextual):  54.740331403147565\n",
      "Dataset Name:  USAir , AUC Score(structural):  69.11504900701462\n",
      "Dataset Name:  USAir , AUC Score(joint):  56.68385622095102\n",
      "Dataset Name:  USAir , AUC Score(joint_structural):  64.31099888959918\n"
     ]
    },
    {
     "name": "stderr",
     "output_type": "stream",
     "text": [
      "loss: 0.64147 acc: 0.62500:   0%|          | 0/96 [06:51<?, ?batch/s]"
     ]
    },
    {
     "name": "stdout",
     "output_type": "stream",
     "text": [
      "Dataset Name:  USAir , AUC Score(benchmark/combined):  60.75343311392207\n",
      "Dataset Name:  USAir , AUC Score(contextual):  54.740331403147565\n",
      "Dataset Name:  USAir , AUC Score(structural):  69.11504900701462\n",
      "Dataset Name:  USAir , AUC Score(joint):  56.68385622095102\n",
      "Dataset Name:  USAir , AUC Score(joint_structural):  64.31099888959918\n"
     ]
    },
    {
     "name": "stderr",
     "output_type": "stream",
     "text": [
      "loss: 0.60603 acc: 0.71875:   0%|          | 0/96 [06:56<?, ?batch/s]"
     ]
    },
    {
     "name": "stdout",
     "output_type": "stream",
     "text": [
      "Dataset Name:  USAir , AUC Score(benchmark/combined):  60.75343311392207\n",
      "Dataset Name:  USAir , AUC Score(contextual):  54.740331403147565\n",
      "Dataset Name:  USAir , AUC Score(structural):  69.11504900701462\n",
      "Dataset Name:  USAir , AUC Score(joint):  56.68385622095102\n",
      "Dataset Name:  USAir , AUC Score(joint_structural):  64.31099888959918\n"
     ]
    },
    {
     "name": "stderr",
     "output_type": "stream",
     "text": [
      "loss: 0.57603 acc: 0.78125:   0%|          | 0/96 [07:02<?, ?batch/s]"
     ]
    },
    {
     "name": "stdout",
     "output_type": "stream",
     "text": [
      "Dataset Name:  USAir , AUC Score(benchmark/combined):  60.75343311392207\n",
      "Dataset Name:  USAir , AUC Score(contextual):  54.740331403147565\n",
      "Dataset Name:  USAir , AUC Score(structural):  69.11504900701462\n",
      "Dataset Name:  USAir , AUC Score(joint):  56.68385622095102\n",
      "Dataset Name:  USAir , AUC Score(joint_structural):  64.31099888959918\n"
     ]
    },
    {
     "name": "stderr",
     "output_type": "stream",
     "text": [
      "loss: 0.61177 acc: 0.71875:   0%|          | 0/96 [07:06<?, ?batch/s]"
     ]
    },
    {
     "name": "stdout",
     "output_type": "stream",
     "text": [
      "Dataset Name:  USAir , AUC Score(benchmark/combined):  60.75343311392207\n",
      "Dataset Name:  USAir , AUC Score(contextual):  54.740331403147565\n",
      "Dataset Name:  USAir , AUC Score(structural):  69.11504900701462\n",
      "Dataset Name:  USAir , AUC Score(joint):  56.68385622095102\n",
      "Dataset Name:  USAir , AUC Score(joint_structural):  64.31099888959918\n"
     ]
    },
    {
     "name": "stderr",
     "output_type": "stream",
     "text": [
      "loss: 0.59192 acc: 0.71875:   0%|          | 0/96 [07:11<?, ?batch/s]"
     ]
    },
    {
     "name": "stdout",
     "output_type": "stream",
     "text": [
      "Dataset Name:  USAir , AUC Score(benchmark/combined):  60.75343311392207\n",
      "Dataset Name:  USAir , AUC Score(contextual):  54.740331403147565\n",
      "Dataset Name:  USAir , AUC Score(structural):  69.11504900701462\n",
      "Dataset Name:  USAir , AUC Score(joint):  56.68385622095102\n",
      "Dataset Name:  USAir , AUC Score(joint_structural):  64.31099888959918\n"
     ]
    },
    {
     "name": "stderr",
     "output_type": "stream",
     "text": [
      "loss: 0.49832 acc: 0.81250:   0%|          | 0/96 [07:16<?, ?batch/s]"
     ]
    },
    {
     "name": "stdout",
     "output_type": "stream",
     "text": [
      "Dataset Name:  USAir , AUC Score(benchmark/combined):  60.75343311392207\n",
      "Dataset Name:  USAir , AUC Score(contextual):  54.740331403147565\n",
      "Dataset Name:  USAir , AUC Score(structural):  69.11504900701462\n",
      "Dataset Name:  USAir , AUC Score(joint):  56.68385622095102\n",
      "Dataset Name:  USAir , AUC Score(joint_structural):  64.31099888959918\n"
     ]
    },
    {
     "name": "stderr",
     "output_type": "stream",
     "text": [
      "loss: 0.48922 acc: 0.81250:   0%|          | 0/96 [07:20<?, ?batch/s]"
     ]
    },
    {
     "name": "stdout",
     "output_type": "stream",
     "text": [
      "Dataset Name:  USAir , AUC Score(benchmark/combined):  60.75343311392207\n",
      "Dataset Name:  USAir , AUC Score(contextual):  54.740331403147565\n",
      "Dataset Name:  USAir , AUC Score(structural):  69.11504900701462\n",
      "Dataset Name:  USAir , AUC Score(joint):  56.68385622095102\n",
      "Dataset Name:  USAir , AUC Score(joint_structural):  64.31099888959918\n"
     ]
    },
    {
     "name": "stderr",
     "output_type": "stream",
     "text": [
      "loss: 0.70061 acc: 0.68750:   0%|          | 0/96 [07:24<?, ?batch/s]"
     ]
    },
    {
     "name": "stdout",
     "output_type": "stream",
     "text": [
      "Dataset Name:  USAir , AUC Score(benchmark/combined):  60.75343311392207\n",
      "Dataset Name:  USAir , AUC Score(contextual):  54.740331403147565\n",
      "Dataset Name:  USAir , AUC Score(structural):  69.11504900701462\n",
      "Dataset Name:  USAir , AUC Score(joint):  56.68385622095102\n",
      "Dataset Name:  USAir , AUC Score(joint_structural):  64.31099888959918\n"
     ]
    },
    {
     "name": "stderr",
     "output_type": "stream",
     "text": [
      "loss: 0.45403 acc: 0.84375:   0%|          | 0/96 [07:29<?, ?batch/s]"
     ]
    },
    {
     "name": "stdout",
     "output_type": "stream",
     "text": [
      "Dataset Name:  USAir , AUC Score(benchmark/combined):  60.75343311392207\n",
      "Dataset Name:  USAir , AUC Score(contextual):  54.740331403147565\n",
      "Dataset Name:  USAir , AUC Score(structural):  69.11504900701462\n",
      "Dataset Name:  USAir , AUC Score(joint):  56.68385622095102\n",
      "Dataset Name:  USAir , AUC Score(joint_structural):  64.31099888959918\n"
     ]
    },
    {
     "name": "stderr",
     "output_type": "stream",
     "text": [
      "loss: 0.54861 acc: 0.68750:   0%|          | 0/96 [07:34<?, ?batch/s]"
     ]
    },
    {
     "name": "stdout",
     "output_type": "stream",
     "text": [
      "Dataset Name:  USAir , AUC Score(benchmark/combined):  61.48444350913112\n",
      "Dataset Name:  USAir , AUC Score(contextual):  54.740331403147565\n",
      "Dataset Name:  USAir , AUC Score(structural):  69.11504900701462\n",
      "Dataset Name:  USAir , AUC Score(joint):  56.68385622095102\n",
      "Dataset Name:  USAir , AUC Score(joint_structural):  64.43796124513568\n"
     ]
    },
    {
     "name": "stderr",
     "output_type": "stream",
     "text": [
      "loss: 0.55428 acc: 0.75000:   0%|          | 0/96 [07:39<?, ?batch/s]"
     ]
    },
    {
     "name": "stdout",
     "output_type": "stream",
     "text": [
      "Dataset Name:  USAir , AUC Score(benchmark/combined):  61.48444350913112\n",
      "Dataset Name:  USAir , AUC Score(contextual):  54.740331403147565\n",
      "Dataset Name:  USAir , AUC Score(structural):  69.11504900701462\n",
      "Dataset Name:  USAir , AUC Score(joint):  56.68385622095102\n",
      "Dataset Name:  USAir , AUC Score(joint_structural):  64.43796124513568\n"
     ]
    },
    {
     "name": "stderr",
     "output_type": "stream",
     "text": [
      "loss: 0.73017 acc: 0.65625:   0%|          | 0/96 [07:44<?, ?batch/s]"
     ]
    },
    {
     "name": "stdout",
     "output_type": "stream",
     "text": [
      "Dataset Name:  USAir , AUC Score(benchmark/combined):  61.48444350913112\n",
      "Dataset Name:  USAir , AUC Score(contextual):  54.740331403147565\n",
      "Dataset Name:  USAir , AUC Score(structural):  69.11504900701462\n",
      "Dataset Name:  USAir , AUC Score(joint):  56.68385622095102\n",
      "Dataset Name:  USAir , AUC Score(joint_structural):  64.43796124513568\n"
     ]
    },
    {
     "name": "stderr",
     "output_type": "stream",
     "text": [
      "loss: 0.53970 acc: 0.75000:   0%|          | 0/96 [07:49<?, ?batch/s]"
     ]
    },
    {
     "name": "stdout",
     "output_type": "stream",
     "text": [
      "Dataset Name:  USAir , AUC Score(benchmark/combined):  61.48444350913112\n",
      "Dataset Name:  USAir , AUC Score(contextual):  54.740331403147565\n",
      "Dataset Name:  USAir , AUC Score(structural):  69.11504900701462\n",
      "Dataset Name:  USAir , AUC Score(joint):  56.68385622095102\n",
      "Dataset Name:  USAir , AUC Score(joint_structural):  64.43796124513568\n"
     ]
    },
    {
     "name": "stderr",
     "output_type": "stream",
     "text": [
      "loss: 0.37959 acc: 0.90625:   0%|          | 0/96 [07:54<?, ?batch/s]\n"
     ]
    },
    {
     "name": "stdout",
     "output_type": "stream",
     "text": [
      "Dataset Name:  USAir , AUC Score(benchmark/combined):  61.48444350913112\n",
      "Dataset Name:  USAir , AUC Score(contextual):  54.740331403147565\n",
      "Dataset Name:  USAir , AUC Score(structural):  69.11504900701462\n",
      "Dataset Name:  USAir , AUC Score(joint):  56.68385622095102\n",
      "Dataset Name:  USAir , AUC Score(joint_structural):  64.43796124513568\n",
      "\u001b[92maverage training of epoch 1: loss 0.55805 acc 0.74577 auc 0.79102\u001b[0m\n"
     ]
    },
    {
     "name": "stderr",
     "output_type": "stream",
     "text": [
      "loss: 0.27108 acc: 0.90625:   0%|          | 0/41 [00:10<?, ?batch/s]"
     ]
    },
    {
     "name": "stdout",
     "output_type": "stream",
     "text": [
      "Dataset Name:  USAir , AUC Score(benchmark/combined):  63.90197610853653\n",
      "Dataset Name:  USAir , AUC Score(contextual):  50.40236424322039\n",
      "Dataset Name:  USAir , AUC Score(structural):  70.06026325925215\n",
      "Dataset Name:  USAir , AUC Score(joint):  49.52939548602903\n",
      "Dataset Name:  USAir , AUC Score(joint_structural):  67.38100626822524\n"
     ]
    },
    {
     "name": "stderr",
     "output_type": "stream",
     "text": [
      "loss: 0.34992 acc: 0.93750:   0%|          | 0/41 [00:18<?, ?batch/s]"
     ]
    },
    {
     "name": "stdout",
     "output_type": "stream",
     "text": [
      "Dataset Name:  USAir , AUC Score(benchmark/combined):  63.90197610853653\n",
      "Dataset Name:  USAir , AUC Score(contextual):  50.40236424322039\n",
      "Dataset Name:  USAir , AUC Score(structural):  71.23820660051355\n",
      "Dataset Name:  USAir , AUC Score(joint):  49.52939548602903\n",
      "Dataset Name:  USAir , AUC Score(joint_structural):  68.15415344260077\n"
     ]
    },
    {
     "name": "stderr",
     "output_type": "stream",
     "text": [
      "loss: 0.33055 acc: 0.93750:   0%|          | 0/41 [00:28<?, ?batch/s]"
     ]
    },
    {
     "name": "stdout",
     "output_type": "stream",
     "text": [
      "Dataset Name:  USAir , AUC Score(benchmark/combined):  64.39579453705197\n",
      "Dataset Name:  USAir , AUC Score(contextual):  50.40236424322039\n",
      "Dataset Name:  USAir , AUC Score(structural):  73.46424055679121\n",
      "Dataset Name:  USAir , AUC Score(joint):  49.52939548602903\n",
      "Dataset Name:  USAir , AUC Score(joint_structural):  69.67782331784262\n"
     ]
    },
    {
     "name": "stderr",
     "output_type": "stream",
     "text": [
      "loss: 0.35659 acc: 0.87500:   0%|          | 0/41 [00:37<?, ?batch/s]"
     ]
    },
    {
     "name": "stdout",
     "output_type": "stream",
     "text": [
      "Dataset Name:  USAir , AUC Score(benchmark/combined):  64.39579453705197\n",
      "Dataset Name:  USAir , AUC Score(contextual):  50.40236424322039\n",
      "Dataset Name:  USAir , AUC Score(structural):  73.46424055679121\n",
      "Dataset Name:  USAir , AUC Score(joint):  49.52939548602903\n",
      "Dataset Name:  USAir , AUC Score(joint_structural):  69.67782331784262\n"
     ]
    },
    {
     "name": "stderr",
     "output_type": "stream",
     "text": [
      "loss: 0.39977 acc: 0.87500:   0%|          | 0/41 [00:45<?, ?batch/s]"
     ]
    },
    {
     "name": "stdout",
     "output_type": "stream",
     "text": [
      "Dataset Name:  USAir , AUC Score(benchmark/combined):  64.39579453705197\n",
      "Dataset Name:  USAir , AUC Score(contextual):  50.40236424322039\n",
      "Dataset Name:  USAir , AUC Score(structural):  73.46424055679121\n",
      "Dataset Name:  USAir , AUC Score(joint):  49.52939548602903\n",
      "Dataset Name:  USAir , AUC Score(joint_structural):  69.67782331784262\n"
     ]
    },
    {
     "name": "stderr",
     "output_type": "stream",
     "text": [
      "loss: 0.34949 acc: 0.87500:   0%|          | 0/41 [00:53<?, ?batch/s]"
     ]
    },
    {
     "name": "stdout",
     "output_type": "stream",
     "text": [
      "Dataset Name:  USAir , AUC Score(benchmark/combined):  64.39579453705197\n",
      "Dataset Name:  USAir , AUC Score(contextual):  50.40236424322039\n",
      "Dataset Name:  USAir , AUC Score(structural):  73.46424055679121\n",
      "Dataset Name:  USAir , AUC Score(joint):  49.52939548602903\n",
      "Dataset Name:  USAir , AUC Score(joint_structural):  69.67782331784262\n"
     ]
    },
    {
     "name": "stderr",
     "output_type": "stream",
     "text": [
      "loss: 0.28401 acc: 1.00000:   0%|          | 0/41 [01:01<?, ?batch/s]"
     ]
    },
    {
     "name": "stdout",
     "output_type": "stream",
     "text": [
      "Dataset Name:  USAir , AUC Score(benchmark/combined):  64.39579453705197\n",
      "Dataset Name:  USAir , AUC Score(contextual):  50.40236424322039\n",
      "Dataset Name:  USAir , AUC Score(structural):  73.46424055679121\n",
      "Dataset Name:  USAir , AUC Score(joint):  49.52939548602903\n",
      "Dataset Name:  USAir , AUC Score(joint_structural):  69.67782331784262\n"
     ]
    },
    {
     "name": "stderr",
     "output_type": "stream",
     "text": [
      "loss: 0.52448 acc: 0.78125:   0%|          | 0/41 [01:09<?, ?batch/s]"
     ]
    },
    {
     "name": "stdout",
     "output_type": "stream",
     "text": [
      "Dataset Name:  USAir , AUC Score(benchmark/combined):  64.39579453705197\n",
      "Dataset Name:  USAir , AUC Score(contextual):  52.89931116015791\n",
      "Dataset Name:  USAir , AUC Score(structural):  73.46424055679121\n",
      "Dataset Name:  USAir , AUC Score(joint):  50.6640223852662\n",
      "Dataset Name:  USAir , AUC Score(joint_structural):  69.67782331784262\n"
     ]
    },
    {
     "name": "stderr",
     "output_type": "stream",
     "text": [
      "loss: 0.19418 acc: 0.96875:   0%|          | 0/41 [01:16<?, ?batch/s]"
     ]
    },
    {
     "name": "stdout",
     "output_type": "stream",
     "text": [
      "Dataset Name:  USAir , AUC Score(benchmark/combined):  64.39579453705197\n",
      "Dataset Name:  USAir , AUC Score(contextual):  55.308200244141226\n",
      "Dataset Name:  USAir , AUC Score(structural):  73.46424055679121\n",
      "Dataset Name:  USAir , AUC Score(joint):  50.6640223852662\n",
      "Dataset Name:  USAir , AUC Score(joint_structural):  69.67782331784262\n"
     ]
    },
    {
     "name": "stderr",
     "output_type": "stream",
     "text": [
      "loss: 0.41643 acc: 0.90625:   0%|          | 0/41 [01:24<?, ?batch/s]"
     ]
    },
    {
     "name": "stdout",
     "output_type": "stream",
     "text": [
      "Dataset Name:  USAir , AUC Score(benchmark/combined):  64.39579453705197\n",
      "Dataset Name:  USAir , AUC Score(contextual):  55.308200244141226\n",
      "Dataset Name:  USAir , AUC Score(structural):  73.46424055679121\n",
      "Dataset Name:  USAir , AUC Score(joint):  50.6640223852662\n",
      "Dataset Name:  USAir , AUC Score(joint_structural):  69.67782331784262\n"
     ]
    },
    {
     "name": "stderr",
     "output_type": "stream",
     "text": [
      "loss: 0.56644 acc: 0.75000:   0%|          | 0/41 [01:31<?, ?batch/s]"
     ]
    },
    {
     "name": "stdout",
     "output_type": "stream",
     "text": [
      "Dataset Name:  USAir , AUC Score(benchmark/combined):  64.39579453705197\n",
      "Dataset Name:  USAir , AUC Score(contextual):  55.308200244141226\n",
      "Dataset Name:  USAir , AUC Score(structural):  73.46424055679121\n",
      "Dataset Name:  USAir , AUC Score(joint):  50.6640223852662\n",
      "Dataset Name:  USAir , AUC Score(joint_structural):  69.67782331784262\n"
     ]
    },
    {
     "name": "stderr",
     "output_type": "stream",
     "text": [
      "loss: 0.29440 acc: 0.93750:   0%|          | 0/41 [01:40<?, ?batch/s]"
     ]
    },
    {
     "name": "stdout",
     "output_type": "stream",
     "text": [
      "Dataset Name:  USAir , AUC Score(benchmark/combined):  64.39579453705197\n",
      "Dataset Name:  USAir , AUC Score(contextual):  55.308200244141226\n",
      "Dataset Name:  USAir , AUC Score(structural):  73.46424055679121\n",
      "Dataset Name:  USAir , AUC Score(joint):  50.6640223852662\n",
      "Dataset Name:  USAir , AUC Score(joint_structural):  69.67782331784262\n"
     ]
    },
    {
     "name": "stderr",
     "output_type": "stream",
     "text": [
      "loss: 0.27979 acc: 0.96875:   0%|          | 0/41 [01:48<?, ?batch/s]"
     ]
    },
    {
     "name": "stdout",
     "output_type": "stream",
     "text": [
      "Dataset Name:  USAir , AUC Score(benchmark/combined):  64.39579453705197\n",
      "Dataset Name:  USAir , AUC Score(contextual):  55.308200244141226\n",
      "Dataset Name:  USAir , AUC Score(structural):  73.46424055679121\n",
      "Dataset Name:  USAir , AUC Score(joint):  51.43163717512961\n",
      "Dataset Name:  USAir , AUC Score(joint_structural):  69.67782331784262\n"
     ]
    },
    {
     "name": "stderr",
     "output_type": "stream",
     "text": [
      "loss: 0.44401 acc: 0.81250:   0%|          | 0/41 [01:56<?, ?batch/s]"
     ]
    },
    {
     "name": "stdout",
     "output_type": "stream",
     "text": [
      "Dataset Name:  USAir , AUC Score(benchmark/combined):  64.39579453705197\n",
      "Dataset Name:  USAir , AUC Score(contextual):  55.308200244141226\n",
      "Dataset Name:  USAir , AUC Score(structural):  73.46424055679121\n",
      "Dataset Name:  USAir , AUC Score(joint):  51.43163717512961\n",
      "Dataset Name:  USAir , AUC Score(joint_structural):  69.67782331784262\n"
     ]
    },
    {
     "name": "stderr",
     "output_type": "stream",
     "text": [
      "loss: 0.31868 acc: 1.00000:   0%|          | 0/41 [02:05<?, ?batch/s]"
     ]
    },
    {
     "name": "stdout",
     "output_type": "stream",
     "text": [
      "Dataset Name:  USAir , AUC Score(benchmark/combined):  64.39579453705197\n",
      "Dataset Name:  USAir , AUC Score(contextual):  55.308200244141226\n",
      "Dataset Name:  USAir , AUC Score(structural):  73.46424055679121\n",
      "Dataset Name:  USAir , AUC Score(joint):  51.43163717512961\n",
      "Dataset Name:  USAir , AUC Score(joint_structural):  69.67782331784262\n"
     ]
    },
    {
     "name": "stderr",
     "output_type": "stream",
     "text": [
      "loss: 0.52683 acc: 0.71875:   0%|          | 0/41 [02:12<?, ?batch/s]"
     ]
    },
    {
     "name": "stdout",
     "output_type": "stream",
     "text": [
      "Dataset Name:  USAir , AUC Score(benchmark/combined):  64.39579453705197\n",
      "Dataset Name:  USAir , AUC Score(contextual):  55.308200244141226\n",
      "Dataset Name:  USAir , AUC Score(structural):  73.46424055679121\n",
      "Dataset Name:  USAir , AUC Score(joint):  51.43163717512961\n",
      "Dataset Name:  USAir , AUC Score(joint_structural):  69.67782331784262\n"
     ]
    },
    {
     "name": "stderr",
     "output_type": "stream",
     "text": [
      "loss: 0.42494 acc: 0.84375:   0%|          | 0/41 [02:20<?, ?batch/s]"
     ]
    },
    {
     "name": "stdout",
     "output_type": "stream",
     "text": [
      "Dataset Name:  USAir , AUC Score(benchmark/combined):  64.39579453705197\n",
      "Dataset Name:  USAir , AUC Score(contextual):  55.308200244141226\n",
      "Dataset Name:  USAir , AUC Score(structural):  73.46424055679121\n",
      "Dataset Name:  USAir , AUC Score(joint):  51.43163717512961\n",
      "Dataset Name:  USAir , AUC Score(joint_structural):  69.67782331784262\n"
     ]
    },
    {
     "name": "stderr",
     "output_type": "stream",
     "text": [
      "loss: 0.50190 acc: 0.96875:   0%|          | 0/41 [02:28<?, ?batch/s]"
     ]
    },
    {
     "name": "stdout",
     "output_type": "stream",
     "text": [
      "Dataset Name:  USAir , AUC Score(benchmark/combined):  70.33787597417566\n",
      "Dataset Name:  USAir , AUC Score(contextual):  55.308200244141226\n",
      "Dataset Name:  USAir , AUC Score(structural):  83.75946242561382\n",
      "Dataset Name:  USAir , AUC Score(joint):  51.43163717512961\n",
      "Dataset Name:  USAir , AUC Score(joint_structural):  77.89791652126829\n"
     ]
    },
    {
     "name": "stderr",
     "output_type": "stream",
     "text": [
      "loss: 0.41574 acc: 0.93750:   0%|          | 0/41 [02:35<?, ?batch/s]"
     ]
    },
    {
     "name": "stdout",
     "output_type": "stream",
     "text": [
      "Dataset Name:  USAir , AUC Score(benchmark/combined):  70.33787597417566\n",
      "Dataset Name:  USAir , AUC Score(contextual):  55.308200244141226\n",
      "Dataset Name:  USAir , AUC Score(structural):  83.75946242561382\n",
      "Dataset Name:  USAir , AUC Score(joint):  51.43163717512961\n",
      "Dataset Name:  USAir , AUC Score(joint_structural):  77.89791652126829\n"
     ]
    },
    {
     "name": "stderr",
     "output_type": "stream",
     "text": [
      "loss: 0.33025 acc: 0.93750:   0%|          | 0/41 [02:44<?, ?batch/s]"
     ]
    },
    {
     "name": "stdout",
     "output_type": "stream",
     "text": [
      "Dataset Name:  USAir , AUC Score(benchmark/combined):  70.33787597417566\n",
      "Dataset Name:  USAir , AUC Score(contextual):  55.308200244141226\n",
      "Dataset Name:  USAir , AUC Score(structural):  83.75946242561382\n",
      "Dataset Name:  USAir , AUC Score(joint):  51.43163717512961\n",
      "Dataset Name:  USAir , AUC Score(joint_structural):  77.89791652126829\n"
     ]
    },
    {
     "name": "stderr",
     "output_type": "stream",
     "text": [
      "loss: 0.30432 acc: 0.96875:   0%|          | 0/41 [02:53<?, ?batch/s]"
     ]
    },
    {
     "name": "stdout",
     "output_type": "stream",
     "text": [
      "Dataset Name:  USAir , AUC Score(benchmark/combined):  70.33787597417566\n",
      "Dataset Name:  USAir , AUC Score(contextual):  55.308200244141226\n",
      "Dataset Name:  USAir , AUC Score(structural):  83.75946242561382\n",
      "Dataset Name:  USAir , AUC Score(joint):  51.43163717512961\n",
      "Dataset Name:  USAir , AUC Score(joint_structural):  77.89791652126829\n"
     ]
    },
    {
     "name": "stderr",
     "output_type": "stream",
     "text": [
      "loss: 0.25868 acc: 0.96875:   0%|          | 0/41 [03:03<?, ?batch/s]"
     ]
    },
    {
     "name": "stdout",
     "output_type": "stream",
     "text": [
      "Dataset Name:  USAir , AUC Score(benchmark/combined):  70.33787597417566\n",
      "Dataset Name:  USAir , AUC Score(contextual):  55.308200244141226\n",
      "Dataset Name:  USAir , AUC Score(structural):  83.75946242561382\n",
      "Dataset Name:  USAir , AUC Score(joint):  51.43163717512961\n",
      "Dataset Name:  USAir , AUC Score(joint_structural):  77.89791652126829\n"
     ]
    },
    {
     "name": "stderr",
     "output_type": "stream",
     "text": [
      "loss: 0.46219 acc: 0.78125:   0%|          | 0/41 [03:11<?, ?batch/s]"
     ]
    },
    {
     "name": "stdout",
     "output_type": "stream",
     "text": [
      "Dataset Name:  USAir , AUC Score(benchmark/combined):  70.33787597417566\n",
      "Dataset Name:  USAir , AUC Score(contextual):  55.308200244141226\n",
      "Dataset Name:  USAir , AUC Score(structural):  83.75946242561382\n",
      "Dataset Name:  USAir , AUC Score(joint):  51.43163717512961\n",
      "Dataset Name:  USAir , AUC Score(joint_structural):  77.89791652126829\n"
     ]
    },
    {
     "name": "stderr",
     "output_type": "stream",
     "text": [
      "loss: 0.45737 acc: 0.84375:   0%|          | 0/41 [03:18<?, ?batch/s]"
     ]
    },
    {
     "name": "stdout",
     "output_type": "stream",
     "text": [
      "Dataset Name:  USAir , AUC Score(benchmark/combined):  70.33787597417566\n",
      "Dataset Name:  USAir , AUC Score(contextual):  55.308200244141226\n",
      "Dataset Name:  USAir , AUC Score(structural):  83.75946242561382\n",
      "Dataset Name:  USAir , AUC Score(joint):  51.43163717512961\n",
      "Dataset Name:  USAir , AUC Score(joint_structural):  77.89791652126829\n"
     ]
    },
    {
     "name": "stderr",
     "output_type": "stream",
     "text": [
      "loss: 0.30854 acc: 0.93750:   0%|          | 0/41 [03:27<?, ?batch/s]"
     ]
    },
    {
     "name": "stdout",
     "output_type": "stream",
     "text": [
      "Dataset Name:  USAir , AUC Score(benchmark/combined):  70.33787597417566\n",
      "Dataset Name:  USAir , AUC Score(contextual):  55.308200244141226\n",
      "Dataset Name:  USAir , AUC Score(structural):  83.75946242561382\n",
      "Dataset Name:  USAir , AUC Score(joint):  51.43163717512961\n",
      "Dataset Name:  USAir , AUC Score(joint_structural):  77.89791652126829\n"
     ]
    },
    {
     "name": "stderr",
     "output_type": "stream",
     "text": [
      "loss: 0.42312 acc: 0.81250:   0%|          | 0/41 [03:36<?, ?batch/s]"
     ]
    },
    {
     "name": "stdout",
     "output_type": "stream",
     "text": [
      "Dataset Name:  USAir , AUC Score(benchmark/combined):  70.33787597417566\n",
      "Dataset Name:  USAir , AUC Score(contextual):  55.308200244141226\n",
      "Dataset Name:  USAir , AUC Score(structural):  83.75946242561382\n",
      "Dataset Name:  USAir , AUC Score(joint):  51.43163717512961\n",
      "Dataset Name:  USAir , AUC Score(joint_structural):  77.89791652126829\n"
     ]
    },
    {
     "name": "stderr",
     "output_type": "stream",
     "text": [
      "loss: 0.33946 acc: 0.84375:   0%|          | 0/41 [03:46<?, ?batch/s]"
     ]
    },
    {
     "name": "stdout",
     "output_type": "stream",
     "text": [
      "Dataset Name:  USAir , AUC Score(benchmark/combined):  70.33787597417566\n",
      "Dataset Name:  USAir , AUC Score(contextual):  55.308200244141226\n",
      "Dataset Name:  USAir , AUC Score(structural):  83.75946242561382\n",
      "Dataset Name:  USAir , AUC Score(joint):  51.43163717512961\n",
      "Dataset Name:  USAir , AUC Score(joint_structural):  77.89791652126829\n"
     ]
    },
    {
     "name": "stderr",
     "output_type": "stream",
     "text": [
      "loss: 0.27689 acc: 0.93750:   0%|          | 0/41 [03:56<?, ?batch/s]"
     ]
    },
    {
     "name": "stdout",
     "output_type": "stream",
     "text": [
      "Dataset Name:  USAir , AUC Score(benchmark/combined):  70.33787597417566\n",
      "Dataset Name:  USAir , AUC Score(contextual):  55.308200244141226\n",
      "Dataset Name:  USAir , AUC Score(structural):  83.75946242561382\n",
      "Dataset Name:  USAir , AUC Score(joint):  51.43163717512961\n",
      "Dataset Name:  USAir , AUC Score(joint_structural):  77.89791652126829\n"
     ]
    },
    {
     "name": "stderr",
     "output_type": "stream",
     "text": [
      "loss: 0.31061 acc: 0.93750:   0%|          | 0/41 [04:05<?, ?batch/s]"
     ]
    },
    {
     "name": "stdout",
     "output_type": "stream",
     "text": [
      "Dataset Name:  USAir , AUC Score(benchmark/combined):  70.33787597417566\n",
      "Dataset Name:  USAir , AUC Score(contextual):  55.308200244141226\n",
      "Dataset Name:  USAir , AUC Score(structural):  83.75946242561382\n",
      "Dataset Name:  USAir , AUC Score(joint):  51.43163717512961\n",
      "Dataset Name:  USAir , AUC Score(joint_structural):  77.89791652126829\n"
     ]
    },
    {
     "name": "stderr",
     "output_type": "stream",
     "text": [
      "loss: 0.23961 acc: 0.96875:   0%|          | 0/41 [04:13<?, ?batch/s]"
     ]
    },
    {
     "name": "stdout",
     "output_type": "stream",
     "text": [
      "Dataset Name:  USAir , AUC Score(benchmark/combined):  70.33787597417566\n",
      "Dataset Name:  USAir , AUC Score(contextual):  55.308200244141226\n",
      "Dataset Name:  USAir , AUC Score(structural):  83.75946242561382\n",
      "Dataset Name:  USAir , AUC Score(joint):  51.43163717512961\n",
      "Dataset Name:  USAir , AUC Score(joint_structural):  77.89791652126829\n"
     ]
    },
    {
     "name": "stderr",
     "output_type": "stream",
     "text": [
      "loss: 0.29703 acc: 0.93750:   0%|          | 0/41 [04:23<?, ?batch/s]"
     ]
    },
    {
     "name": "stdout",
     "output_type": "stream",
     "text": [
      "Dataset Name:  USAir , AUC Score(benchmark/combined):  70.33787597417566\n",
      "Dataset Name:  USAir , AUC Score(contextual):  55.308200244141226\n",
      "Dataset Name:  USAir , AUC Score(structural):  83.75946242561382\n",
      "Dataset Name:  USAir , AUC Score(joint):  51.43163717512961\n",
      "Dataset Name:  USAir , AUC Score(joint_structural):  77.89791652126829\n"
     ]
    },
    {
     "name": "stderr",
     "output_type": "stream",
     "text": [
      "loss: 0.26009 acc: 0.93750:   0%|          | 0/41 [04:32<?, ?batch/s]"
     ]
    },
    {
     "name": "stdout",
     "output_type": "stream",
     "text": [
      "Dataset Name:  USAir , AUC Score(benchmark/combined):  70.33787597417566\n",
      "Dataset Name:  USAir , AUC Score(contextual):  55.308200244141226\n",
      "Dataset Name:  USAir , AUC Score(structural):  83.75946242561382\n",
      "Dataset Name:  USAir , AUC Score(joint):  51.43163717512961\n",
      "Dataset Name:  USAir , AUC Score(joint_structural):  77.89791652126829\n"
     ]
    },
    {
     "name": "stderr",
     "output_type": "stream",
     "text": [
      "loss: 0.35076 acc: 0.84375:   0%|          | 0/41 [04:42<?, ?batch/s]"
     ]
    },
    {
     "name": "stdout",
     "output_type": "stream",
     "text": [
      "Dataset Name:  USAir , AUC Score(benchmark/combined):  70.33787597417566\n",
      "Dataset Name:  USAir , AUC Score(contextual):  55.308200244141226\n",
      "Dataset Name:  USAir , AUC Score(structural):  83.75946242561382\n",
      "Dataset Name:  USAir , AUC Score(joint):  51.43163717512961\n",
      "Dataset Name:  USAir , AUC Score(joint_structural):  77.89791652126829\n"
     ]
    },
    {
     "name": "stderr",
     "output_type": "stream",
     "text": [
      "loss: 0.40562 acc: 0.81250:   0%|          | 0/41 [04:51<?, ?batch/s]"
     ]
    },
    {
     "name": "stdout",
     "output_type": "stream",
     "text": [
      "Dataset Name:  USAir , AUC Score(benchmark/combined):  70.33787597417566\n",
      "Dataset Name:  USAir , AUC Score(contextual):  55.308200244141226\n",
      "Dataset Name:  USAir , AUC Score(structural):  83.75946242561382\n",
      "Dataset Name:  USAir , AUC Score(joint):  51.43163717512961\n",
      "Dataset Name:  USAir , AUC Score(joint_structural):  77.89791652126829\n"
     ]
    },
    {
     "name": "stderr",
     "output_type": "stream",
     "text": [
      "loss: 0.79108 acc: 0.43750:   0%|          | 0/41 [04:56<?, ?batch/s]"
     ]
    },
    {
     "name": "stdout",
     "output_type": "stream",
     "text": [
      "Dataset Name:  USAir , AUC Score(benchmark/combined):  70.33787597417566\n",
      "Dataset Name:  USAir , AUC Score(contextual):  55.308200244141226\n",
      "Dataset Name:  USAir , AUC Score(structural):  83.75946242561382\n",
      "Dataset Name:  USAir , AUC Score(joint):  51.43163717512961\n",
      "Dataset Name:  USAir , AUC Score(joint_structural):  77.89791652126829\n"
     ]
    },
    {
     "name": "stderr",
     "output_type": "stream",
     "text": [
      "loss: 0.39084 acc: 0.87500:   0%|          | 0/41 [05:05<?, ?batch/s]"
     ]
    },
    {
     "name": "stdout",
     "output_type": "stream",
     "text": [
      "Dataset Name:  USAir , AUC Score(benchmark/combined):  70.33787597417566\n",
      "Dataset Name:  USAir , AUC Score(contextual):  55.308200244141226\n",
      "Dataset Name:  USAir , AUC Score(structural):  83.75946242561382\n",
      "Dataset Name:  USAir , AUC Score(joint):  51.43163717512961\n",
      "Dataset Name:  USAir , AUC Score(joint_structural):  77.89791652126829\n"
     ]
    },
    {
     "name": "stderr",
     "output_type": "stream",
     "text": [
      "loss: 0.34970 acc: 0.84375:   0%|          | 0/41 [05:14<?, ?batch/s]"
     ]
    },
    {
     "name": "stdout",
     "output_type": "stream",
     "text": [
      "Dataset Name:  USAir , AUC Score(benchmark/combined):  70.33787597417566\n",
      "Dataset Name:  USAir , AUC Score(contextual):  55.308200244141226\n",
      "Dataset Name:  USAir , AUC Score(structural):  83.75946242561382\n",
      "Dataset Name:  USAir , AUC Score(joint):  51.43163717512961\n",
      "Dataset Name:  USAir , AUC Score(joint_structural):  77.89791652126829\n"
     ]
    },
    {
     "name": "stderr",
     "output_type": "stream",
     "text": [
      "loss: 0.40089 acc: 0.78125:   0%|          | 0/41 [05:24<?, ?batch/s]"
     ]
    },
    {
     "name": "stdout",
     "output_type": "stream",
     "text": [
      "Dataset Name:  USAir , AUC Score(benchmark/combined):  70.33787597417566\n",
      "Dataset Name:  USAir , AUC Score(contextual):  55.308200244141226\n",
      "Dataset Name:  USAir , AUC Score(structural):  83.75946242561382\n",
      "Dataset Name:  USAir , AUC Score(joint):  51.43163717512961\n",
      "Dataset Name:  USAir , AUC Score(joint_structural):  77.89791652126829\n"
     ]
    },
    {
     "name": "stderr",
     "output_type": "stream",
     "text": [
      "loss: 0.65228 acc: 0.59375:   0%|          | 0/41 [05:31<?, ?batch/s]"
     ]
    },
    {
     "name": "stdout",
     "output_type": "stream",
     "text": [
      "Dataset Name:  USAir , AUC Score(benchmark/combined):  70.33787597417566\n",
      "Dataset Name:  USAir , AUC Score(contextual):  55.308200244141226\n",
      "Dataset Name:  USAir , AUC Score(structural):  83.75946242561382\n",
      "Dataset Name:  USAir , AUC Score(joint):  51.6854732490146\n",
      "Dataset Name:  USAir , AUC Score(joint_structural):  77.89791652126829\n"
     ]
    },
    {
     "name": "stderr",
     "output_type": "stream",
     "text": [
      "loss: 0.88928 acc: 0.53125:   0%|          | 0/41 [05:36<?, ?batch/s]"
     ]
    },
    {
     "name": "stdout",
     "output_type": "stream",
     "text": [
      "Dataset Name:  USAir , AUC Score(benchmark/combined):  70.33787597417566\n",
      "Dataset Name:  USAir , AUC Score(contextual):  55.308200244141226\n",
      "Dataset Name:  USAir , AUC Score(structural):  83.75946242561382\n",
      "Dataset Name:  USAir , AUC Score(joint):  52.01339807021374\n",
      "Dataset Name:  USAir , AUC Score(joint_structural):  77.89791652126829\n"
     ]
    },
    {
     "name": "stderr",
     "output_type": "stream",
     "text": [
      "loss: 0.45881 acc: 1.00000:   0%|          | 0/41 [05:38<?, ?batch/s]\n"
     ]
    },
    {
     "name": "stdout",
     "output_type": "stream",
     "text": [
      "Dataset Name:  USAir , AUC Score(benchmark/combined):  70.33787597417566\n",
      "Dataset Name:  USAir , AUC Score(contextual):  59.471518953024244\n",
      "Dataset Name:  USAir , AUC Score(structural):  83.75946242561382\n",
      "Dataset Name:  USAir , AUC Score(joint):  55.993532204994324\n",
      "Dataset Name:  USAir , AUC Score(joint_structural):  77.89791652126829\n",
      "\u001b[93maverage test of epoch 1: loss 0.39400 acc 0.86392 auc 0.78123 avg_precision 0.98585 precision-recall auc 0.98583\u001b[0m\n"
     ]
    },
    {
     "name": "stderr",
     "output_type": "stream",
     "text": [
      "loss: 0.48311 acc: 0.78125:   0%|          | 0/96 [00:05<?, ?batch/s]"
     ]
    },
    {
     "name": "stdout",
     "output_type": "stream",
     "text": [
      "Dataset Name:  USAir , AUC Score(benchmark/combined):  55.988976375548454\n",
      "Dataset Name:  USAir , AUC Score(contextual):  46.875205807448914\n",
      "Dataset Name:  USAir , AUC Score(structural):  61.12910106937155\n",
      "Dataset Name:  USAir , AUC Score(joint):  51.037386909845374\n",
      "Dataset Name:  USAir , AUC Score(joint_structural):  59.437407290173866\n"
     ]
    },
    {
     "name": "stderr",
     "output_type": "stream",
     "text": [
      "loss: 0.42398 acc: 0.84375:   0%|          | 0/96 [00:09<?, ?batch/s]"
     ]
    },
    {
     "name": "stdout",
     "output_type": "stream",
     "text": [
      "Dataset Name:  USAir , AUC Score(benchmark/combined):  56.80060417173766\n",
      "Dataset Name:  USAir , AUC Score(contextual):  55.04209796743344\n",
      "Dataset Name:  USAir , AUC Score(structural):  61.12910106937155\n",
      "Dataset Name:  USAir , AUC Score(joint):  51.037386909845374\n",
      "Dataset Name:  USAir , AUC Score(joint_structural):  59.437407290173866\n"
     ]
    },
    {
     "name": "stderr",
     "output_type": "stream",
     "text": [
      "loss: 0.48317 acc: 0.78125:   0%|          | 0/96 [00:12<?, ?batch/s]"
     ]
    },
    {
     "name": "stdout",
     "output_type": "stream",
     "text": [
      "Dataset Name:  USAir , AUC Score(benchmark/combined):  56.80060417173766\n",
      "Dataset Name:  USAir , AUC Score(contextual):  55.04209796743344\n",
      "Dataset Name:  USAir , AUC Score(structural):  61.12910106937155\n",
      "Dataset Name:  USAir , AUC Score(joint):  51.22056955667763\n",
      "Dataset Name:  USAir , AUC Score(joint_structural):  59.437407290173866\n"
     ]
    },
    {
     "name": "stderr",
     "output_type": "stream",
     "text": [
      "loss: 0.57957 acc: 0.71875:   0%|          | 0/96 [00:17<?, ?batch/s]"
     ]
    },
    {
     "name": "stdout",
     "output_type": "stream",
     "text": [
      "Dataset Name:  USAir , AUC Score(benchmark/combined):  56.80060417173766\n",
      "Dataset Name:  USAir , AUC Score(contextual):  55.04209796743344\n",
      "Dataset Name:  USAir , AUC Score(structural):  61.12910106937155\n",
      "Dataset Name:  USAir , AUC Score(joint):  55.71485711122096\n",
      "Dataset Name:  USAir , AUC Score(joint_structural):  59.437407290173866\n"
     ]
    },
    {
     "name": "stderr",
     "output_type": "stream",
     "text": [
      "loss: 0.60549 acc: 0.68750:   0%|          | 0/96 [00:22<?, ?batch/s]"
     ]
    },
    {
     "name": "stdout",
     "output_type": "stream",
     "text": [
      "Dataset Name:  USAir , AUC Score(benchmark/combined):  56.80060417173766\n",
      "Dataset Name:  USAir , AUC Score(contextual):  55.04209796743344\n",
      "Dataset Name:  USAir , AUC Score(structural):  61.12910106937155\n",
      "Dataset Name:  USAir , AUC Score(joint):  55.71485711122096\n",
      "Dataset Name:  USAir , AUC Score(joint_structural):  59.437407290173866\n"
     ]
    },
    {
     "name": "stderr",
     "output_type": "stream",
     "text": [
      "loss: 0.52270 acc: 0.75000:   0%|          | 0/96 [00:26<?, ?batch/s]"
     ]
    },
    {
     "name": "stdout",
     "output_type": "stream",
     "text": [
      "Dataset Name:  USAir , AUC Score(benchmark/combined):  57.153468349420784\n",
      "Dataset Name:  USAir , AUC Score(contextual):  55.04209796743344\n",
      "Dataset Name:  USAir , AUC Score(structural):  61.12910106937155\n",
      "Dataset Name:  USAir , AUC Score(joint):  55.71485711122096\n",
      "Dataset Name:  USAir , AUC Score(joint_structural):  59.437407290173866\n"
     ]
    },
    {
     "name": "stderr",
     "output_type": "stream",
     "text": [
      "loss: 0.62240 acc: 0.71875:   0%|          | 0/96 [00:31<?, ?batch/s]"
     ]
    },
    {
     "name": "stdout",
     "output_type": "stream",
     "text": [
      "Dataset Name:  USAir , AUC Score(benchmark/combined):  58.9842939019181\n",
      "Dataset Name:  USAir , AUC Score(contextual):  55.04209796743344\n",
      "Dataset Name:  USAir , AUC Score(structural):  66.47974349500672\n",
      "Dataset Name:  USAir , AUC Score(joint):  55.71485711122096\n",
      "Dataset Name:  USAir , AUC Score(joint_structural):  62.83132783937522\n"
     ]
    },
    {
     "name": "stderr",
     "output_type": "stream",
     "text": [
      "loss: 0.47836 acc: 0.81250:   0%|          | 0/96 [00:36<?, ?batch/s]"
     ]
    },
    {
     "name": "stdout",
     "output_type": "stream",
     "text": [
      "Dataset Name:  USAir , AUC Score(benchmark/combined):  58.9842939019181\n",
      "Dataset Name:  USAir , AUC Score(contextual):  55.04209796743344\n",
      "Dataset Name:  USAir , AUC Score(structural):  66.47974349500672\n",
      "Dataset Name:  USAir , AUC Score(joint):  55.71485711122096\n",
      "Dataset Name:  USAir , AUC Score(joint_structural):  62.83132783937522\n"
     ]
    },
    {
     "name": "stderr",
     "output_type": "stream",
     "text": [
      "loss: 0.68163 acc: 0.68750:   0%|          | 0/96 [00:41<?, ?batch/s]"
     ]
    },
    {
     "name": "stdout",
     "output_type": "stream",
     "text": [
      "Dataset Name:  USAir , AUC Score(benchmark/combined):  58.9842939019181\n",
      "Dataset Name:  USAir , AUC Score(contextual):  55.04209796743344\n",
      "Dataset Name:  USAir , AUC Score(structural):  66.47974349500672\n",
      "Dataset Name:  USAir , AUC Score(joint):  55.71485711122096\n",
      "Dataset Name:  USAir , AUC Score(joint_structural):  62.83132783937522\n"
     ]
    },
    {
     "name": "stderr",
     "output_type": "stream",
     "text": [
      "loss: 0.56116 acc: 0.81250:   0%|          | 0/96 [00:47<?, ?batch/s]"
     ]
    },
    {
     "name": "stdout",
     "output_type": "stream",
     "text": [
      "Dataset Name:  USAir , AUC Score(benchmark/combined):  58.9842939019181\n",
      "Dataset Name:  USAir , AUC Score(contextual):  55.04209796743344\n",
      "Dataset Name:  USAir , AUC Score(structural):  66.47974349500672\n",
      "Dataset Name:  USAir , AUC Score(joint):  55.71485711122096\n",
      "Dataset Name:  USAir , AUC Score(joint_structural):  62.83132783937522\n"
     ]
    },
    {
     "name": "stderr",
     "output_type": "stream",
     "text": [
      "loss: 0.66960 acc: 0.65625:   0%|          | 0/96 [00:50<?, ?batch/s]"
     ]
    },
    {
     "name": "stdout",
     "output_type": "stream",
     "text": [
      "Dataset Name:  USAir , AUC Score(benchmark/combined):  58.9842939019181\n",
      "Dataset Name:  USAir , AUC Score(contextual):  55.04209796743344\n",
      "Dataset Name:  USAir , AUC Score(structural):  66.47974349500672\n",
      "Dataset Name:  USAir , AUC Score(joint):  55.71485711122096\n",
      "Dataset Name:  USAir , AUC Score(joint_structural):  62.83132783937522\n"
     ]
    },
    {
     "name": "stderr",
     "output_type": "stream",
     "text": [
      "loss: 0.59193 acc: 0.75000:   0%|          | 0/96 [00:55<?, ?batch/s]"
     ]
    },
    {
     "name": "stdout",
     "output_type": "stream",
     "text": [
      "Dataset Name:  USAir , AUC Score(benchmark/combined):  58.9842939019181\n",
      "Dataset Name:  USAir , AUC Score(contextual):  55.04209796743344\n",
      "Dataset Name:  USAir , AUC Score(structural):  66.47974349500672\n",
      "Dataset Name:  USAir , AUC Score(joint):  55.71485711122096\n",
      "Dataset Name:  USAir , AUC Score(joint_structural):  62.83132783937522\n"
     ]
    },
    {
     "name": "stderr",
     "output_type": "stream",
     "text": [
      "loss: 0.59565 acc: 0.65625:   0%|          | 0/96 [01:00<?, ?batch/s]"
     ]
    },
    {
     "name": "stdout",
     "output_type": "stream",
     "text": [
      "Dataset Name:  USAir , AUC Score(benchmark/combined):  58.9842939019181\n",
      "Dataset Name:  USAir , AUC Score(contextual):  55.04209796743344\n",
      "Dataset Name:  USAir , AUC Score(structural):  66.47974349500672\n",
      "Dataset Name:  USAir , AUC Score(joint):  55.71485711122096\n",
      "Dataset Name:  USAir , AUC Score(joint_structural):  62.83132783937522\n"
     ]
    },
    {
     "name": "stderr",
     "output_type": "stream",
     "text": [
      "loss: 0.43418 acc: 0.87500:   0%|          | 0/96 [01:05<?, ?batch/s]"
     ]
    },
    {
     "name": "stdout",
     "output_type": "stream",
     "text": [
      "Dataset Name:  USAir , AUC Score(benchmark/combined):  58.9842939019181\n",
      "Dataset Name:  USAir , AUC Score(contextual):  55.04209796743344\n",
      "Dataset Name:  USAir , AUC Score(structural):  66.47974349500672\n",
      "Dataset Name:  USAir , AUC Score(joint):  55.71485711122096\n",
      "Dataset Name:  USAir , AUC Score(joint_structural):  62.83132783937522\n"
     ]
    },
    {
     "name": "stderr",
     "output_type": "stream",
     "text": [
      "loss: 0.45410 acc: 0.84375:   0%|          | 0/96 [01:10<?, ?batch/s]"
     ]
    },
    {
     "name": "stdout",
     "output_type": "stream",
     "text": [
      "Dataset Name:  USAir , AUC Score(benchmark/combined):  58.9842939019181\n",
      "Dataset Name:  USAir , AUC Score(contextual):  55.61735067735978\n",
      "Dataset Name:  USAir , AUC Score(structural):  66.47974349500672\n",
      "Dataset Name:  USAir , AUC Score(joint):  55.71485711122096\n",
      "Dataset Name:  USAir , AUC Score(joint_structural):  62.83132783937522\n"
     ]
    },
    {
     "name": "stderr",
     "output_type": "stream",
     "text": [
      "loss: 0.35500 acc: 0.93750:   0%|          | 0/96 [01:15<?, ?batch/s]"
     ]
    },
    {
     "name": "stdout",
     "output_type": "stream",
     "text": [
      "Dataset Name:  USAir , AUC Score(benchmark/combined):  58.9842939019181\n",
      "Dataset Name:  USAir , AUC Score(contextual):  55.61735067735978\n",
      "Dataset Name:  USAir , AUC Score(structural):  66.47974349500672\n",
      "Dataset Name:  USAir , AUC Score(joint):  55.71485711122096\n",
      "Dataset Name:  USAir , AUC Score(joint_structural):  62.83132783937522\n"
     ]
    },
    {
     "ename": "ValueError",
     "evalue": "Only one class present in y_true. ROC AUC score is not defined in that case.",
     "output_type": "error",
     "traceback": [
      "\u001b[0;31m---------------------------------------------------------------------------\u001b[0m",
      "\u001b[0;31mValueError\u001b[0m                                Traceback (most recent call last)",
      "Cell \u001b[0;32mIn[5], line 394\u001b[0m\n\u001b[1;32m    391\u001b[0m random\u001b[38;5;241m.\u001b[39mshuffle(train_idxes)\n\u001b[1;32m    392\u001b[0m classifier\u001b[38;5;241m.\u001b[39mtrain()\n\u001b[0;32m--> 394\u001b[0m avg_loss \u001b[38;5;241m=\u001b[39m \u001b[43mloop_dataset\u001b[49m\u001b[43m(\u001b[49m\u001b[43mtrain_graphs\u001b[49m\u001b[43m,\u001b[49m\u001b[43m \u001b[49m\u001b[43mGADNR\u001b[49m\u001b[43m,\u001b[49m\u001b[43m \u001b[49m\u001b[43mtrain_idxes\u001b[49m\u001b[43m,\u001b[49m\u001b[43m \u001b[49m\u001b[43moptimizer\u001b[49m\u001b[38;5;241;43m=\u001b[39;49m\u001b[43moptimizer\u001b[49m\u001b[43m)\u001b[49m\n\u001b[1;32m    395\u001b[0m \u001b[38;5;66;03m# print(avg_loss.shape)\u001b[39;00m\n\u001b[1;32m    396\u001b[0m \u001b[38;5;66;03m# import sys\u001b[39;00m\n\u001b[1;32m    397\u001b[0m \u001b[38;5;66;03m# sys.exit(0)\u001b[39;00m\n\u001b[1;32m    398\u001b[0m \u001b[38;5;28;01mif\u001b[39;00m \u001b[38;5;129;01mnot\u001b[39;00m cmd_args\u001b[38;5;241m.\u001b[39mprintAUC:\n",
      "Cell \u001b[0;32mIn[5], line 136\u001b[0m, in \u001b[0;36mloop_dataset\u001b[0;34m(g_list, GADNR, sample_idxes, optimizer, bsize)\u001b[0m\n\u001b[1;32m    131\u001b[0m \u001b[38;5;241m+\u001b[39m feature_loss_weight \u001b[38;5;241m*\u001b[39m feature_loss\n\u001b[1;32m    133\u001b[0m \u001b[38;5;66;03m# print(\"neighbor num: \", neighbor_num_list)\u001b[39;00m\n\u001b[1;32m    134\u001b[0m \u001b[38;5;66;03m# print(\"degree loss: \", degree_loss)\u001b[39;00m\n\u001b[0;32m--> 136\u001b[0m auc_score \u001b[38;5;241m=\u001b[39m \u001b[43meval_roc_auc\u001b[49m\u001b[43m(\u001b[49m\u001b[43my\u001b[49m\u001b[38;5;241;43m.\u001b[39;49m\u001b[43mnumpy\u001b[49m\u001b[43m(\u001b[49m\u001b[43m)\u001b[49m\u001b[43m,\u001b[49m\u001b[43m \u001b[49m\u001b[43mcomp_loss\u001b[49m\u001b[38;5;241;43m.\u001b[39;49m\u001b[43mnumpy\u001b[49m\u001b[43m(\u001b[49m\u001b[43m)\u001b[49m\u001b[43m)\u001b[49m \u001b[38;5;241m*\u001b[39m \u001b[38;5;241m100\u001b[39m\n\u001b[1;32m    137\u001b[0m \u001b[38;5;66;03m# print(\"Dataset Name: \",args.data_name, \", AUC Score(benchmark/combined): \", auc_score)\u001b[39;00m\n\u001b[1;32m    139\u001b[0m contextual_auc_score \u001b[38;5;241m=\u001b[39m eval_roc_auc(yc\u001b[38;5;241m.\u001b[39mnumpy(), comp_loss\u001b[38;5;241m.\u001b[39mnumpy()) \u001b[38;5;241m*\u001b[39m \u001b[38;5;241m100\u001b[39m\n",
      "File \u001b[0;32m~/.local/lib/python3.9/site-packages/pygod/metric/metric.py:33\u001b[0m, in \u001b[0;36meval_roc_auc\u001b[0;34m(label, score)\u001b[0m\n\u001b[1;32m     15\u001b[0m \u001b[38;5;28;01mdef\u001b[39;00m \u001b[38;5;21meval_roc_auc\u001b[39m(label, score):\n\u001b[1;32m     16\u001b[0m \u001b[38;5;250m    \u001b[39m\u001b[38;5;124;03m\"\"\"\u001b[39;00m\n\u001b[1;32m     17\u001b[0m \u001b[38;5;124;03m    ROC-AUC score for binary classification.\u001b[39;00m\n\u001b[1;32m     18\u001b[0m \n\u001b[0;32m   (...)\u001b[0m\n\u001b[1;32m     30\u001b[0m \u001b[38;5;124;03m        Average ROC-AUC score across different labels.\u001b[39;00m\n\u001b[1;32m     31\u001b[0m \u001b[38;5;124;03m    \"\"\"\u001b[39;00m\n\u001b[0;32m---> 33\u001b[0m     roc_auc \u001b[38;5;241m=\u001b[39m \u001b[43mroc_auc_score\u001b[49m\u001b[43m(\u001b[49m\u001b[43my_true\u001b[49m\u001b[38;5;241;43m=\u001b[39;49m\u001b[43mlabel\u001b[49m\u001b[43m,\u001b[49m\u001b[43m \u001b[49m\u001b[43my_score\u001b[49m\u001b[38;5;241;43m=\u001b[39;49m\u001b[43mscore\u001b[49m\u001b[43m)\u001b[49m\n\u001b[1;32m     34\u001b[0m     \u001b[38;5;28;01mreturn\u001b[39;00m roc_auc\n",
      "File \u001b[0;32m~/.conda/envs/cent7/2020.11-py38/py39/lib/python3.9/site-packages/sklearn/utils/_param_validation.py:211\u001b[0m, in \u001b[0;36mvalidate_params.<locals>.decorator.<locals>.wrapper\u001b[0;34m(*args, **kwargs)\u001b[0m\n\u001b[1;32m    205\u001b[0m \u001b[38;5;28;01mtry\u001b[39;00m:\n\u001b[1;32m    206\u001b[0m     \u001b[38;5;28;01mwith\u001b[39;00m config_context(\n\u001b[1;32m    207\u001b[0m         skip_parameter_validation\u001b[38;5;241m=\u001b[39m(\n\u001b[1;32m    208\u001b[0m             prefer_skip_nested_validation \u001b[38;5;129;01mor\u001b[39;00m global_skip_validation\n\u001b[1;32m    209\u001b[0m         )\n\u001b[1;32m    210\u001b[0m     ):\n\u001b[0;32m--> 211\u001b[0m         \u001b[38;5;28;01mreturn\u001b[39;00m \u001b[43mfunc\u001b[49m\u001b[43m(\u001b[49m\u001b[38;5;241;43m*\u001b[39;49m\u001b[43margs\u001b[49m\u001b[43m,\u001b[49m\u001b[43m \u001b[49m\u001b[38;5;241;43m*\u001b[39;49m\u001b[38;5;241;43m*\u001b[39;49m\u001b[43mkwargs\u001b[49m\u001b[43m)\u001b[49m\n\u001b[1;32m    212\u001b[0m \u001b[38;5;28;01mexcept\u001b[39;00m InvalidParameterError \u001b[38;5;28;01mas\u001b[39;00m e:\n\u001b[1;32m    213\u001b[0m     \u001b[38;5;66;03m# When the function is just a wrapper around an estimator, we allow\u001b[39;00m\n\u001b[1;32m    214\u001b[0m     \u001b[38;5;66;03m# the function to delegate validation to the estimator, but we replace\u001b[39;00m\n\u001b[1;32m    215\u001b[0m     \u001b[38;5;66;03m# the name of the estimator by the name of the function in the error\u001b[39;00m\n\u001b[1;32m    216\u001b[0m     \u001b[38;5;66;03m# message to avoid confusion.\u001b[39;00m\n\u001b[1;32m    217\u001b[0m     msg \u001b[38;5;241m=\u001b[39m re\u001b[38;5;241m.\u001b[39msub(\n\u001b[1;32m    218\u001b[0m         \u001b[38;5;124mr\u001b[39m\u001b[38;5;124m\"\u001b[39m\u001b[38;5;124mparameter of \u001b[39m\u001b[38;5;124m\\\u001b[39m\u001b[38;5;124mw+ must be\u001b[39m\u001b[38;5;124m\"\u001b[39m,\n\u001b[1;32m    219\u001b[0m         \u001b[38;5;124mf\u001b[39m\u001b[38;5;124m\"\u001b[39m\u001b[38;5;124mparameter of \u001b[39m\u001b[38;5;132;01m{\u001b[39;00mfunc\u001b[38;5;241m.\u001b[39m\u001b[38;5;18m__qualname__\u001b[39m\u001b[38;5;132;01m}\u001b[39;00m\u001b[38;5;124m must be\u001b[39m\u001b[38;5;124m\"\u001b[39m,\n\u001b[1;32m    220\u001b[0m         \u001b[38;5;28mstr\u001b[39m(e),\n\u001b[1;32m    221\u001b[0m     )\n",
      "File \u001b[0;32m~/.conda/envs/cent7/2020.11-py38/py39/lib/python3.9/site-packages/sklearn/metrics/_ranking.py:626\u001b[0m, in \u001b[0;36mroc_auc_score\u001b[0;34m(y_true, y_score, average, sample_weight, max_fpr, multi_class, labels)\u001b[0m\n\u001b[1;32m    624\u001b[0m     labels \u001b[38;5;241m=\u001b[39m np\u001b[38;5;241m.\u001b[39munique(y_true)\n\u001b[1;32m    625\u001b[0m     y_true \u001b[38;5;241m=\u001b[39m label_binarize(y_true, classes\u001b[38;5;241m=\u001b[39mlabels)[:, \u001b[38;5;241m0\u001b[39m]\n\u001b[0;32m--> 626\u001b[0m     \u001b[38;5;28;01mreturn\u001b[39;00m \u001b[43m_average_binary_score\u001b[49m\u001b[43m(\u001b[49m\n\u001b[1;32m    627\u001b[0m \u001b[43m        \u001b[49m\u001b[43mpartial\u001b[49m\u001b[43m(\u001b[49m\u001b[43m_binary_roc_auc_score\u001b[49m\u001b[43m,\u001b[49m\u001b[43m \u001b[49m\u001b[43mmax_fpr\u001b[49m\u001b[38;5;241;43m=\u001b[39;49m\u001b[43mmax_fpr\u001b[49m\u001b[43m)\u001b[49m\u001b[43m,\u001b[49m\n\u001b[1;32m    628\u001b[0m \u001b[43m        \u001b[49m\u001b[43my_true\u001b[49m\u001b[43m,\u001b[49m\n\u001b[1;32m    629\u001b[0m \u001b[43m        \u001b[49m\u001b[43my_score\u001b[49m\u001b[43m,\u001b[49m\n\u001b[1;32m    630\u001b[0m \u001b[43m        \u001b[49m\u001b[43maverage\u001b[49m\u001b[43m,\u001b[49m\n\u001b[1;32m    631\u001b[0m \u001b[43m        \u001b[49m\u001b[43msample_weight\u001b[49m\u001b[38;5;241;43m=\u001b[39;49m\u001b[43msample_weight\u001b[49m\u001b[43m,\u001b[49m\n\u001b[1;32m    632\u001b[0m \u001b[43m    \u001b[49m\u001b[43m)\u001b[49m\n\u001b[1;32m    633\u001b[0m \u001b[38;5;28;01melse\u001b[39;00m:  \u001b[38;5;66;03m# multilabel-indicator\u001b[39;00m\n\u001b[1;32m    634\u001b[0m     \u001b[38;5;28;01mreturn\u001b[39;00m _average_binary_score(\n\u001b[1;32m    635\u001b[0m         partial(_binary_roc_auc_score, max_fpr\u001b[38;5;241m=\u001b[39mmax_fpr),\n\u001b[1;32m    636\u001b[0m         y_true,\n\u001b[0;32m   (...)\u001b[0m\n\u001b[1;32m    639\u001b[0m         sample_weight\u001b[38;5;241m=\u001b[39msample_weight,\n\u001b[1;32m    640\u001b[0m     )\n",
      "File \u001b[0;32m~/.conda/envs/cent7/2020.11-py38/py39/lib/python3.9/site-packages/sklearn/metrics/_base.py:75\u001b[0m, in \u001b[0;36m_average_binary_score\u001b[0;34m(binary_metric, y_true, y_score, average, sample_weight)\u001b[0m\n\u001b[1;32m     72\u001b[0m     \u001b[38;5;28;01mraise\u001b[39;00m \u001b[38;5;167;01mValueError\u001b[39;00m(\u001b[38;5;124m\"\u001b[39m\u001b[38;5;132;01m{0}\u001b[39;00m\u001b[38;5;124m format is not supported\u001b[39m\u001b[38;5;124m\"\u001b[39m\u001b[38;5;241m.\u001b[39mformat(y_type))\n\u001b[1;32m     74\u001b[0m \u001b[38;5;28;01mif\u001b[39;00m y_type \u001b[38;5;241m==\u001b[39m \u001b[38;5;124m\"\u001b[39m\u001b[38;5;124mbinary\u001b[39m\u001b[38;5;124m\"\u001b[39m:\n\u001b[0;32m---> 75\u001b[0m     \u001b[38;5;28;01mreturn\u001b[39;00m \u001b[43mbinary_metric\u001b[49m\u001b[43m(\u001b[49m\u001b[43my_true\u001b[49m\u001b[43m,\u001b[49m\u001b[43m \u001b[49m\u001b[43my_score\u001b[49m\u001b[43m,\u001b[49m\u001b[43m \u001b[49m\u001b[43msample_weight\u001b[49m\u001b[38;5;241;43m=\u001b[39;49m\u001b[43msample_weight\u001b[49m\u001b[43m)\u001b[49m\n\u001b[1;32m     77\u001b[0m check_consistent_length(y_true, y_score, sample_weight)\n\u001b[1;32m     78\u001b[0m y_true \u001b[38;5;241m=\u001b[39m check_array(y_true)\n",
      "File \u001b[0;32m~/.conda/envs/cent7/2020.11-py38/py39/lib/python3.9/site-packages/sklearn/metrics/_ranking.py:381\u001b[0m, in \u001b[0;36m_binary_roc_auc_score\u001b[0;34m(y_true, y_score, sample_weight, max_fpr)\u001b[0m\n\u001b[1;32m    379\u001b[0m \u001b[38;5;250m\u001b[39m\u001b[38;5;124;03m\"\"\"Binary roc auc score.\"\"\"\u001b[39;00m\n\u001b[1;32m    380\u001b[0m \u001b[38;5;28;01mif\u001b[39;00m \u001b[38;5;28mlen\u001b[39m(np\u001b[38;5;241m.\u001b[39munique(y_true)) \u001b[38;5;241m!=\u001b[39m \u001b[38;5;241m2\u001b[39m:\n\u001b[0;32m--> 381\u001b[0m     \u001b[38;5;28;01mraise\u001b[39;00m \u001b[38;5;167;01mValueError\u001b[39;00m(\n\u001b[1;32m    382\u001b[0m         \u001b[38;5;124m\"\u001b[39m\u001b[38;5;124mOnly one class present in y_true. ROC AUC score \u001b[39m\u001b[38;5;124m\"\u001b[39m\n\u001b[1;32m    383\u001b[0m         \u001b[38;5;124m\"\u001b[39m\u001b[38;5;124mis not defined in that case.\u001b[39m\u001b[38;5;124m\"\u001b[39m\n\u001b[1;32m    384\u001b[0m     )\n\u001b[1;32m    386\u001b[0m fpr, tpr, _ \u001b[38;5;241m=\u001b[39m roc_curve(y_true, y_score, sample_weight\u001b[38;5;241m=\u001b[39msample_weight)\n\u001b[1;32m    387\u001b[0m \u001b[38;5;28;01mif\u001b[39;00m max_fpr \u001b[38;5;129;01mis\u001b[39;00m \u001b[38;5;28;01mNone\u001b[39;00m \u001b[38;5;129;01mor\u001b[39;00m max_fpr \u001b[38;5;241m==\u001b[39m \u001b[38;5;241m1\u001b[39m:\n",
      "\u001b[0;31mValueError\u001b[0m: Only one class present in y_true. ROC AUC score is not defined in that case."
     ]
    },
    {
     "name": "stderr",
     "output_type": "stream",
     "text": [
      "Process ForkPoolWorker-3:\n",
      "Process ForkPoolWorker-1:\n",
      "Process ForkPoolWorker-4:\n",
      "Process ForkPoolWorker-2:\n",
      "Traceback (most recent call last):\n",
      "Traceback (most recent call last):\n",
      "Traceback (most recent call last):\n",
      "Traceback (most recent call last):\n",
      "  File \"/home/roy206/.conda/envs/cent7/2020.11-py38/py39/lib/python3.9/multiprocessing/process.py\", line 315, in _bootstrap\n",
      "    self.run()\n",
      "  File \"/home/roy206/.conda/envs/cent7/2020.11-py38/py39/lib/python3.9/multiprocessing/process.py\", line 315, in _bootstrap\n",
      "    self.run()\n",
      "  File \"/home/roy206/.conda/envs/cent7/2020.11-py38/py39/lib/python3.9/multiprocessing/process.py\", line 315, in _bootstrap\n",
      "    self.run()\n",
      "  File \"/home/roy206/.conda/envs/cent7/2020.11-py38/py39/lib/python3.9/multiprocessing/process.py\", line 315, in _bootstrap\n",
      "    self.run()\n",
      "  File \"/home/roy206/.conda/envs/cent7/2020.11-py38/py39/lib/python3.9/multiprocessing/process.py\", line 108, in run\n",
      "    self._target(*self._args, **self._kwargs)\n",
      "  File \"/home/roy206/.conda/envs/cent7/2020.11-py38/py39/lib/python3.9/multiprocessing/process.py\", line 108, in run\n",
      "    self._target(*self._args, **self._kwargs)\n",
      "  File \"/home/roy206/.conda/envs/cent7/2020.11-py38/py39/lib/python3.9/multiprocessing/pool.py\", line 114, in worker\n",
      "    task = get()\n",
      "  File \"/home/roy206/.conda/envs/cent7/2020.11-py38/py39/lib/python3.9/multiprocessing/queues.py\", line 364, in get\n",
      "    with self._rlock:\n",
      "  File \"/home/roy206/.conda/envs/cent7/2020.11-py38/py39/lib/python3.9/multiprocessing/pool.py\", line 114, in worker\n",
      "    task = get()\n",
      "  File \"/home/roy206/.conda/envs/cent7/2020.11-py38/py39/lib/python3.9/multiprocessing/synchronize.py\", line 95, in __enter__\n",
      "    return self._semlock.__enter__()\n",
      "  File \"/home/roy206/.conda/envs/cent7/2020.11-py38/py39/lib/python3.9/multiprocessing/process.py\", line 108, in run\n",
      "    self._target(*self._args, **self._kwargs)\n",
      "  File \"/home/roy206/.conda/envs/cent7/2020.11-py38/py39/lib/python3.9/multiprocessing/queues.py\", line 364, in get\n",
      "    with self._rlock:\n",
      "  File \"/home/roy206/.conda/envs/cent7/2020.11-py38/py39/lib/python3.9/multiprocessing/pool.py\", line 114, in worker\n",
      "    task = get()\n",
      "  File \"/home/roy206/.conda/envs/cent7/2020.11-py38/py39/lib/python3.9/multiprocessing/synchronize.py\", line 95, in __enter__\n",
      "    return self._semlock.__enter__()\n",
      "  File \"/home/roy206/.conda/envs/cent7/2020.11-py38/py39/lib/python3.9/multiprocessing/process.py\", line 108, in run\n",
      "    self._target(*self._args, **self._kwargs)\n",
      "  File \"/home/roy206/.conda/envs/cent7/2020.11-py38/py39/lib/python3.9/multiprocessing/queues.py\", line 364, in get\n",
      "    with self._rlock:\n",
      "KeyboardInterrupt\n",
      "KeyboardInterrupt\n",
      "  File \"/home/roy206/.conda/envs/cent7/2020.11-py38/py39/lib/python3.9/multiprocessing/synchronize.py\", line 95, in __enter__\n",
      "    return self._semlock.__enter__()\n",
      "  File \"/home/roy206/.conda/envs/cent7/2020.11-py38/py39/lib/python3.9/multiprocessing/pool.py\", line 114, in worker\n",
      "    task = get()\n",
      "  File \"/home/roy206/.conda/envs/cent7/2020.11-py38/py39/lib/python3.9/multiprocessing/queues.py\", line 365, in get\n",
      "    res = self._reader.recv_bytes()\n",
      "KeyboardInterrupt\n",
      "  File \"/home/roy206/.conda/envs/cent7/2020.11-py38/py39/lib/python3.9/multiprocessing/connection.py\", line 216, in recv_bytes\n",
      "    buf = self._recv_bytes(maxlength)\n",
      "  File \"/home/roy206/.conda/envs/cent7/2020.11-py38/py39/lib/python3.9/multiprocessing/connection.py\", line 414, in _recv_bytes\n",
      "    buf = self._recv(4)\n",
      "  File \"/home/roy206/.conda/envs/cent7/2020.11-py38/py39/lib/python3.9/multiprocessing/connection.py\", line 379, in _recv\n",
      "    chunk = read(handle, remaining)\n",
      "KeyboardInterrupt\n"
     ]
    }
   ],
   "source": [
    "import torch\n",
    "import numpy as np\n",
    "import sys, copy, math, time, pdb\n",
    "import pickle as pickle\n",
    "import scipy.io as sio\n",
    "import scipy.sparse as ssp\n",
    "import os\n",
    "import os.path\n",
    "import random\n",
    "import argparse\n",
    "import pickle\n",
    "sys.path.append('/home/roy206/StrGNN/pytorch_DGCNN/')\n",
    "from main import *\n",
    "from util_functions import *\n",
    "from os import path\n",
    "\n",
    "sys.path.append('/home/roy206/StrGNN/')\n",
    "\n",
    "\n",
    "def loop_dataset(g_list, GADNR, sample_idxes, optimizer=None, bsize=cmd_args.batch_size):\n",
    "    total_loss = []\n",
    "    total_iters = (len(sample_idxes) + (bsize - 1) * (optimizer is None)) // bsize\n",
    "    pbar = tqdm(list(range(total_iters)), unit='batch')\n",
    "    all_targets = []\n",
    "    all_scores = []\n",
    "    \n",
    "    best_auc = 0\n",
    "    bestc_auc = 0\n",
    "    bests_auc = 0\n",
    "    bestj_auc = 0\n",
    "    bestsj_auc = 0\n",
    "    \n",
    "\n",
    "    n_samples = 0\n",
    "    for pos in range(total_iters):\n",
    "        selected_idx = sample_idxes[pos * bsize : (pos + 1) * bsize]\n",
    "        \n",
    "        batch_graph = [g_list[idx] for idx in selected_idx]\n",
    "        targets = [g_list[idx][-1].label for idx in selected_idx]\n",
    "        all_targets += targets\n",
    "        \n",
    "        # print(len(batch_graph))\n",
    "        # print(len(all_targets))\n",
    "        \n",
    "        y_list = []\n",
    "        yc_list = []\n",
    "        ys_list = []\n",
    "        yj_list = []\n",
    "        ysj_list = []\n",
    "        \n",
    "        for graphs in batch_graph:\n",
    "            # print(len(graphs))\n",
    "            for graph in graphs:\n",
    "                \n",
    "                if  graph.num_nodes>5 and graph.num_edges > 5:\n",
    "                    \n",
    "                    edgelist = graph.edge_pairs\n",
    "                    total_edges = len(edgelist)//2\n",
    "                    \n",
    "                    edge_pairs = []\n",
    "                    \n",
    "                    for idx in range(total_edges):\n",
    "                        x = edgelist[idx]\n",
    "                        y = edgelist[idx+total_edges]\n",
    "                        edge_pairs.append((x,y))\n",
    "                    \n",
    "                    G = nx.from_edgelist(edge_pairs)\n",
    "                    \n",
    "                    n_param = max(1, G.number_of_nodes() // 20)\n",
    "                    m_param = max(1,(total_edges // G.number_of_nodes()) )\n",
    "                    \n",
    "                    G = from_networkx(G)\n",
    "                    num_nodes = G.num_nodes\n",
    "                    node_feat = torch.rand(num_nodes, 64)                    \n",
    "                    G.x = node_feat\n",
    "                    \n",
    "                    G, yc = gen_contextual_outlier(G,n_param,m_param)\n",
    "                    G, ys = gen_structural_outlier(G,n_param,m_param)\n",
    "                    G, yj = gen_joint_structural_outliers(G,n_param,m_param)\n",
    "                    \n",
    "                    ysj = torch.logical_or(ys, yj).int()\n",
    "                    y = torch.logical_or(yc, ys).int()\n",
    "                    y = torch.logical_or(y, yj).int()\n",
    "                    \n",
    "                    in_nodes = G.edge_index[0,:]\n",
    "                    out_nodes = G.edge_index[1,:]\n",
    "\n",
    "                    neighbor_dict = {}\n",
    "                    for in_node, out_node in zip(in_nodes, out_nodes):\n",
    "                        if in_node.item() not in neighbor_dict:\n",
    "                            neighbor_dict[in_node.item()] = []\n",
    "                        neighbor_dict[in_node.item()].append(out_node.item())\n",
    "\n",
    "                    neighbor_num_list = []\n",
    "                    for i in neighbor_dict:\n",
    "                        neighbor_num_list.append(len(neighbor_dict[i]))\n",
    "\n",
    "                    neighbor_num_list = torch.tensor(neighbor_num_list).to(device)\n",
    "                    \n",
    "                    GADNR.num_nodes = num_nodes\n",
    "                    GADNR.m_batched = torch.distributions.Normal(torch.zeros(sample_size, num_nodes, hidden_dim),\n",
    "                                            torch.ones(sample_size, num_nodes, hidden_dim))\n",
    "                    \n",
    "                    GADNR.neighbor_num_list = neighbor_num_list\n",
    "                    GADNR.std_agg = PNAConv(hidden_dim, hidden_dim, aggregators=[\"std\"],scalers=[\"identity\"], \n",
    "                        deg=GADNR.neighbor_num_list)\n",
    "                    \n",
    "                    G = G.to(device)\n",
    "                    GADNR = GADNR.to(device)\n",
    "                    \n",
    "                    loss,loss_per_node,h_loss,degree_loss,feature_loss = GADNR(G.edge_index, G.x, \n",
    "                    neighbor_num_list, neighbor_dict, device=device)\n",
    "                    \n",
    "                    loss_per_node = loss_per_node.cpu().detach()\n",
    "        \n",
    "                    h_loss = h_loss.cpu().detach()\n",
    "                    degree_loss = degree_loss.cpu().detach()\n",
    "                    feature_loss = feature_loss.cpu().detach()\n",
    "\n",
    "                    # h_loss_norm = h_loss / (torch.max(h_loss) - torch.min(h_loss))\n",
    "                    # degree_loss_norm = degree_loss / (torch.max(degree_loss) - torch.min(degree_loss))\n",
    "                    # feature_loss_norm = feature_loss / (torch.max(feature_loss) - torch.min(feature_loss))\n",
    "                    \n",
    "                    h_loss_weight = 1e-2\n",
    "                    degree_loss_weight = 0.5\n",
    "                    feature_loss_weight = 0.8\n",
    "                    \n",
    "                    if torch.isfinite(h_loss).all() and torch.isfinite(degree_loss).all() and torch.isfinite(feature_loss).all():\n",
    "\n",
    "                        comp_loss = h_loss_weight * h_loss + degree_loss_weight *  degree_loss \n",
    "                        + feature_loss_weight * feature_loss\n",
    "\n",
    "                        # print(\"neighbor num: \", neighbor_num_list)\n",
    "                        # print(\"degree loss: \", degree_loss)\n",
    "\n",
    "                        auc_score = eval_roc_auc(y.numpy(), comp_loss.numpy()) * 100\n",
    "                        # print(\"Dataset Name: \",args.data_name, \", AUC Score(benchmark/combined): \", auc_score)\n",
    "\n",
    "                        contextual_auc_score = eval_roc_auc(yc.numpy(), comp_loss.numpy()) * 100\n",
    "                        # print(\"Dataset Name: \",args.data_name, \", AUC Score (contextual): \", contextual_auc_score)\n",
    "\n",
    "                        dense_structural_auc_score = eval_roc_auc(ys.numpy(), comp_loss.numpy()) * 100\n",
    "                        # print(\"Dataset Name: \",args.data_name, \", AUC Score (structural): \", dense_structural_auc_score)\n",
    "\n",
    "                        joint_structural_auc_score = eval_roc_auc(yj.numpy(), comp_loss.numpy()) * 100\n",
    "                        # print(\"Dataset Name: \",args.data_name, \", AUC Score (joint-type): \", joint_structural_auc_score)\n",
    "\n",
    "                        structure_type_auc_score = eval_roc_auc(ysj.numpy(), comp_loss.numpy()) * 100\n",
    "                        # print(\"Dataset Name: \",args.data_name, \", AUC Score (structure type): \", joint_structural_auc_score) \n",
    "\n",
    "                        y_list.append(auc_score)\n",
    "                        yc_list.append(contextual_auc_score)\n",
    "                        ys_list.append(dense_structural_auc_score)\n",
    "                        yj_list.append(joint_structural_auc_score)\n",
    "                        ysj_list.append(structure_type_auc_score)\n",
    "                    \n",
    "        auc = sum(y_list)/len(y_list)\n",
    "        c_auc = sum(yc_list)/len(yc_list)\n",
    "        s_auc = sum(ys_list)/len(ys_list)\n",
    "        j_auc = sum(yj_list)/len(yj_list)\n",
    "        sj_auc = sum(ysj_list)/len(ysj_list)\n",
    "        \n",
    "        best_auc = max(best_auc, auc)\n",
    "        bestc_auc = max(bestc_auc, c_auc)\n",
    "        bests_auc = max(bests_auc, s_auc)\n",
    "        bestj_auc = max(bestj_auc, j_auc)\n",
    "        bestsj_auc = max(bestsj_auc, sj_auc)\n",
    "        \n",
    "        print(\"Dataset Name: \",args.data_name, \", AUC Score(benchmark/combined): \", best_auc)\n",
    "        print(\"Dataset Name: \",args.data_name, \", AUC Score(contextual): \", bestc_auc)\n",
    "        print(\"Dataset Name: \",args.data_name, \", AUC Score(structural): \", bests_auc)\n",
    "        print(\"Dataset Name: \",args.data_name, \", AUC Score(joint): \", bestj_auc)\n",
    "        print(\"Dataset Name: \",args.data_name, \", AUC Score(joint_structural): \", bestsj_auc)\n",
    "        \n",
    "        # import sys\n",
    "        # sys.exit(0)\n",
    "        \n",
    "        if classifier.regression:\n",
    "            pred, mae, loss = classifier(batch_graph)\n",
    "            all_scores.append(pred.cpu().detach())  # for binary classification\n",
    "        else:\n",
    "            logits, loss, acc = classifier(batch_graph)\n",
    "            all_scores.append(logits[:, 1].cpu().detach())  # for binary classification\n",
    "\n",
    "        if optimizer is not None:\n",
    "            optimizer.zero_grad()\n",
    "            loss.backward()\n",
    "            optimizer.step()\n",
    "\n",
    "        loss = loss.data.cpu().detach().numpy()\n",
    "        if classifier.regression:\n",
    "            pbar.set_description('MSE_loss: %0.5f MAE_loss: %0.5f' % (loss, mae) )\n",
    "            total_loss.append( np.array([loss, mae]) * len(selected_idx))\n",
    "        else:\n",
    "            pbar.set_description('loss: %0.5f acc: %0.5f' % (loss, acc) )\n",
    "            total_loss.append( np.array([loss, acc]) * len(selected_idx))\n",
    "\n",
    "\n",
    "        n_samples += len(selected_idx)\n",
    "    if optimizer is None:\n",
    "        assert n_samples == len(sample_idxes)\n",
    "    total_loss = np.array(total_loss)\n",
    "    avg_loss = np.sum(total_loss, 0) / n_samples\n",
    "    all_scores = torch.cat(all_scores).cpu().numpy()\n",
    "    \n",
    "    # np.savetxt('test_scores.txt', all_scores)  # output test predictions\n",
    "    \n",
    "    if not classifier.regression:\n",
    "        all_targets = np.array(all_targets)\n",
    "        fpr, tpr, _ = metrics.roc_curve(all_targets, all_scores, pos_label=1)\n",
    "        avg_precision = average_precision_score(all_targets, all_scores)\n",
    "        precision, recall, _ = precision_recall_curve(all_targets, all_scores)\n",
    "        auc = metrics.auc(fpr, tpr)\n",
    "        pr_auc = metrics.auc(recall, precision)\n",
    "        avg_loss = np.concatenate((avg_loss, [auc], [avg_precision], [pr_auc]))\n",
    "    return avg_loss\n",
    "\n",
    "os.environ['CUDA_VISIBLE_DEVICES'] = '1'\n",
    "\n",
    "parser = argparse.ArgumentParser()\n",
    "\n",
    "# general settings\n",
    "parser.add_argument('-f')\n",
    "parser.add_argument('--data-name', default='USAir', help='network name')\n",
    "parser.add_argument('--train-name', default=None, help='train name')\n",
    "parser.add_argument('--test-name', default=None, help='test name')\n",
    "parser.add_argument('--max-train-num', type=int, default=100000, \n",
    "                    help='set maximum number of train links (to fit into memory)')\n",
    "parser.add_argument('--no-cuda', action='store_true', default=True,\n",
    "                    help='disables CUDA training')\n",
    "parser.add_argument('--seed', type=int, default=42, metavar='S',\n",
    "                    help='random seed (default: 1)')\n",
    "parser.add_argument('--test-ratio', type=float, default=0.815,\n",
    "                    help='ratio of test links')\n",
    "parser.add_argument('--window', type=int, default=5,\n",
    "                    help='window size')\n",
    "parser.add_argument('--graph', default='acc_email.npy')\n",
    "parser.add_argument('--split', default='email0.05')\n",
    "parser.add_argument('--gpu', default='1', help='gpu number')\n",
    "# model settings\n",
    "parser.add_argument('--hop', default=1, metavar='S', \n",
    "                    help='enclosing subgraph hop number, \\\n",
    "                    options: 1, 2,..., \"auto\"')\n",
    "parser.add_argument('--max-nodes-per-hop', default=None, \n",
    "                    help='if > 0, upper bound the # nodes per hop by subsampling')\n",
    "parser.add_argument('--use-embedding', action='store_true', default=False,\n",
    "                    help='whether to use node2vec node embeddings')\n",
    "parser.add_argument('--use-attribute', action='store_true', default=False,\n",
    "                    help='whether to use node attributes')\n",
    "args = parser.parse_args()\n",
    "\n",
    "\n",
    "os.environ['CUDA_VISIBLE_DEVICES'] = args.gpu\n",
    "\n",
    "args.cuda = not args.no_cuda and torch.cuda.is_available()\n",
    "torch.manual_seed(args.seed)\n",
    "if args.cuda:\n",
    "    torch.cuda.manual_seed(args.seed)\n",
    "print(args)\n",
    "\n",
    "random.seed(cmd_args.seed)\n",
    "np.random.seed(cmd_args.seed)\n",
    "torch.manual_seed(cmd_args.seed)\n",
    "torch.cuda.manual_seed(cmd_args.seed)\n",
    "\n",
    "\n",
    "if args.hop != 'auto':\n",
    "    args.hop = int(args.hop)\n",
    "if args.max_nodes_per_hop is not None:\n",
    "    args.max_nodes_per_hop = int(args.max_nodes_per_hop)\n",
    "\n",
    "\n",
    "'''Prepare data'''\n",
    "args.file_dir = os.path.dirname(os.path.realpath('__file__'))\n",
    "args.res_dir = os.path.join(args.file_dir, 'results/{}'.format(args.data_name))\n",
    "\n",
    "if args.train_name is None:\n",
    "    args.data_dir = os.path.join(args.file_dir, 'data/{}.mat'.format(args.data_name))\n",
    "    \n",
    "    net = np.load('data/'+args.graph, allow_pickle=True)\n",
    "    # net = np.loadtxt('data/'+args.graph,  delimiter=',')\n",
    "    \n",
    "\n",
    "    if False:\n",
    "        net_ = net.toarray()\n",
    "        assert(np.allclose(net_, net_.T, atol=1e-8))\n",
    "    #Sample train and test links\n",
    "    f = np.load('data/'+args.split+'.npz')\n",
    "    # f = np.loadtxt('data/'+args.split+'.npz',  delimiter=',')\n",
    "    \n",
    "    train_pos_id, train_neg_id, test_pos_id, test_neg_id = f['train_pos_id'], f['train_neg_id'], f['test_pos_id'], f['test_neg_id']\n",
    "    train_pos, train_neg, test_pos, test_neg = f['train_pos'], f['train_neg'], f['test_pos'], f['test_neg']\n",
    "else:\n",
    "    args.train_dir = os.path.join(args.file_dir, 'data/{}'.format(args.train_name))\n",
    "    args.test_dir = os.path.join(args.file_dir, 'data/{}'.format(args.test_name))\n",
    "    train_idx = np.loadtxt(args.train_dir, dtype=int)\n",
    "    test_idx = np.loadtxt(args.test_dir, dtype=int)\n",
    "    max_idx = max(np.max(train_idx), np.max(test_idx))\n",
    "    net = ssp.csc_matrix((np.ones(len(train_idx)), (train_idx[:, 0], train_idx[:, 1])), shape=(max_idx+1, max_idx+1))\n",
    "    net[train_idx[:, 1], train_idx[:, 0]] = 1  # add symmetric edges\n",
    "    net[np.arange(max_idx+1), np.arange(max_idx+1)] = 0  # remove self-loops\n",
    "    #Sample negative train and test links\n",
    "    train_pos = (train_idx[:, 0], train_idx[:, 1])\n",
    "    test_pos = (test_idx[:, 0], test_idx[:, 1])\n",
    "    train_pos, train_neg, test_pos, test_neg = sample_dyn(net, train_pos=train_pos, test_pos=test_pos, max_train_num=args.max_train_num)\n",
    "\n",
    "\n",
    "'''Train and apply classifier'''\n",
    "A = net.copy()  # the observed network\n",
    "# A[test_pos[0], test_pos[1]] = 0  # mask test links\n",
    "# A[test_pos[1], test_pos[0]] = 0  # mask test links\n",
    "\n",
    "node_information = None\n",
    "if args.use_embedding:\n",
    "    embeddings = generate_node2vec_embeddings(A, 128, True, train_neg)\n",
    "    node_information = embeddings\n",
    "if args.use_attribute and attributes is not None:\n",
    "    if node_information is not None:\n",
    "        node_information = np.concatenate([node_information, attributes], axis=1)\n",
    "    else:\n",
    "        node_information = attributes\n",
    "\n",
    "if not path.exists('data/'+args.split+'h'+str(args.hop)):\n",
    "    train_graphs, test_graphs, max_n_label = dyn_links2subgraphs(A, args.window, train_pos_id, train_pos, train_neg_id, train_neg, test_pos_id, test_pos, test_neg_id, test_neg, args.hop, args.max_nodes_per_hop, node_information)\n",
    "    \n",
    "    print(('# train: %d, # test: %d' % (len(train_graphs), len(test_graphs))))\n",
    "    with open('data/'+args.split+'h'+str(args.hop), 'wb') as f:\n",
    "        pickle.dump([train_graphs, test_graphs, max_n_label], f, protocol=4)\n",
    "else:\n",
    "    with open('data/'+args.split+'h'+str(args.hop), 'rb') as f:\n",
    "        train_graphs, test_graphs, max_n_label = pickle.load(f)\n",
    "        print(('# train: %d, # test: %d' % (len(train_graphs), len(test_graphs))))\n",
    "        \n",
    "\n",
    "# DGCNN configurations\n",
    "cmd_args.gm = 'DGCNN'\n",
    "cmd_args.sortpooling_k = 0.6\n",
    "cmd_args.latent_dim = [32, 32, 32, 1]\n",
    "cmd_args.hidden = 128\n",
    "cmd_args.out_dim = 0\n",
    "cmd_args.dropout = True\n",
    "cmd_args.num_class = 2\n",
    "cmd_args.mode = 'gpu'\n",
    "cmd_args.num_epochs = 50\n",
    "cmd_args.learning_rate = 1e-4\n",
    "cmd_args.batch_size = 32\n",
    "cmd_args.printAUC = True\n",
    "cmd_args.feat_dim = max_n_label + 1\n",
    "cmd_args.attr_dim = 0\n",
    "cmd_args.window = 5\n",
    "if node_information is not None:\n",
    "    cmd_args.attr_dim = node_information.shape[1]\n",
    "if cmd_args.sortpooling_k <= 1:\n",
    "    A = []\n",
    "    for i in train_graphs:\n",
    "        #print(type(i[-1]))\n",
    "        A.append(i[-1])\n",
    "    for i in test_graphs:\n",
    "        A.append(i[-1])   \n",
    "    #print(type(A[0]))\n",
    "    num_nodes_list = sorted([g.num_nodes for g in A])\n",
    "    cmd_args.sortpooling_k = num_nodes_list[int(math.ceil(cmd_args.sortpooling_k * len(num_nodes_list))) - 1]\n",
    "    cmd_args.sortpooling_k = max(10, cmd_args.sortpooling_k)\n",
    "    print(('k used in SortPooling is: ' + str(cmd_args.sortpooling_k)))\n",
    "\n",
    "in_dim = 64\n",
    "hidden_dim = 64\n",
    "sample_size = 10\n",
    "device = torch.device(\"cuda\" if torch.cuda.is_available() else \"cpu\")\n",
    "encoder = \"GCN\"\n",
    "lambda_loss1 = 1e-2\n",
    "lambda_loss2 = 0.5\n",
    "lambda_loss3 = 0.8\n",
    "\n",
    "    \n",
    "GADNR = GNNStructEncoder(in_dim, hidden_dim, hidden_dim, 2, sample_size, device=device, GNN_name=encoder, \n",
    "                    lambda_loss1=lambda_loss1, lambda_loss2=lambda_loss2,lambda_loss3=lambda_loss3)\n",
    "GADNR.cuda()    \n",
    "    \n",
    "    \n",
    "classifier = Classifier()\n",
    "if cmd_args.mode == 'gpu':\n",
    "    classifier = classifier.cuda()\n",
    "\n",
    "optimizer = optim.Adam(classifier.parameters(), lr=cmd_args.learning_rate)\n",
    "\n",
    "train_idxes = list(range(len(train_graphs)))\n",
    "best_loss = None\n",
    "best_auc = 0\n",
    "for epoch in range(cmd_args.num_epochs):\n",
    "    random.shuffle(train_idxes)\n",
    "    classifier.train()\n",
    "    \n",
    "    avg_loss = loop_dataset(train_graphs, GADNR, train_idxes, optimizer=optimizer)\n",
    "    # print(avg_loss.shape)\n",
    "    # import sys\n",
    "    # sys.exit(0)\n",
    "    if not cmd_args.printAUC:\n",
    "        avg_loss[2] = 0.0\n",
    "    print(('\\033[92maverage training of epoch %d: loss %.5f acc %.5f auc %.5f\\033[0m' % (epoch, avg_loss[0], avg_loss[1], avg_loss[2])))\n",
    "\n",
    "    classifier.eval()\n",
    "    test_loss = loop_dataset(test_graphs, GADNR, list(range(len(test_graphs))))\n",
    "    if not cmd_args.printAUC:\n",
    "        test_loss[2] = 0.0\n",
    "    print(('\\033[93maverage test of epoch %d: loss %.5f acc %.5f auc %.5f avg_precision %.5f precision-recall auc %.5f\\033[0m' % (epoch, test_loss[0], test_loss[1], test_loss[2], test_loss[3], test_loss[4])))\n",
    "    if test_loss[2] > best_auc:\n",
    "        best_auc = test_loss[2]\n",
    "print('best_auc = ', best_auc)\n",
    "\n",
    "# with open('acc_results.txt', 'a+') as f:\n",
    "#     f.write(str(test_loss[1]) + '\\n')\n",
    "\n",
    "# if cmd_args.printAUC:\n",
    "#     with open('auc_results.txt', 'a+') as f:\n",
    "#         f.write(str(test_loss[2]) + '\\n')\n"
   ]
  },
  {
   "cell_type": "code",
   "execution_count": 2,
   "id": "aed821b6-5963-47d8-ab8f-4adf7bd05712",
   "metadata": {},
   "outputs": [
    {
     "data": {
      "text/plain": [
       "True"
      ]
     },
     "execution_count": 2,
     "metadata": {},
     "output_type": "execute_result"
    }
   ],
   "source": [
    "import torch\n",
    "torch.cuda.is_available()"
   ]
  },
  {
   "cell_type": "code",
   "execution_count": null,
   "id": "54fe0348-5d89-441e-8161-62b5df2b43b0",
   "metadata": {},
   "outputs": [],
   "source": []
  },
  {
   "cell_type": "code",
   "execution_count": null,
   "id": "bbb6a866-5267-41c9-b17d-d7072b41d260",
   "metadata": {},
   "outputs": [],
   "source": [
    "# !ipython\n",
    "!import torch\n",
    "!torch.cuda.is_available()"
   ]
  },
  {
   "cell_type": "code",
   "execution_count": null,
   "id": "9e64872f-7653-4cb2-9297-e4751cbd4e15",
   "metadata": {},
   "outputs": [],
   "source": [
    "!source ~/venvs/py39/bin/activate\n",
    "!which python"
   ]
  },
  {
   "cell_type": "code",
   "execution_count": null,
   "id": "ab60ad7a-2746-4848-8fdb-83d3d282a1c0",
   "metadata": {},
   "outputs": [],
   "source": [
    "!jupyter kernelspec uninstall py39"
   ]
  },
  {
   "cell_type": "code",
   "execution_count": null,
   "id": "0fae8010-dfbc-4499-9eb1-972390558ead",
   "metadata": {},
   "outputs": [],
   "source": [
    "!python3"
   ]
  },
  {
   "cell_type": "code",
   "execution_count": null,
   "id": "83df8b97-837d-405c-8d2d-cc425130fafe",
   "metadata": {},
   "outputs": [],
   "source": []
  }
 ],
 "metadata": {
  "kernelspec": {
   "display_name": "py39",
   "language": "python",
   "name": "py39"
  },
  "language_info": {
   "codemirror_mode": {
    "name": "ipython",
    "version": 3
   },
   "file_extension": ".py",
   "mimetype": "text/x-python",
   "name": "python",
   "nbconvert_exporter": "python",
   "pygments_lexer": "ipython3",
   "version": "3.9.18"
  }
 },
 "nbformat": 4,
 "nbformat_minor": 5
}
